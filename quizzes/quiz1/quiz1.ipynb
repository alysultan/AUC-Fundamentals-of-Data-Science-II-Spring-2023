{
  "cells": [
    {
      "cell_type": "markdown",
      "metadata": {
        "colab_type": "text",
        "id": "view-in-github"
      },
      "source": [
        "<a href=\"https://colab.research.google.com/github/ahmedmoustafa/AUC-Fundamentals-of-Data-Science-II-Spring-2023/blob/main/problemsets/quiz1.ipynb\" target=\"_parent\"><img src=\"https://colab.research.google.com/assets/colab-badge.svg\" alt=\"Open In Colab\"/></a>"
      ]
    },
    {
      "cell_type": "markdown",
      "metadata": {
        "id": "6GEwjoWcOHc9"
      },
      "source": [
        "# First Names\n",
        "\n",
        "The first names of the students enrolled in DSCI1412 2 are stored in the `names` list below. (unrelated to the question, but the first names are simply ordered by the last names - not shown)\n"
      ]
    },
    {
      "cell_type": "code",
      "execution_count": 1,
      "metadata": {
        "colab": {
          "background_save": true,
          "base_uri": "https://localhost:8080/"
        },
        "id": "mzU4IpqsN63V",
        "outputId": "d73d5a0a-81b2-48ae-f246-a380098bf07e"
      },
      "outputs": [
        {
          "data": {
            "text/plain": [
              "30"
            ]
          },
          "execution_count": 1,
          "metadata": {},
          "output_type": "execute_result"
        }
      ],
      "source": [
        "names = [\"Malak\", \"Omar\", \"Jana\", \"Aly\", \"Rawan\", \"Yousef\", \"Abdelrahman\", \"Sara\", \"Nour\", \"Kenzie\", \"Charbel\", \"Malak\", \"Shaymaa\", \"Lojane\", \"Khaled\", \"Amr\", \"Lina\", \"Kenzy\", \"Youssef\", \"Nadine\", \"Lorina\", \"Nour\", \"Farah\", \"Adham\", \"Nour\", \"Farah\", \"Abdulrahman\", \"Aly\", \"Jessie\", \"Zeina\"]\n",
        "len(names)"
      ]
    },
    {
      "cell_type": "markdown",
      "metadata": {
        "id": "Tv78TSKOfD49"
      },
      "source": [
        "**Q1.** Write a Python program to count the occurrences of the first names in the class."
      ]
    },
    {
      "cell_type": "markdown",
      "metadata": {
        "id": "Ek_CK3UyGWwd"
      },
      "source": [
        "**Q2.** (**Bonus**) Write the code to find out which first name is the most common in the class?"
      ]
    }
  ],
  "metadata": {
    "colab": {
      "authorship_tag": "ABX9TyMkClEOyTnlZ80L5v6ZkSg5",
      "include_colab_link": true,
      "provenance": []
    },
    "kernelspec": {
      "display_name": "Python 3",
      "language": "python",
      "name": "python3"
    },
    "language_info": {
      "codemirror_mode": {
        "name": "ipython",
        "version": 3
      },
      "file_extension": ".py",
      "mimetype": "text/x-python",
      "name": "python",
      "nbconvert_exporter": "python",
      "pygments_lexer": "ipython3",
      "version": "3.9.7"
    },
    "vscode": {
      "interpreter": {
        "hash": "aee8b7b246df8f9039afb4144a1f6fd8d2ca17a180786b69acc140d282b71a49"
      }
    }
  },
  "nbformat": 4,
  "nbformat_minor": 0
}
