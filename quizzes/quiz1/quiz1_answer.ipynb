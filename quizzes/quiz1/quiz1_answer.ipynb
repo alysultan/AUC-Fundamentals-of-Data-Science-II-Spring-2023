{
  "cells": [
    {
      "cell_type": "markdown",
      "metadata": {
        "colab_type": "text",
        "id": "view-in-github"
      },
      "source": [
        "<a href=\"https://colab.research.google.com/github/ahmedmoustafa/AUC-Fundamentals-of-Data-Science-II-Spring-2023/blob/main/problemsets/quiz1_answer.ipynb\" target=\"_parent\"><img src=\"https://colab.research.google.com/assets/colab-badge.svg\" alt=\"Open In Colab\"/></a>"
      ]
    },
    {
      "cell_type": "markdown",
      "metadata": {
        "id": "6GEwjoWcOHc9"
      },
      "source": [
        "# First Names\n",
        "\n",
        "The first names of the students enrolled in DSCI1412 2 are stored in the `names` list below. (unrelated to the question, but the first names are simply ordered by the last names - not shown)"
      ]
    },
    {
      "cell_type": "code",
      "execution_count": 1,
      "metadata": {
        "id": "mzU4IpqsN63V"
      },
      "outputs": [],
      "source": [
        "names = [\"Malak\", \"Omar\", \"Jana\", \"Aly\", \"Rawan\", \"Yousef\", \"Abdelrahman\", \"Sara\", \"Nour\", \"Kenzie\", \"Charbel\", \"Malak\", \"Shaymaa\", \"Lojane\", \"Khaled\", \"Amr\", \"Lina\", \"Kenzy\", \"Youssef\", \"Nadine\", \"Lorina\", \"Nour\", \"Farah\", \"Adham\", \"Nour\", \"Farah\", \"Abdulrahman\", \"Aly\", \"Jessie\", \"Zeina\"]"
      ]
    },
    {
      "cell_type": "markdown",
      "metadata": {
        "id": "Tv78TSKOfD49"
      },
      "source": [
        "## Q1.\n",
        "\n",
        "Write a Python program to count the occurrences of the first names in the class."
      ]
    },
    {
      "attachments": {},
      "cell_type": "markdown",
      "metadata": {
        "id": "A1yedfblocl3"
      },
      "source": [
        "### Answer\n",
        "\n",
        "To begin, we will generate a list of unique names from the original list, removing duplicates. The list of unique names will be referred to as `unique_names.`"
      ]
    },
    {
      "cell_type": "code",
      "execution_count": 2,
      "metadata": {
        "colab": {
          "base_uri": "https://localhost:8080/"
        },
        "id": "ItP7T4VlOEv6",
        "outputId": "8ad3498b-8834-46ec-ca9b-a6b6dda3dafb"
      },
      "outputs": [
        {
          "name": "stdout",
          "output_type": "stream",
          "text": [
            "['Malak', 'Omar', 'Jana', 'Aly', 'Rawan', 'Yousef', 'Abdelrahman', 'Sara', 'Nour', 'Kenzie', 'Charbel', 'Shaymaa', 'Lojane', 'Khaled', 'Amr', 'Lina', 'Kenzy', 'Youssef', 'Nadine', 'Lorina', 'Farah', 'Adham', 'Abdulrahman', 'Jessie', 'Zeina']\n"
          ]
        }
      ],
      "source": [
        "unique_names = [] # start with an empty list\n",
        "\n",
        "for name in names: # for each name in the original list\n",
        "  if name not in unique_names: # if the name has not been added to the unique list\n",
        "    unique_names.append (name) # add it to the unique list (otherwise do nothing)\n",
        "\n",
        "print(unique_names)"
      ]
    },
    {
      "cell_type": "code",
      "execution_count": 3,
      "metadata": {
        "colab": {
          "base_uri": "https://localhost:8080/"
        },
        "id": "RbfvM51nfYOM",
        "outputId": "bfe5157a-e764-427a-fa2d-24595f68eb43"
      },
      "outputs": [
        {
          "name": "stdout",
          "output_type": "stream",
          "text": [
            "Number of orignial names: 30\n",
            "Number of unique names: 25\n"
          ]
        }
      ],
      "source": [
        "print(\"Number of orignial names:\", len(names))\n",
        "print(\"Number of unique names:\", len(unique_names))"
      ]
    },
    {
      "cell_type": "markdown",
      "metadata": {
        "id": "FbQWxuyupJoi"
      },
      "source": [
        "Following that, we will go through the list of unique names, calculating their counts in the original list and storing them in a dictionary with the keys being the names and the values being the counts in the original list."
      ]
    },
    {
      "cell_type": "code",
      "execution_count": 4,
      "metadata": {
        "colab": {
          "base_uri": "https://localhost:8080/"
        },
        "id": "neKXercMgJ3C",
        "outputId": "d787adca-f354-44b5-8866-953daa4d4903"
      },
      "outputs": [
        {
          "name": "stdout",
          "output_type": "stream",
          "text": [
            "{'Malak': 2, 'Omar': 1, 'Jana': 1, 'Aly': 2, 'Rawan': 1, 'Yousef': 1, 'Abdelrahman': 1, 'Sara': 1, 'Nour': 3, 'Kenzie': 1, 'Charbel': 1, 'Shaymaa': 1, 'Lojane': 1, 'Khaled': 1, 'Amr': 1, 'Lina': 1, 'Kenzy': 1, 'Youssef': 1, 'Nadine': 1, 'Lorina': 1, 'Farah': 2, 'Adham': 1, 'Abdulrahman': 1, 'Jessie': 1, 'Zeina': 1}\n"
          ]
        }
      ],
      "source": [
        "counts = {} # start with an empty dictionary \n",
        "\n",
        "for name in unique_names: # for each name in the unique list\n",
        "  counts[name] = names.count(name) # get the count of that name in the original list and put in the dictionary\n",
        "\n",
        "print(counts)"
      ]
    },
    {
      "cell_type": "markdown",
      "metadata": {
        "id": "-R8ZSjWTgr6A"
      },
      "source": [
        "## Q2.\n",
        "\n",
        "Write the code to find out which first name is the most common in the class?"
      ]
    },
    {
      "cell_type": "markdown",
      "metadata": {
        "id": "TiCgO7JLofuu"
      },
      "source": [
        "### Answer\n",
        "\n",
        "Bascially we will go over the above dictionary `counts` to capture the maximum count."
      ]
    },
    {
      "cell_type": "code",
      "execution_count": 5,
      "metadata": {
        "colab": {
          "base_uri": "https://localhost:8080/"
        },
        "id": "-NOv03nTgfIr",
        "outputId": "a4f96584-f02a-419b-adb9-55cd393bc90a"
      },
      "outputs": [
        {
          "name": "stdout",
          "output_type": "stream",
          "text": [
            "The most common first name is Nour with a frequency of 3 out of 30 names in the class\n"
          ]
        }
      ],
      "source": [
        "max_count = -1 # set max count to a samll value (a value that cannot be the max)\n",
        "max_position = -1 # keep track of the position with the max count (which item in the list has the max count)\n",
        "current_position = 0 # simply the current position in the list of unique names\n",
        "\n",
        "for name in unique_names: # for each name in the unique list\n",
        "  if counts[name] > max_count: # if the corresponding count of that name is greater than the max\n",
        "    max_count = counts[name] # set the max to the count of that name\n",
        "    max_position = current_position # set the position of the max to the current position\n",
        "  current_position += 1 # move the current position by one to next name in the list or next position\n",
        "\n",
        "print(\"The most common first name is\", unique_names[max_position], \"with a frequency of\", max_count, \"out of\", len(names), \"names in the class\")"
      ]
    },
    {
      "cell_type": "markdown",
      "metadata": {
        "id": "n3NSVY0oq4ck"
      },
      "source": [
        "**Note:** If more than one name has the same maximum number of occurrences, the above logic will only capture one of them, whichever comes first in the list of unique names."
      ]
    }
  ],
  "metadata": {
    "colab": {
      "authorship_tag": "ABX9TyNtoQk/XiWbv817EclI2gEU",
      "include_colab_link": true,
      "provenance": []
    },
    "kernelspec": {
      "display_name": "Python 3",
      "language": "python",
      "name": "python3"
    },
    "language_info": {
      "codemirror_mode": {
        "name": "ipython",
        "version": 3
      },
      "file_extension": ".py",
      "mimetype": "text/x-python",
      "name": "python",
      "nbconvert_exporter": "python",
      "pygments_lexer": "ipython3",
      "version": "3.9.7"
    },
    "vscode": {
      "interpreter": {
        "hash": "aee8b7b246df8f9039afb4144a1f6fd8d2ca17a180786b69acc140d282b71a49"
      }
    }
  },
  "nbformat": 4,
  "nbformat_minor": 0
}
