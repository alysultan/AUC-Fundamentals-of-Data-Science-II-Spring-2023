{
  "cells": [
    {
      "cell_type": "markdown",
      "metadata": {
        "colab_type": "text",
        "id": "view-in-github"
      },
      "source": [
        "<a href=\"https://colab.research.google.com/github/ahmedmoustafa/glioma/blob/main/glioma.ipynb\" target=\"_parent\"><img src=\"https://colab.research.google.com/assets/colab-badge.svg\" alt=\"Open In Colab\"/></a>"
      ]
    },
    {
      "cell_type": "markdown",
      "metadata": {
        "id": "JsIDS49iZRFg"
      },
      "source": [
        "# Glioma"
      ]
    },
    {
      "cell_type": "code",
      "execution_count": 1,
      "metadata": {
        "id": "Sy9qR4boY5yl"
      },
      "outputs": [],
      "source": [
        "import pandas as pd # Import the pandas package using the alias 'pd'\n",
        "import seaborn as sns # Import the seaborn package using the alias 'sns'"
      ]
    },
    {
      "cell_type": "code",
      "execution_count": 2,
      "metadata": {
        "colab": {
          "base_uri": "https://localhost:8080/"
        },
        "id": "uOnpAV_VZU1w",
        "outputId": "c4bdb847-8d10-492a-a4c9-280189872b89"
      },
      "outputs": [
        {
          "data": {
            "text/plain": [
              "(839, 10)"
            ]
          },
          "execution_count": 2,
          "metadata": {},
          "output_type": "execute_result"
        }
      ],
      "source": [
        "df = pd.read_table(\"https://tinyurl.com/yvcdjcyz\") # Read and load the tsv data file into a DataFrame\n",
        "df.shape"
      ]
    },
    {
      "cell_type": "code",
      "execution_count": 3,
      "metadata": {
        "colab": {
          "base_uri": "https://localhost:8080/",
          "height": 206
        },
        "id": "mplQjFyrZhrt",
        "outputId": "a67df258-1f54-47df-82f5-6b3e5bfa3637"
      },
      "outputs": [
        {
          "data": {
            "text/html": [
              "<div>\n",
              "<style scoped>\n",
              "    .dataframe tbody tr th:only-of-type {\n",
              "        vertical-align: middle;\n",
              "    }\n",
              "\n",
              "    .dataframe tbody tr th {\n",
              "        vertical-align: top;\n",
              "    }\n",
              "\n",
              "    .dataframe thead th {\n",
              "        text-align: right;\n",
              "    }\n",
              "</style>\n",
              "<table border=\"1\" class=\"dataframe\">\n",
              "  <thead>\n",
              "    <tr style=\"text-align: right;\">\n",
              "      <th></th>\n",
              "      <th>ID</th>\n",
              "      <th>Grade</th>\n",
              "      <th>Sex</th>\n",
              "      <th>Age_at_diagnosis</th>\n",
              "      <th>Race</th>\n",
              "      <th>TP53</th>\n",
              "      <th>PTEN</th>\n",
              "      <th>EGFR</th>\n",
              "      <th>NF1</th>\n",
              "      <th>NOTCH1</th>\n",
              "    </tr>\n",
              "  </thead>\n",
              "  <tbody>\n",
              "    <tr>\n",
              "      <th>0</th>\n",
              "      <td>1</td>\n",
              "      <td>0</td>\n",
              "      <td>0</td>\n",
              "      <td>51.30</td>\n",
              "      <td>0</td>\n",
              "      <td>0</td>\n",
              "      <td>0</td>\n",
              "      <td>0</td>\n",
              "      <td>0</td>\n",
              "      <td>0</td>\n",
              "    </tr>\n",
              "    <tr>\n",
              "      <th>1</th>\n",
              "      <td>2</td>\n",
              "      <td>0</td>\n",
              "      <td>0</td>\n",
              "      <td>38.72</td>\n",
              "      <td>0</td>\n",
              "      <td>0</td>\n",
              "      <td>0</td>\n",
              "      <td>0</td>\n",
              "      <td>0</td>\n",
              "      <td>0</td>\n",
              "    </tr>\n",
              "    <tr>\n",
              "      <th>2</th>\n",
              "      <td>3</td>\n",
              "      <td>0</td>\n",
              "      <td>0</td>\n",
              "      <td>35.17</td>\n",
              "      <td>0</td>\n",
              "      <td>1</td>\n",
              "      <td>0</td>\n",
              "      <td>0</td>\n",
              "      <td>0</td>\n",
              "      <td>0</td>\n",
              "    </tr>\n",
              "    <tr>\n",
              "      <th>3</th>\n",
              "      <td>4</td>\n",
              "      <td>0</td>\n",
              "      <td>1</td>\n",
              "      <td>32.78</td>\n",
              "      <td>0</td>\n",
              "      <td>1</td>\n",
              "      <td>0</td>\n",
              "      <td>0</td>\n",
              "      <td>0</td>\n",
              "      <td>0</td>\n",
              "    </tr>\n",
              "    <tr>\n",
              "      <th>4</th>\n",
              "      <td>5</td>\n",
              "      <td>0</td>\n",
              "      <td>0</td>\n",
              "      <td>31.51</td>\n",
              "      <td>0</td>\n",
              "      <td>1</td>\n",
              "      <td>0</td>\n",
              "      <td>0</td>\n",
              "      <td>0</td>\n",
              "      <td>0</td>\n",
              "    </tr>\n",
              "  </tbody>\n",
              "</table>\n",
              "</div>"
            ],
            "text/plain": [
              "   ID  Grade  Sex  Age_at_diagnosis  Race  TP53  PTEN  EGFR  NF1  NOTCH1\n",
              "0   1      0    0             51.30     0     0     0     0    0       0\n",
              "1   2      0    0             38.72     0     0     0     0    0       0\n",
              "2   3      0    0             35.17     0     1     0     0    0       0\n",
              "3   4      0    1             32.78     0     1     0     0    0       0\n",
              "4   5      0    0             31.51     0     1     0     0    0       0"
            ]
          },
          "execution_count": 3,
          "metadata": {},
          "output_type": "execute_result"
        }
      ],
      "source": [
        "df.head()"
      ]
    },
    {
      "cell_type": "markdown",
      "metadata": {
        "id": "Cf6CpVvZZtSd"
      },
      "source": [
        "---\n",
        "**Q1: What is the median age at diagnosis for both Glioblastoma Multiforme (GBM) and Low-Grade Glioma (LGG)? (5 points numerical answer + 5 points graphical answer)**"
      ]
    },
    {
      "cell_type": "code",
      "execution_count": null,
      "metadata": {
        "id": "hLi7GfOtZuji"
      },
      "outputs": [],
      "source": []
    },
    {
      "cell_type": "markdown",
      "metadata": {
        "id": "5qURuezSZvU_"
      },
      "source": [
        "---\n",
        "**Q2: Which glioma grade has a higher prevalence in males compared to females? (5 points numerical answer + 5 points graphical answer)**"
      ]
    },
    {
      "cell_type": "code",
      "execution_count": null,
      "metadata": {
        "id": "JHO5qd0_Zw06"
      },
      "outputs": [],
      "source": []
    },
    {
      "cell_type": "markdown",
      "metadata": {
        "id": "yMERwjNFZyNj"
      },
      "source": [
        "---\n",
        "**Q3: What is the median age at diagnosis for Glioblastoma Multiforme (GBM) and Low-Grade Glioma (LGG) when considering gender? (5 points numerical answer + 5 points graphical answer)**"
      ]
    },
    {
      "cell_type": "code",
      "execution_count": null,
      "metadata": {
        "id": "c-Sb7giGZy0h"
      },
      "outputs": [],
      "source": []
    },
    {
      "cell_type": "markdown",
      "metadata": {
        "id": "rshIi4JuZ0K_"
      },
      "source": [
        "---\n",
        "**Q4: Is there a difference in age at diagnosis based on the patient's race? (5 points numerical answer + 5 points graphical answer)**"
      ]
    },
    {
      "cell_type": "code",
      "execution_count": null,
      "metadata": {
        "id": "50sA3SZRZ1H5"
      },
      "outputs": [],
      "source": []
    },
    {
      "cell_type": "markdown",
      "metadata": {
        "id": "1q6J7iISZ4Ql"
      },
      "source": [
        "---\n",
        "**Q5: Among the five mentioned genes, which one is more frequently mutated in each glioma grade? (5 points numerical  + 5 points graphical answer)**"
      ]
    },
    {
      "cell_type": "code",
      "execution_count": null,
      "metadata": {
        "id": "3HHGg4-hZ5NA"
      },
      "outputs": [],
      "source": []
    },
    {
      "cell_type": "markdown",
      "metadata": {
        "id": "MSqX1Q4GZ6x_"
      },
      "source": [
        "---\n",
        "**Q6: Do mutation frequencies of the mentioned genes vary according to the patient's race? (5 points numerical answer + 5 points graphical answer)**"
      ]
    },
    {
      "cell_type": "code",
      "execution_count": null,
      "metadata": {
        "id": "B2ztVu0KZ7Zw"
      },
      "outputs": [],
      "source": []
    },
    {
      "cell_type": "markdown",
      "metadata": {
        "id": "jTG0Zk-zZ9IV"
      },
      "source": [
        "---\n",
        "**Q7: In individual patients, who has the highest number of mutations across all the mentioned genes? (5 *bonus* points numerical answer)**"
      ]
    },
    {
      "cell_type": "code",
      "execution_count": null,
      "metadata": {
        "id": "EGO1I8nuZ92v"
      },
      "outputs": [],
      "source": []
    }
  ],
  "metadata": {
    "colab": {
      "authorship_tag": "ABX9TyOl3Zz2WBX09n4e+mu8xN3J",
      "include_colab_link": true,
      "provenance": []
    },
    "kernelspec": {
      "display_name": "Python 3",
      "name": "python3"
    },
    "language_info": {
      "codemirror_mode": {
        "name": "ipython",
        "version": 3
      },
      "file_extension": ".py",
      "mimetype": "text/x-python",
      "name": "python",
      "nbconvert_exporter": "python",
      "pygments_lexer": "ipython3",
      "version": "3.11.1"
    }
  },
  "nbformat": 4,
  "nbformat_minor": 0
}
