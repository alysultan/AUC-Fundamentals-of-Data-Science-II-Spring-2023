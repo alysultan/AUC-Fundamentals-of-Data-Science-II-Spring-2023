{
 "cells": [
  {
   "cell_type": "markdown",
   "metadata": {
    "colab_type": "text",
    "id": "view-in-github"
   },
   "source": [
    "<a href=\"https://colab.research.google.com/github/ahmedmoustafa/AUC-Fundamentals-of-Data-Science-II-Spring-2023/blob/main/examples/maternal-smoking/smoking.ipynb\" target=\"_parent\"><img src=\"https://colab.research.google.com/assets/colab-badge.svg\" alt=\"Open In Colab\"/></a>"
   ]
  },
  {
   "cell_type": "markdown",
   "metadata": {
    "id": "aBg1rOzmEkmp"
   },
   "source": [
    "# Maternal Smoking"
   ]
  },
  {
   "attachments": {},
   "cell_type": "markdown",
   "metadata": {},
   "source": [
    "First, we need to import the packages (libraries) that will be used in the analysis, [Pandas](https://pandas.pydata.org/) for data loading and wrangling, and [Seaborn](https://seaborn.pydata.org/) for data visualization."
   ]
  },
  {
   "cell_type": "code",
   "execution_count": 1,
   "metadata": {
    "id": "xuhWjeg7EeWk"
   },
   "outputs": [],
   "source": [
    "import pandas as pd # Import the pandas package using the alias 'pd'\n",
    "import seaborn as sns # Import the seaborn package using the alias 'sns'"
   ]
  },
  {
   "attachments": {},
   "cell_type": "markdown",
   "metadata": {},
   "source": [
    "Now, we can easily access the data from an online [`TSV`](https://en.wikipedia.org/wiki/Tab-separated_values) file using Pandas' [read_table()](https://pandas.pydata.org/docs/reference/api/pandas.read_table.html) function. Before moving forward, you may want to open and examine the data file at this link: [https://tinyurl.com/mpd4jx9n](https://tinyurl.com/mpd4jx9n). This will help you gain a better understanding of the data's structure and content."
   ]
  },
  {
   "cell_type": "code",
   "execution_count": 2,
   "metadata": {
    "colab": {
     "base_uri": "https://localhost:8080/"
    },
    "id": "lwP2QUWcE-qG",
    "outputId": "c5d64511-e103-4ce0-d629-9dcd8d9064fa"
   },
   "outputs": [
    {
     "data": {
      "text/plain": [
       "(610, 20)"
      ]
     },
     "execution_count": 2,
     "metadata": {},
     "output_type": "execute_result"
    }
   ],
   "source": [
    "df = pd.read_table(\"https://tinyurl.com/mpd4jx9n\") # Read and load the tsv data file into a DataFrame\n",
    "df.shape"
   ]
  },
  {
   "attachments": {},
   "cell_type": "markdown",
   "metadata": {},
   "source": [
    "The data got loaded successfully into a Pandas [`DataFrame`](https://pandas.pydata.org/docs/reference/api/pandas.DataFrame.html) variable called `df`. The [`shape`](https://pandas.pydata.org/docs/reference/api/pandas.DataFrame.shape.html) of the `dataframe` shows that there are `610` rows (records) and `20` columns."
   ]
  },
  {
   "attachments": {},
   "cell_type": "markdown",
   "metadata": {},
   "source": [
    "Let's take a quick look at the data using the [`head()`](https://pandas.pydata.org/docs/reference/api/pandas.DataFrame.head.html) function."
   ]
  },
  {
   "cell_type": "code",
   "execution_count": 3,
   "metadata": {
    "colab": {
     "base_uri": "https://localhost:8080/",
     "height": 206
    },
    "id": "ZkziwPBjFGpM",
    "outputId": "0242a042-585f-4413-d637-b9ce8947c5e6"
   },
   "outputs": [
    {
     "data": {
      "text/html": [
       "<div>\n",
       "<style scoped>\n",
       "    .dataframe tbody tr th:only-of-type {\n",
       "        vertical-align: middle;\n",
       "    }\n",
       "\n",
       "    .dataframe tbody tr th {\n",
       "        vertical-align: top;\n",
       "    }\n",
       "\n",
       "    .dataframe thead th {\n",
       "        text-align: right;\n",
       "    }\n",
       "</style>\n",
       "<table border=\"1\" class=\"dataframe\">\n",
       "  <thead>\n",
       "    <tr style=\"text-align: right;\">\n",
       "      <th></th>\n",
       "      <th>id</th>\n",
       "      <th>date</th>\n",
       "      <th>gestation</th>\n",
       "      <th>weight</th>\n",
       "      <th>parity</th>\n",
       "      <th>mom.race</th>\n",
       "      <th>mom.age</th>\n",
       "      <th>mom.edu</th>\n",
       "      <th>mom.height</th>\n",
       "      <th>mom.weight</th>\n",
       "      <th>dad.race</th>\n",
       "      <th>dad.age</th>\n",
       "      <th>dad.edu</th>\n",
       "      <th>dad.height</th>\n",
       "      <th>dad.weight</th>\n",
       "      <th>marital</th>\n",
       "      <th>income</th>\n",
       "      <th>smoke</th>\n",
       "      <th>quit.time</th>\n",
       "      <th>cigs</th>\n",
       "    </tr>\n",
       "  </thead>\n",
       "  <tbody>\n",
       "    <tr>\n",
       "      <th>0</th>\n",
       "      <td>15</td>\n",
       "      <td>1411</td>\n",
       "      <td>284</td>\n",
       "      <td>120</td>\n",
       "      <td>1</td>\n",
       "      <td>asian</td>\n",
       "      <td>27</td>\n",
       "      <td>5</td>\n",
       "      <td>62</td>\n",
       "      <td>100</td>\n",
       "      <td>asian</td>\n",
       "      <td>31</td>\n",
       "      <td>5</td>\n",
       "      <td>65</td>\n",
       "      <td>110</td>\n",
       "      <td>1</td>\n",
       "      <td>1</td>\n",
       "      <td>never</td>\n",
       "      <td>0</td>\n",
       "      <td>0</td>\n",
       "    </tr>\n",
       "    <tr>\n",
       "      <th>1</th>\n",
       "      <td>20</td>\n",
       "      <td>1499</td>\n",
       "      <td>282</td>\n",
       "      <td>113</td>\n",
       "      <td>2</td>\n",
       "      <td>white</td>\n",
       "      <td>33</td>\n",
       "      <td>5</td>\n",
       "      <td>64</td>\n",
       "      <td>135</td>\n",
       "      <td>white</td>\n",
       "      <td>38</td>\n",
       "      <td>5</td>\n",
       "      <td>70</td>\n",
       "      <td>148</td>\n",
       "      <td>1</td>\n",
       "      <td>4</td>\n",
       "      <td>never</td>\n",
       "      <td>0</td>\n",
       "      <td>0</td>\n",
       "    </tr>\n",
       "    <tr>\n",
       "      <th>2</th>\n",
       "      <td>100</td>\n",
       "      <td>1673</td>\n",
       "      <td>286</td>\n",
       "      <td>136</td>\n",
       "      <td>4</td>\n",
       "      <td>white</td>\n",
       "      <td>25</td>\n",
       "      <td>2</td>\n",
       "      <td>62</td>\n",
       "      <td>93</td>\n",
       "      <td>white</td>\n",
       "      <td>28</td>\n",
       "      <td>2</td>\n",
       "      <td>64</td>\n",
       "      <td>130</td>\n",
       "      <td>1</td>\n",
       "      <td>4</td>\n",
       "      <td>until_pregnancy</td>\n",
       "      <td>2</td>\n",
       "      <td>2</td>\n",
       "    </tr>\n",
       "    <tr>\n",
       "      <th>3</th>\n",
       "      <td>129</td>\n",
       "      <td>1562</td>\n",
       "      <td>245</td>\n",
       "      <td>132</td>\n",
       "      <td>2</td>\n",
       "      <td>black</td>\n",
       "      <td>23</td>\n",
       "      <td>1</td>\n",
       "      <td>65</td>\n",
       "      <td>140</td>\n",
       "      <td>black</td>\n",
       "      <td>23</td>\n",
       "      <td>4</td>\n",
       "      <td>71</td>\n",
       "      <td>192</td>\n",
       "      <td>1</td>\n",
       "      <td>2</td>\n",
       "      <td>never</td>\n",
       "      <td>0</td>\n",
       "      <td>0</td>\n",
       "    </tr>\n",
       "    <tr>\n",
       "      <th>4</th>\n",
       "      <td>142</td>\n",
       "      <td>1408</td>\n",
       "      <td>289</td>\n",
       "      <td>120</td>\n",
       "      <td>3</td>\n",
       "      <td>white</td>\n",
       "      <td>25</td>\n",
       "      <td>4</td>\n",
       "      <td>62</td>\n",
       "      <td>125</td>\n",
       "      <td>white</td>\n",
       "      <td>26</td>\n",
       "      <td>1</td>\n",
       "      <td>70</td>\n",
       "      <td>180</td>\n",
       "      <td>0</td>\n",
       "      <td>2</td>\n",
       "      <td>never</td>\n",
       "      <td>0</td>\n",
       "      <td>0</td>\n",
       "    </tr>\n",
       "  </tbody>\n",
       "</table>\n",
       "</div>"
      ],
      "text/plain": [
       "    id  date  gestation  weight  parity mom.race  mom.age  mom.edu  \\\n",
       "0   15  1411        284     120       1    asian       27        5   \n",
       "1   20  1499        282     113       2    white       33        5   \n",
       "2  100  1673        286     136       4    white       25        2   \n",
       "3  129  1562        245     132       2    black       23        1   \n",
       "4  142  1408        289     120       3    white       25        4   \n",
       "\n",
       "   mom.height  mom.weight dad.race  dad.age  dad.edu  dad.height  dad.weight  \\\n",
       "0          62         100    asian       31        5          65         110   \n",
       "1          64         135    white       38        5          70         148   \n",
       "2          62          93    white       28        2          64         130   \n",
       "3          65         140    black       23        4          71         192   \n",
       "4          62         125    white       26        1          70         180   \n",
       "\n",
       "   marital  income            smoke  quit.time  cigs  \n",
       "0        1       1            never          0     0  \n",
       "1        1       4            never          0     0  \n",
       "2        1       4  until_pregnancy          2     2  \n",
       "3        1       2            never          0     0  \n",
       "4        0       2            never          0     0  "
      ]
     },
     "execution_count": 3,
     "metadata": {},
     "output_type": "execute_result"
    }
   ],
   "source": [
    "df.head()"
   ]
  },
  {
   "attachments": {},
   "cell_type": "markdown",
   "metadata": {},
   "source": [
    "---"
   ]
  },
  {
   "cell_type": "markdown",
   "metadata": {
    "id": "YEvzA3RdX9BD"
   },
   "source": [
    "## Q1. Does the mom's smoking pattern affect the newborn birth weight?"
   ]
  },
  {
   "attachments": {},
   "cell_type": "markdown",
   "metadata": {},
   "source": [
    "### Numerically"
   ]
  },
  {
   "attachments": {},
   "cell_type": "markdown",
   "metadata": {},
   "source": [
    "Let's first see how many different smoking patterns exist in the dataset. We will use the `groupby` function to group the rows (records) in the `DataFrame` by the `smoke` column (variable). Then count the number of different row per each smoking pattern using the `size` function."
   ]
  },
  {
   "cell_type": "code",
   "execution_count": 4,
   "metadata": {},
   "outputs": [
    {
     "data": {
      "text/plain": [
       "smoke\n",
       "never              282\n",
       "now                216\n",
       "once_not_now        60\n",
       "until_pregnancy     52\n",
       "dtype: int64"
      ]
     },
     "execution_count": 4,
     "metadata": {},
     "output_type": "execute_result"
    }
   ],
   "source": [
    "df.groupby('smoke').size()"
   ]
  },
  {
   "attachments": {},
   "cell_type": "markdown",
   "metadata": {},
   "source": [
    "From the above, we can see that there are four different smoking patterns, `never` (282 rows), `once_not_now` (60 rows), `until_pregnancy` (52 rows), and `now` (216 rows)."
   ]
  },
  {
   "attachments": {},
   "cell_type": "markdown",
   "metadata": {},
   "source": [
    "Now, let's look at average baby weights for each of these patterns by grouping them and aggregating them by taking `median` of the `weight`."
   ]
  },
  {
   "cell_type": "code",
   "execution_count": 5,
   "metadata": {},
   "outputs": [
    {
     "data": {
      "text/html": [
       "<div>\n",
       "<style scoped>\n",
       "    .dataframe tbody tr th:only-of-type {\n",
       "        vertical-align: middle;\n",
       "    }\n",
       "\n",
       "    .dataframe tbody tr th {\n",
       "        vertical-align: top;\n",
       "    }\n",
       "\n",
       "    .dataframe thead th {\n",
       "        text-align: right;\n",
       "    }\n",
       "</style>\n",
       "<table border=\"1\" class=\"dataframe\">\n",
       "  <thead>\n",
       "    <tr style=\"text-align: right;\">\n",
       "      <th></th>\n",
       "      <th>smoke</th>\n",
       "      <th>Median_Baby_Weight</th>\n",
       "    </tr>\n",
       "  </thead>\n",
       "  <tbody>\n",
       "    <tr>\n",
       "      <th>0</th>\n",
       "      <td>never</td>\n",
       "      <td>123.0</td>\n",
       "    </tr>\n",
       "    <tr>\n",
       "      <th>1</th>\n",
       "      <td>now</td>\n",
       "      <td>114.5</td>\n",
       "    </tr>\n",
       "    <tr>\n",
       "      <th>2</th>\n",
       "      <td>once_not_now</td>\n",
       "      <td>123.5</td>\n",
       "    </tr>\n",
       "    <tr>\n",
       "      <th>3</th>\n",
       "      <td>until_pregnancy</td>\n",
       "      <td>124.5</td>\n",
       "    </tr>\n",
       "  </tbody>\n",
       "</table>\n",
       "</div>"
      ],
      "text/plain": [
       "             smoke  Median_Baby_Weight\n",
       "0            never               123.0\n",
       "1              now               114.5\n",
       "2     once_not_now               123.5\n",
       "3  until_pregnancy               124.5"
      ]
     },
     "execution_count": 5,
     "metadata": {},
     "output_type": "execute_result"
    }
   ],
   "source": [
    "df.groupby('smoke').agg(Median_Baby_Weight = ('weight', 'median')).reset_index()"
   ]
  },
  {
   "attachments": {},
   "cell_type": "markdown",
   "metadata": {},
   "source": [
    "From the table above, we can see that the moms who smoked during pregnancy (`now`) had babies of the lowest birth weight, average of `114.5`."
   ]
  },
  {
   "attachments": {},
   "cell_type": "markdown",
   "metadata": {},
   "source": [
    "### Visually"
   ]
  },
  {
   "cell_type": "code",
   "execution_count": 6,
   "metadata": {
    "id": "gezYMdWciSuQ"
   },
   "outputs": [
    {
     "data": {
      "text/plain": [
       "<Axes: xlabel='smoke', ylabel='weight'>"
      ]
     },
     "execution_count": 6,
     "metadata": {},
     "output_type": "execute_result"
    },
    {
     "data": {
      "image/png": "[encoded data removed]",
      "text/plain": [
       "<Figure size 640x480 with 1 Axes>"
      ]
     },
     "metadata": {},
     "output_type": "display_data"
    }
   ],
   "source": [
    "sns.boxplot(data = df, x = 'smoke', y = 'weight')"
   ]
  },
  {
   "attachments": {},
   "cell_type": "markdown",
   "metadata": {},
   "source": [
    "The effects of maternal smoking on newborn weight are clearly illustrated above."
   ]
  },
  {
   "attachments": {},
   "cell_type": "markdown",
   "metadata": {},
   "source": [
    "---"
   ]
  },
  {
   "cell_type": "markdown",
   "metadata": {
    "id": "ES5mZnyhYQ-5"
   },
   "source": [
    "## Q2. Does the mom’s race affect the newborn birth weight?\n"
   ]
  },
  {
   "attachments": {},
   "cell_type": "markdown",
   "metadata": {},
   "source": [
    "The mom's race is categorical (*qualitative*), and the baby's weight is numerical (*quantitative*). So, we can visually examine the relationship using a boxplot, where the mom's race is on the x-axis, and the baby's weight is on the y-axis."
   ]
  },
  {
   "cell_type": "code",
   "execution_count": 7,
   "metadata": {
    "id": "6fQAD4OkYJr9"
   },
   "outputs": [
    {
     "data": {
      "text/plain": [
       "<Axes: xlabel='mom.race', ylabel='weight'>"
      ]
     },
     "execution_count": 7,
     "metadata": {},
     "output_type": "execute_result"
    },
    {
     "data": {
      "image/png": "[encoded data removed]",
      "text/plain": [
       "<Figure size 640x480 with 1 Axes>"
      ]
     },
     "metadata": {},
     "output_type": "display_data"
    }
   ],
   "source": [
    "sns.boxplot(data = df, x = 'mom.race', y = 'weight')"
   ]
  },
  {
   "attachments": {},
   "cell_type": "markdown",
   "metadata": {},
   "source": [
    "We can also use the [**violin** plot](https://en.wikipedia.org/wiki/Violin_plot), which gives similar results to the boxplot but it provides more detailed and honest distribution of the data."
   ]
  },
  {
   "cell_type": "code",
   "execution_count": 8,
   "metadata": {},
   "outputs": [
    {
     "data": {
      "text/plain": [
       "<Axes: xlabel='mom.race', ylabel='weight'>"
      ]
     },
     "execution_count": 8,
     "metadata": {},
     "output_type": "execute_result"
    },
    {
     "data": {
      "image/png": "[encoded data removed]",
      "text/plain": [
       "<Figure size 640x480 with 1 Axes>"
      ]
     },
     "metadata": {},
     "output_type": "display_data"
    }
   ],
   "source": [
    "sns.violinplot(data = df, x = 'mom.race', y = 'weight')"
   ]
  },
  {
   "attachments": {},
   "cell_type": "markdown",
   "metadata": {},
   "source": [
    "---"
   ]
  },
  {
   "cell_type": "markdown",
   "metadata": {
    "id": "3GVJ6vVTYai-"
   },
   "source": [
    "## Q3. Is there a correlation between the mom’s weight and the baby’s weight?\n"
   ]
  },
  {
   "attachments": {},
   "cell_type": "markdown",
   "metadata": {},
   "source": [
    "Here, the two variables are *quantitative* (numerical). In order to examine the relationship between them, we can demonstrate the correlation between the two variables using a scatter plot or a regression line plot."
   ]
  },
  {
   "cell_type": "code",
   "execution_count": 9,
   "metadata": {
    "id": "3-K9ReE0iuGZ"
   },
   "outputs": [
    {
     "data": {
      "text/plain": [
       "<Axes: xlabel='mom.weight', ylabel='weight'>"
      ]
     },
     "execution_count": 9,
     "metadata": {},
     "output_type": "execute_result"
    },
    {
     "data": {
      "image/png": "[encoded data removed]",
      "text/plain": [
       "<Figure size 640x480 with 1 Axes>"
      ]
     },
     "metadata": {},
     "output_type": "display_data"
    }
   ],
   "source": [
    "sns.regplot(data = df, x = 'mom.weight', y = 'weight')"
   ]
  },
  {
   "attachments": {},
   "cell_type": "markdown",
   "metadata": {},
   "source": [
    "From the above figure, we can see that there is a little bit of association between the mom's weight and the baby's weight. It is somehow expected since there is a genetic factor in determining a baby's weight."
   ]
  },
  {
   "attachments": {},
   "cell_type": "markdown",
   "metadata": {},
   "source": [
    "---"
   ]
  },
  {
   "attachments": {},
   "cell_type": "markdown",
   "metadata": {
    "id": "0tlqNIxRiuj1"
   },
   "source": [
    "## Q4. Is there a correlation between the dad’s weight and the dad's height?"
   ]
  },
  {
   "cell_type": "markdown",
   "metadata": {},
   "source": []
  },
  {
   "cell_type": "markdown",
   "metadata": {
    "id": "RsAASFlFizsw"
   },
   "source": [
    "## Q5. From Q3 and Q4, which is a stronger correlation?"
   ]
  },
  {
   "cell_type": "code",
   "execution_count": null,
   "metadata": {
    "id": "nPoeKWjki008"
   },
   "outputs": [],
   "source": []
  },
  {
   "cell_type": "markdown",
   "metadata": {
    "id": "c1avgW5Xi1MK"
   },
   "source": [
    "## Q6. Is there a correlation between the mom’s weight and the dad’s weight?"
   ]
  },
  {
   "cell_type": "code",
   "execution_count": null,
   "metadata": {
    "id": "8E9_p44kjA1O"
   },
   "outputs": [],
   "source": []
  },
  {
   "cell_type": "markdown",
   "metadata": {
    "id": "E_lPDmPzjBQ1"
   },
   "source": [
    "## Q7. On average, does the mom’s weight change across the races?"
   ]
  },
  {
   "cell_type": "code",
   "execution_count": null,
   "metadata": {
    "id": "AbM92i3XjFuJ"
   },
   "outputs": [],
   "source": []
  },
  {
   "cell_type": "markdown",
   "metadata": {
    "id": "HC-CTen2ys_V"
   },
   "source": [
    "## Q8. Does mom’s smoking pattern change with the mom’s education?"
   ]
  },
  {
   "attachments": {},
   "cell_type": "markdown",
   "metadata": {},
   "source": [
    "These two variables (`mom.edu` and `smoke`) are categorical (*qualitative*). We do not have numbers to able to examine trends in the data. So we will use the `groupby` function to **group** the data according to the *two* variables and use the size function to determine the number of rows (`count`) of different `smoke` patterns under the different `mom.edu` levels. The output will be stored in new data frame called `counts`."
   ]
  },
  {
   "cell_type": "code",
   "execution_count": 10,
   "metadata": {
    "id": "bLA4fyUx06Bm"
   },
   "outputs": [
    {
     "data": {
      "text/html": [
       "<div>\n",
       "<style scoped>\n",
       "    .dataframe tbody tr th:only-of-type {\n",
       "        vertical-align: middle;\n",
       "    }\n",
       "\n",
       "    .dataframe tbody tr th {\n",
       "        vertical-align: top;\n",
       "    }\n",
       "\n",
       "    .dataframe thead th {\n",
       "        text-align: right;\n",
       "    }\n",
       "</style>\n",
       "<table border=\"1\" class=\"dataframe\">\n",
       "  <thead>\n",
       "    <tr style=\"text-align: right;\">\n",
       "      <th></th>\n",
       "      <th>mom.edu</th>\n",
       "      <th>smoke</th>\n",
       "      <th>count</th>\n",
       "    </tr>\n",
       "  </thead>\n",
       "  <tbody>\n",
       "    <tr>\n",
       "      <th>0</th>\n",
       "      <td>0</td>\n",
       "      <td>never</td>\n",
       "      <td>1</td>\n",
       "    </tr>\n",
       "    <tr>\n",
       "      <th>1</th>\n",
       "      <td>0</td>\n",
       "      <td>once_not_now</td>\n",
       "      <td>1</td>\n",
       "    </tr>\n",
       "    <tr>\n",
       "      <th>2</th>\n",
       "      <td>0</td>\n",
       "      <td>until_pregnancy</td>\n",
       "      <td>1</td>\n",
       "    </tr>\n",
       "    <tr>\n",
       "      <th>3</th>\n",
       "      <td>1</td>\n",
       "      <td>never</td>\n",
       "      <td>26</td>\n",
       "    </tr>\n",
       "    <tr>\n",
       "      <th>4</th>\n",
       "      <td>1</td>\n",
       "      <td>now</td>\n",
       "      <td>46</td>\n",
       "    </tr>\n",
       "    <tr>\n",
       "      <th>5</th>\n",
       "      <td>1</td>\n",
       "      <td>once_not_now</td>\n",
       "      <td>6</td>\n",
       "    </tr>\n",
       "    <tr>\n",
       "      <th>6</th>\n",
       "      <td>1</td>\n",
       "      <td>until_pregnancy</td>\n",
       "      <td>7</td>\n",
       "    </tr>\n",
       "    <tr>\n",
       "      <th>7</th>\n",
       "      <td>2</td>\n",
       "      <td>never</td>\n",
       "      <td>103</td>\n",
       "    </tr>\n",
       "    <tr>\n",
       "      <th>8</th>\n",
       "      <td>2</td>\n",
       "      <td>now</td>\n",
       "      <td>90</td>\n",
       "    </tr>\n",
       "    <tr>\n",
       "      <th>9</th>\n",
       "      <td>2</td>\n",
       "      <td>once_not_now</td>\n",
       "      <td>14</td>\n",
       "    </tr>\n",
       "    <tr>\n",
       "      <th>10</th>\n",
       "      <td>2</td>\n",
       "      <td>until_pregnancy</td>\n",
       "      <td>22</td>\n",
       "    </tr>\n",
       "    <tr>\n",
       "      <th>11</th>\n",
       "      <td>3</td>\n",
       "      <td>never</td>\n",
       "      <td>13</td>\n",
       "    </tr>\n",
       "    <tr>\n",
       "      <th>12</th>\n",
       "      <td>3</td>\n",
       "      <td>now</td>\n",
       "      <td>17</td>\n",
       "    </tr>\n",
       "    <tr>\n",
       "      <th>13</th>\n",
       "      <td>3</td>\n",
       "      <td>once_not_now</td>\n",
       "      <td>2</td>\n",
       "    </tr>\n",
       "    <tr>\n",
       "      <th>14</th>\n",
       "      <td>4</td>\n",
       "      <td>never</td>\n",
       "      <td>73</td>\n",
       "    </tr>\n",
       "    <tr>\n",
       "      <th>15</th>\n",
       "      <td>4</td>\n",
       "      <td>now</td>\n",
       "      <td>42</td>\n",
       "    </tr>\n",
       "    <tr>\n",
       "      <th>16</th>\n",
       "      <td>4</td>\n",
       "      <td>once_not_now</td>\n",
       "      <td>23</td>\n",
       "    </tr>\n",
       "    <tr>\n",
       "      <th>17</th>\n",
       "      <td>4</td>\n",
       "      <td>until_pregnancy</td>\n",
       "      <td>14</td>\n",
       "    </tr>\n",
       "    <tr>\n",
       "      <th>18</th>\n",
       "      <td>5</td>\n",
       "      <td>never</td>\n",
       "      <td>66</td>\n",
       "    </tr>\n",
       "    <tr>\n",
       "      <th>19</th>\n",
       "      <td>5</td>\n",
       "      <td>now</td>\n",
       "      <td>21</td>\n",
       "    </tr>\n",
       "    <tr>\n",
       "      <th>20</th>\n",
       "      <td>5</td>\n",
       "      <td>once_not_now</td>\n",
       "      <td>14</td>\n",
       "    </tr>\n",
       "    <tr>\n",
       "      <th>21</th>\n",
       "      <td>5</td>\n",
       "      <td>until_pregnancy</td>\n",
       "      <td>8</td>\n",
       "    </tr>\n",
       "  </tbody>\n",
       "</table>\n",
       "</div>"
      ],
      "text/plain": [
       "    mom.edu            smoke  count\n",
       "0         0            never      1\n",
       "1         0     once_not_now      1\n",
       "2         0  until_pregnancy      1\n",
       "3         1            never     26\n",
       "4         1              now     46\n",
       "5         1     once_not_now      6\n",
       "6         1  until_pregnancy      7\n",
       "7         2            never    103\n",
       "8         2              now     90\n",
       "9         2     once_not_now     14\n",
       "10        2  until_pregnancy     22\n",
       "11        3            never     13\n",
       "12        3              now     17\n",
       "13        3     once_not_now      2\n",
       "14        4            never     73\n",
       "15        4              now     42\n",
       "16        4     once_not_now     23\n",
       "17        4  until_pregnancy     14\n",
       "18        5            never     66\n",
       "19        5              now     21\n",
       "20        5     once_not_now     14\n",
       "21        5  until_pregnancy      8"
      ]
     },
     "execution_count": 10,
     "metadata": {},
     "output_type": "execute_result"
    }
   ],
   "source": [
    "counts = df.groupby(['mom.edu', 'smoke']).size().reset_index(name = 'count')\n",
    "counts"
   ]
  },
  {
   "attachments": {},
   "cell_type": "markdown",
   "metadata": {},
   "source": [
    "The above data frame (`counts`) contains 3 columns, `mom.edu`, `smoke`, and `count`, which is the frequency or number of rows for each combination of `mom.edu` and `smoke`."
   ]
  },
  {
   "attachments": {},
   "cell_type": "markdown",
   "metadata": {},
   "source": [
    "Now we can plot the counts using a bar plot, where `mom.edu` goes on the x-axis and `count` goes on the y-axis. Then, we can stratify the bars according to `smoke`, which will be used to *color-code* the bars. *Seaborn*'s [`barplot`](https://seaborn.pydata.org/generated/seaborn.barplot.html) will take care of the color-coding and generating the corresponding legend for the `smoke` colors (by default, in the top-right corner of the figure)."
   ]
  },
  {
   "cell_type": "code",
   "execution_count": 11,
   "metadata": {},
   "outputs": [
    {
     "data": {
      "text/plain": [
       "<Axes: xlabel='mom.edu', ylabel='count'>"
      ]
     },
     "execution_count": 11,
     "metadata": {},
     "output_type": "execute_result"
    },
    {
     "data": {
      "image/png": "[encoded data removed]",
      "text/plain": [
       "<Figure size 640x480 with 1 Axes>"
      ]
     },
     "metadata": {},
     "output_type": "display_data"
    }
   ],
   "source": [
    "sns.barplot(data = counts, x = \"mom.edu\", y = 'count', hue = 'smoke')"
   ]
  },
  {
   "attachments": {},
   "cell_type": "markdown",
   "metadata": {},
   "source": [
    "The above figure suggests decreasing numbers of the `now` smoking pattern as the `mom.edu` increases."
   ]
  },
  {
   "attachments": {},
   "cell_type": "markdown",
   "metadata": {},
   "source": [
    "To better represent the distribution of smoking patterns among the different mom's education levels, instead of plotting the counts, we can use the *percentages* of the counts to the total number of moms in each education level. This can provide a better (more accurate or *honest*) representation of the distribution of smoking patterns among the different mom's education levels."
   ]
  },
  {
   "attachments": {},
   "cell_type": "markdown",
   "metadata": {},
   "source": [
    "First, we need to obtain the total number of rows (moms) in each education level. To do this, we need to [`groupby`](https://www.geeksforgeeks.org/python-pandas-dataframe-groupby/) again, but this time is based only on `mom.edu`."
   ]
  },
  {
   "cell_type": "code",
   "execution_count": 12,
   "metadata": {},
   "outputs": [
    {
     "data": {
      "text/html": [
       "<div>\n",
       "<style scoped>\n",
       "    .dataframe tbody tr th:only-of-type {\n",
       "        vertical-align: middle;\n",
       "    }\n",
       "\n",
       "    .dataframe tbody tr th {\n",
       "        vertical-align: top;\n",
       "    }\n",
       "\n",
       "    .dataframe thead th {\n",
       "        text-align: right;\n",
       "    }\n",
       "</style>\n",
       "<table border=\"1\" class=\"dataframe\">\n",
       "  <thead>\n",
       "    <tr style=\"text-align: right;\">\n",
       "      <th></th>\n",
       "      <th>mom.edu</th>\n",
       "      <th>total</th>\n",
       "    </tr>\n",
       "  </thead>\n",
       "  <tbody>\n",
       "    <tr>\n",
       "      <th>0</th>\n",
       "      <td>0</td>\n",
       "      <td>3</td>\n",
       "    </tr>\n",
       "    <tr>\n",
       "      <th>1</th>\n",
       "      <td>1</td>\n",
       "      <td>85</td>\n",
       "    </tr>\n",
       "    <tr>\n",
       "      <th>2</th>\n",
       "      <td>2</td>\n",
       "      <td>229</td>\n",
       "    </tr>\n",
       "    <tr>\n",
       "      <th>3</th>\n",
       "      <td>3</td>\n",
       "      <td>32</td>\n",
       "    </tr>\n",
       "    <tr>\n",
       "      <th>4</th>\n",
       "      <td>4</td>\n",
       "      <td>152</td>\n",
       "    </tr>\n",
       "    <tr>\n",
       "      <th>5</th>\n",
       "      <td>5</td>\n",
       "      <td>109</td>\n",
       "    </tr>\n",
       "  </tbody>\n",
       "</table>\n",
       "</div>"
      ],
      "text/plain": [
       "   mom.edu  total\n",
       "0        0      3\n",
       "1        1     85\n",
       "2        2    229\n",
       "3        3     32\n",
       "4        4    152\n",
       "5        5    109"
      ]
     },
     "execution_count": 12,
     "metadata": {},
     "output_type": "execute_result"
    }
   ],
   "source": [
    "totals = df.groupby(['mom.edu']).size().reset_index(name = 'total')\n",
    "totals"
   ]
  },
  {
   "attachments": {},
   "cell_type": "markdown",
   "metadata": {},
   "source": [
    "The above table (`dataframe`) `totals` contains the total number of records (rows) for each mom's educational level (`mom.edu`)."
   ]
  },
  {
   "attachments": {},
   "cell_type": "markdown",
   "metadata": {},
   "source": [
    "Next, we **join** the previously generated `counts` `dataframe` to the newly generated `totals` `dataframe` using Pandas' [`merge`](https://www.geeksforgeeks.org/python-pandas-merging-joining-and-concatenating/) function."
   ]
  },
  {
   "cell_type": "code",
   "execution_count": 13,
   "metadata": {},
   "outputs": [
    {
     "data": {
      "text/html": [
       "<div>\n",
       "<style scoped>\n",
       "    .dataframe tbody tr th:only-of-type {\n",
       "        vertical-align: middle;\n",
       "    }\n",
       "\n",
       "    .dataframe tbody tr th {\n",
       "        vertical-align: top;\n",
       "    }\n",
       "\n",
       "    .dataframe thead th {\n",
       "        text-align: right;\n",
       "    }\n",
       "</style>\n",
       "<table border=\"1\" class=\"dataframe\">\n",
       "  <thead>\n",
       "    <tr style=\"text-align: right;\">\n",
       "      <th></th>\n",
       "      <th>mom.edu</th>\n",
       "      <th>smoke</th>\n",
       "      <th>count</th>\n",
       "      <th>total</th>\n",
       "    </tr>\n",
       "  </thead>\n",
       "  <tbody>\n",
       "    <tr>\n",
       "      <th>0</th>\n",
       "      <td>0</td>\n",
       "      <td>never</td>\n",
       "      <td>1</td>\n",
       "      <td>3</td>\n",
       "    </tr>\n",
       "    <tr>\n",
       "      <th>1</th>\n",
       "      <td>0</td>\n",
       "      <td>once_not_now</td>\n",
       "      <td>1</td>\n",
       "      <td>3</td>\n",
       "    </tr>\n",
       "    <tr>\n",
       "      <th>2</th>\n",
       "      <td>0</td>\n",
       "      <td>until_pregnancy</td>\n",
       "      <td>1</td>\n",
       "      <td>3</td>\n",
       "    </tr>\n",
       "    <tr>\n",
       "      <th>3</th>\n",
       "      <td>1</td>\n",
       "      <td>never</td>\n",
       "      <td>26</td>\n",
       "      <td>85</td>\n",
       "    </tr>\n",
       "    <tr>\n",
       "      <th>4</th>\n",
       "      <td>1</td>\n",
       "      <td>now</td>\n",
       "      <td>46</td>\n",
       "      <td>85</td>\n",
       "    </tr>\n",
       "    <tr>\n",
       "      <th>5</th>\n",
       "      <td>1</td>\n",
       "      <td>once_not_now</td>\n",
       "      <td>6</td>\n",
       "      <td>85</td>\n",
       "    </tr>\n",
       "    <tr>\n",
       "      <th>6</th>\n",
       "      <td>1</td>\n",
       "      <td>until_pregnancy</td>\n",
       "      <td>7</td>\n",
       "      <td>85</td>\n",
       "    </tr>\n",
       "    <tr>\n",
       "      <th>7</th>\n",
       "      <td>2</td>\n",
       "      <td>never</td>\n",
       "      <td>103</td>\n",
       "      <td>229</td>\n",
       "    </tr>\n",
       "    <tr>\n",
       "      <th>8</th>\n",
       "      <td>2</td>\n",
       "      <td>now</td>\n",
       "      <td>90</td>\n",
       "      <td>229</td>\n",
       "    </tr>\n",
       "    <tr>\n",
       "      <th>9</th>\n",
       "      <td>2</td>\n",
       "      <td>once_not_now</td>\n",
       "      <td>14</td>\n",
       "      <td>229</td>\n",
       "    </tr>\n",
       "    <tr>\n",
       "      <th>10</th>\n",
       "      <td>2</td>\n",
       "      <td>until_pregnancy</td>\n",
       "      <td>22</td>\n",
       "      <td>229</td>\n",
       "    </tr>\n",
       "    <tr>\n",
       "      <th>11</th>\n",
       "      <td>3</td>\n",
       "      <td>never</td>\n",
       "      <td>13</td>\n",
       "      <td>32</td>\n",
       "    </tr>\n",
       "    <tr>\n",
       "      <th>12</th>\n",
       "      <td>3</td>\n",
       "      <td>now</td>\n",
       "      <td>17</td>\n",
       "      <td>32</td>\n",
       "    </tr>\n",
       "    <tr>\n",
       "      <th>13</th>\n",
       "      <td>3</td>\n",
       "      <td>once_not_now</td>\n",
       "      <td>2</td>\n",
       "      <td>32</td>\n",
       "    </tr>\n",
       "    <tr>\n",
       "      <th>14</th>\n",
       "      <td>4</td>\n",
       "      <td>never</td>\n",
       "      <td>73</td>\n",
       "      <td>152</td>\n",
       "    </tr>\n",
       "    <tr>\n",
       "      <th>15</th>\n",
       "      <td>4</td>\n",
       "      <td>now</td>\n",
       "      <td>42</td>\n",
       "      <td>152</td>\n",
       "    </tr>\n",
       "    <tr>\n",
       "      <th>16</th>\n",
       "      <td>4</td>\n",
       "      <td>once_not_now</td>\n",
       "      <td>23</td>\n",
       "      <td>152</td>\n",
       "    </tr>\n",
       "    <tr>\n",
       "      <th>17</th>\n",
       "      <td>4</td>\n",
       "      <td>until_pregnancy</td>\n",
       "      <td>14</td>\n",
       "      <td>152</td>\n",
       "    </tr>\n",
       "    <tr>\n",
       "      <th>18</th>\n",
       "      <td>5</td>\n",
       "      <td>never</td>\n",
       "      <td>66</td>\n",
       "      <td>109</td>\n",
       "    </tr>\n",
       "    <tr>\n",
       "      <th>19</th>\n",
       "      <td>5</td>\n",
       "      <td>now</td>\n",
       "      <td>21</td>\n",
       "      <td>109</td>\n",
       "    </tr>\n",
       "    <tr>\n",
       "      <th>20</th>\n",
       "      <td>5</td>\n",
       "      <td>once_not_now</td>\n",
       "      <td>14</td>\n",
       "      <td>109</td>\n",
       "    </tr>\n",
       "    <tr>\n",
       "      <th>21</th>\n",
       "      <td>5</td>\n",
       "      <td>until_pregnancy</td>\n",
       "      <td>8</td>\n",
       "      <td>109</td>\n",
       "    </tr>\n",
       "  </tbody>\n",
       "</table>\n",
       "</div>"
      ],
      "text/plain": [
       "    mom.edu            smoke  count  total\n",
       "0         0            never      1      3\n",
       "1         0     once_not_now      1      3\n",
       "2         0  until_pregnancy      1      3\n",
       "3         1            never     26     85\n",
       "4         1              now     46     85\n",
       "5         1     once_not_now      6     85\n",
       "6         1  until_pregnancy      7     85\n",
       "7         2            never    103    229\n",
       "8         2              now     90    229\n",
       "9         2     once_not_now     14    229\n",
       "10        2  until_pregnancy     22    229\n",
       "11        3            never     13     32\n",
       "12        3              now     17     32\n",
       "13        3     once_not_now      2     32\n",
       "14        4            never     73    152\n",
       "15        4              now     42    152\n",
       "16        4     once_not_now     23    152\n",
       "17        4  until_pregnancy     14    152\n",
       "18        5            never     66    109\n",
       "19        5              now     21    109\n",
       "20        5     once_not_now     14    109\n",
       "21        5  until_pregnancy      8    109"
      ]
     },
     "execution_count": 13,
     "metadata": {},
     "output_type": "execute_result"
    }
   ],
   "source": [
    "merged = counts.merge (totals, on = 'mom.edu')\n",
    "merged"
   ]
  },
  {
   "attachments": {},
   "cell_type": "markdown",
   "metadata": {},
   "source": [
    "Now, can calculate the percentages of the smoking patterns (`smoke`) under each education level (`mom.edu`) and store the results into a *new* column name (let's call it `percentage`) using Pandas's [`assign()`](https://www.geeksforgeeks.org/python-pandas-dataframe-assign/) function to produce a `dataframe`, let's call it `percentages`."
   ]
  },
  {
   "cell_type": "code",
   "execution_count": 14,
   "metadata": {},
   "outputs": [
    {
     "data": {
      "text/html": [
       "<div>\n",
       "<style scoped>\n",
       "    .dataframe tbody tr th:only-of-type {\n",
       "        vertical-align: middle;\n",
       "    }\n",
       "\n",
       "    .dataframe tbody tr th {\n",
       "        vertical-align: top;\n",
       "    }\n",
       "\n",
       "    .dataframe thead th {\n",
       "        text-align: right;\n",
       "    }\n",
       "</style>\n",
       "<table border=\"1\" class=\"dataframe\">\n",
       "  <thead>\n",
       "    <tr style=\"text-align: right;\">\n",
       "      <th></th>\n",
       "      <th>mom.edu</th>\n",
       "      <th>smoke</th>\n",
       "      <th>count</th>\n",
       "      <th>total</th>\n",
       "      <th>percentage</th>\n",
       "    </tr>\n",
       "  </thead>\n",
       "  <tbody>\n",
       "    <tr>\n",
       "      <th>0</th>\n",
       "      <td>0</td>\n",
       "      <td>never</td>\n",
       "      <td>1</td>\n",
       "      <td>3</td>\n",
       "      <td>33.333333</td>\n",
       "    </tr>\n",
       "    <tr>\n",
       "      <th>1</th>\n",
       "      <td>0</td>\n",
       "      <td>once_not_now</td>\n",
       "      <td>1</td>\n",
       "      <td>3</td>\n",
       "      <td>33.333333</td>\n",
       "    </tr>\n",
       "    <tr>\n",
       "      <th>2</th>\n",
       "      <td>0</td>\n",
       "      <td>until_pregnancy</td>\n",
       "      <td>1</td>\n",
       "      <td>3</td>\n",
       "      <td>33.333333</td>\n",
       "    </tr>\n",
       "    <tr>\n",
       "      <th>3</th>\n",
       "      <td>1</td>\n",
       "      <td>never</td>\n",
       "      <td>26</td>\n",
       "      <td>85</td>\n",
       "      <td>30.588235</td>\n",
       "    </tr>\n",
       "    <tr>\n",
       "      <th>4</th>\n",
       "      <td>1</td>\n",
       "      <td>now</td>\n",
       "      <td>46</td>\n",
       "      <td>85</td>\n",
       "      <td>54.117647</td>\n",
       "    </tr>\n",
       "    <tr>\n",
       "      <th>5</th>\n",
       "      <td>1</td>\n",
       "      <td>once_not_now</td>\n",
       "      <td>6</td>\n",
       "      <td>85</td>\n",
       "      <td>7.058824</td>\n",
       "    </tr>\n",
       "    <tr>\n",
       "      <th>6</th>\n",
       "      <td>1</td>\n",
       "      <td>until_pregnancy</td>\n",
       "      <td>7</td>\n",
       "      <td>85</td>\n",
       "      <td>8.235294</td>\n",
       "    </tr>\n",
       "    <tr>\n",
       "      <th>7</th>\n",
       "      <td>2</td>\n",
       "      <td>never</td>\n",
       "      <td>103</td>\n",
       "      <td>229</td>\n",
       "      <td>44.978166</td>\n",
       "    </tr>\n",
       "    <tr>\n",
       "      <th>8</th>\n",
       "      <td>2</td>\n",
       "      <td>now</td>\n",
       "      <td>90</td>\n",
       "      <td>229</td>\n",
       "      <td>39.301310</td>\n",
       "    </tr>\n",
       "    <tr>\n",
       "      <th>9</th>\n",
       "      <td>2</td>\n",
       "      <td>once_not_now</td>\n",
       "      <td>14</td>\n",
       "      <td>229</td>\n",
       "      <td>6.113537</td>\n",
       "    </tr>\n",
       "    <tr>\n",
       "      <th>10</th>\n",
       "      <td>2</td>\n",
       "      <td>until_pregnancy</td>\n",
       "      <td>22</td>\n",
       "      <td>229</td>\n",
       "      <td>9.606987</td>\n",
       "    </tr>\n",
       "    <tr>\n",
       "      <th>11</th>\n",
       "      <td>3</td>\n",
       "      <td>never</td>\n",
       "      <td>13</td>\n",
       "      <td>32</td>\n",
       "      <td>40.625000</td>\n",
       "    </tr>\n",
       "    <tr>\n",
       "      <th>12</th>\n",
       "      <td>3</td>\n",
       "      <td>now</td>\n",
       "      <td>17</td>\n",
       "      <td>32</td>\n",
       "      <td>53.125000</td>\n",
       "    </tr>\n",
       "    <tr>\n",
       "      <th>13</th>\n",
       "      <td>3</td>\n",
       "      <td>once_not_now</td>\n",
       "      <td>2</td>\n",
       "      <td>32</td>\n",
       "      <td>6.250000</td>\n",
       "    </tr>\n",
       "    <tr>\n",
       "      <th>14</th>\n",
       "      <td>4</td>\n",
       "      <td>never</td>\n",
       "      <td>73</td>\n",
       "      <td>152</td>\n",
       "      <td>48.026316</td>\n",
       "    </tr>\n",
       "    <tr>\n",
       "      <th>15</th>\n",
       "      <td>4</td>\n",
       "      <td>now</td>\n",
       "      <td>42</td>\n",
       "      <td>152</td>\n",
       "      <td>27.631579</td>\n",
       "    </tr>\n",
       "    <tr>\n",
       "      <th>16</th>\n",
       "      <td>4</td>\n",
       "      <td>once_not_now</td>\n",
       "      <td>23</td>\n",
       "      <td>152</td>\n",
       "      <td>15.131579</td>\n",
       "    </tr>\n",
       "    <tr>\n",
       "      <th>17</th>\n",
       "      <td>4</td>\n",
       "      <td>until_pregnancy</td>\n",
       "      <td>14</td>\n",
       "      <td>152</td>\n",
       "      <td>9.210526</td>\n",
       "    </tr>\n",
       "    <tr>\n",
       "      <th>18</th>\n",
       "      <td>5</td>\n",
       "      <td>never</td>\n",
       "      <td>66</td>\n",
       "      <td>109</td>\n",
       "      <td>60.550459</td>\n",
       "    </tr>\n",
       "    <tr>\n",
       "      <th>19</th>\n",
       "      <td>5</td>\n",
       "      <td>now</td>\n",
       "      <td>21</td>\n",
       "      <td>109</td>\n",
       "      <td>19.266055</td>\n",
       "    </tr>\n",
       "    <tr>\n",
       "      <th>20</th>\n",
       "      <td>5</td>\n",
       "      <td>once_not_now</td>\n",
       "      <td>14</td>\n",
       "      <td>109</td>\n",
       "      <td>12.844037</td>\n",
       "    </tr>\n",
       "    <tr>\n",
       "      <th>21</th>\n",
       "      <td>5</td>\n",
       "      <td>until_pregnancy</td>\n",
       "      <td>8</td>\n",
       "      <td>109</td>\n",
       "      <td>7.339450</td>\n",
       "    </tr>\n",
       "  </tbody>\n",
       "</table>\n",
       "</div>"
      ],
      "text/plain": [
       "    mom.edu            smoke  count  total  percentage\n",
       "0         0            never      1      3   33.333333\n",
       "1         0     once_not_now      1      3   33.333333\n",
       "2         0  until_pregnancy      1      3   33.333333\n",
       "3         1            never     26     85   30.588235\n",
       "4         1              now     46     85   54.117647\n",
       "5         1     once_not_now      6     85    7.058824\n",
       "6         1  until_pregnancy      7     85    8.235294\n",
       "7         2            never    103    229   44.978166\n",
       "8         2              now     90    229   39.301310\n",
       "9         2     once_not_now     14    229    6.113537\n",
       "10        2  until_pregnancy     22    229    9.606987\n",
       "11        3            never     13     32   40.625000\n",
       "12        3              now     17     32   53.125000\n",
       "13        3     once_not_now      2     32    6.250000\n",
       "14        4            never     73    152   48.026316\n",
       "15        4              now     42    152   27.631579\n",
       "16        4     once_not_now     23    152   15.131579\n",
       "17        4  until_pregnancy     14    152    9.210526\n",
       "18        5            never     66    109   60.550459\n",
       "19        5              now     21    109   19.266055\n",
       "20        5     once_not_now     14    109   12.844037\n",
       "21        5  until_pregnancy      8    109    7.339450"
      ]
     },
     "execution_count": 14,
     "metadata": {},
     "output_type": "execute_result"
    }
   ],
   "source": [
    "percentages = merged.assign(percentage = 100 * merged['count'] / merged['total'])\n",
    "percentages"
   ]
  },
  {
   "attachments": {},
   "cell_type": "markdown",
   "metadata": {},
   "source": [
    "Finally, we can plot the `percentages` `dataframe` as a bar chart, where `mom.edu` goes on the x-axis and `percentage` of `smoke` goes on the y-axis, and again the bars are stratified by the smoking pattern (`smoke`)."
   ]
  },
  {
   "cell_type": "code",
   "execution_count": 15,
   "metadata": {},
   "outputs": [
    {
     "data": {
      "text/plain": [
       "<Axes: xlabel='mom.edu', ylabel='percentage'>"
      ]
     },
     "execution_count": 15,
     "metadata": {},
     "output_type": "execute_result"
    },
    {
     "data": {
      "image/png": "[encoded data removed]",
      "text/plain": [
       "<Figure size 640x480 with 1 Axes>"
      ]
     },
     "metadata": {},
     "output_type": "display_data"
    }
   ],
   "source": [
    "sns.barplot(data = percentages, x = \"mom.edu\", y = 'percentage', hue = 'smoke')"
   ]
  },
  {
   "attachments": {},
   "cell_type": "markdown",
   "metadata": {},
   "source": [
    "Compared to the previous plot (which is based on the absolute counts), the new plot (which is based on the percentages [or relative ratios]) clearly shows the moms with the highest level of education (where `mom.edu` equals `5`) had the smallest proportion (`19.2%`) of the `now` smoking pattern across all education levels."
   ]
  },
  {
   "attachments": {},
   "cell_type": "markdown",
   "metadata": {},
   "source": [
    "---"
   ]
  },
  {
   "cell_type": "markdown",
   "metadata": {
    "id": "F0b6FIXnjHS4"
   },
   "source": [
    "## Q9. Does mom’s smoking pattern change with the family income?"
   ]
  },
  {
   "cell_type": "code",
   "execution_count": null,
   "metadata": {
    "id": "8hh4Cfy4jKy4"
   },
   "outputs": [],
   "source": []
  },
  {
   "cell_type": "markdown",
   "metadata": {
    "id": "O6T5rtvejLUx"
   },
   "source": [
    "## Q10. Is there a relationship between the mom’s race and the dad’s race?"
   ]
  },
  {
   "cell_type": "code",
   "execution_count": null,
   "metadata": {},
   "outputs": [],
   "source": []
  }
 ],
 "metadata": {
  "colab": {
   "authorship_tag": "ABX9TyO++W4FW0DepwOBufapN57i",
   "include_colab_link": true,
   "provenance": []
  },
  "kernelspec": {
   "display_name": "Python 3 (ipykernel)",
   "language": "python",
   "name": "python3"
  },
  "language_info": {
   "codemirror_mode": {
    "name": "ipython",
    "version": 3
   },
   "file_extension": ".py",
   "mimetype": "text/x-python",
   "name": "python",
   "nbconvert_exporter": "python",
   "pygments_lexer": "ipython3",
   "version": "3.9.10"
  }
 },
 "nbformat": 4,
 "nbformat_minor": 4
}
