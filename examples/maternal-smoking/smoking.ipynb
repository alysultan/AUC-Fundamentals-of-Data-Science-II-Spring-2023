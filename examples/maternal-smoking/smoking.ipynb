{
 "cells": [
  {
   "attachments": {},
   "cell_type": "markdown",
   "metadata": {
    "colab_type": "text",
    "id": "view-in-github"
   },
   "source": [
    "<a href=\"https://colab.research.google.com/github/ahmedmoustafa/AUC-Fundamentals-of-Data-Science-II-Spring-2023/blob/main/examples/maternal-smoking/smoking.ipynb\" target=\"_parent\"><img src=\"https://colab.research.google.com/assets/colab-badge.svg\" alt=\"Open In Colab\"/></a>"
   ]
  },
  {
   "attachments": {},
   "cell_type": "markdown",
   "metadata": {
    "id": "aBg1rOzmEkmp"
   },
   "source": [
    "# Maternal Smoking"
   ]
  },
  {
   "attachments": {},
   "cell_type": "markdown",
   "metadata": {},
   "source": [
    "First, we need to import the packages (libraries) that will be used in the analysis, [Pandas](https://pandas.pydata.org/) for data loading and wrangling, and [Seaborn](https://seaborn.pydata.org/) for data visualization."
   ]
  },
  {
   "cell_type": "code",
   "execution_count": 25,
   "metadata": {
    "id": "xuhWjeg7EeWk"
   },
   "outputs": [],
   "source": [
    "import pandas as pd # Import the pandas package using the alias 'pd'\n",
    "import seaborn as sns # Import the seaborn package using the alias 'sns'\n",
    "import numpy as np # Import the numpy package using the alias 'np'\n",
    "import scipy.stats as stats # Import the scipy.stats package using the alias 'stats'"
   ]
  },
  {
   "attachments": {},
   "cell_type": "markdown",
   "metadata": {},
   "source": [
    "Now, we can easily access the data from an online [`TSV`](https://en.wikipedia.org/wiki/Tab-separated_values) file using Pandas' [read_table()](https://pandas.pydata.org/docs/reference/api/pandas.read_table.html) function. Before moving forward, you may want to open and examine the data file at this link: [https://tinyurl.com/mpd4jx9n](https://tinyurl.com/mpd4jx9n). This will help you gain a better understanding of the data's structure and content."
   ]
  },
  {
   "cell_type": "code",
   "execution_count": 4,
   "metadata": {
    "colab": {
     "base_uri": "https://localhost:8080/"
    },
    "id": "lwP2QUWcE-qG",
    "outputId": "c5d64511-e103-4ce0-d629-9dcd8d9064fa"
   },
   "outputs": [
    {
     "data": {
      "text/plain": [
       "(610, 20)"
      ]
     },
     "execution_count": 4,
     "metadata": {},
     "output_type": "execute_result"
    }
   ],
   "source": [
    "df = pd.read_table(\"https://tinyurl.com/mpd4jx9n\") # Read and load the tsv data file into a DataFrame\n",
    "df.shape"
   ]
  },
  {
   "attachments": {},
   "cell_type": "markdown",
   "metadata": {},
   "source": [
    "The data got loaded successfully into a Pandas [`DataFrame`](https://pandas.pydata.org/docs/reference/api/pandas.DataFrame.html) variable called `df`. The [`shape`](https://pandas.pydata.org/docs/reference/api/pandas.DataFrame.shape.html) of the `dataframe` shows that there are `610` rows (records) and `20` columns."
   ]
  },
  {
   "attachments": {},
   "cell_type": "markdown",
   "metadata": {},
   "source": [
    "Let's take a quick look at the data using the [`head()`](https://pandas.pydata.org/docs/reference/api/pandas.DataFrame.head.html) function."
   ]
  },
  {
   "cell_type": "code",
   "execution_count": 5,
   "metadata": {
    "colab": {
     "base_uri": "https://localhost:8080/",
     "height": 206
    },
    "id": "ZkziwPBjFGpM",
    "outputId": "0242a042-585f-4413-d637-b9ce8947c5e6"
   },
   "outputs": [
    {
     "data": {
      "text/html": [
       "<div>\n",
       "<style scoped>\n",
       "    .dataframe tbody tr th:only-of-type {\n",
       "        vertical-align: middle;\n",
       "    }\n",
       "\n",
       "    .dataframe tbody tr th {\n",
       "        vertical-align: top;\n",
       "    }\n",
       "\n",
       "    .dataframe thead th {\n",
       "        text-align: right;\n",
       "    }\n",
       "</style>\n",
       "<table border=\"1\" class=\"dataframe\">\n",
       "  <thead>\n",
       "    <tr style=\"text-align: right;\">\n",
       "      <th></th>\n",
       "      <th>id</th>\n",
       "      <th>date</th>\n",
       "      <th>gestation</th>\n",
       "      <th>weight</th>\n",
       "      <th>parity</th>\n",
       "      <th>mom.race</th>\n",
       "      <th>mom.age</th>\n",
       "      <th>mom.edu</th>\n",
       "      <th>mom.height</th>\n",
       "      <th>mom.weight</th>\n",
       "      <th>dad.race</th>\n",
       "      <th>dad.age</th>\n",
       "      <th>dad.edu</th>\n",
       "      <th>dad.height</th>\n",
       "      <th>dad.weight</th>\n",
       "      <th>marital</th>\n",
       "      <th>income</th>\n",
       "      <th>smoke</th>\n",
       "      <th>quit.time</th>\n",
       "      <th>cigs</th>\n",
       "    </tr>\n",
       "  </thead>\n",
       "  <tbody>\n",
       "    <tr>\n",
       "      <th>0</th>\n",
       "      <td>15</td>\n",
       "      <td>1411</td>\n",
       "      <td>284</td>\n",
       "      <td>120</td>\n",
       "      <td>1</td>\n",
       "      <td>asian</td>\n",
       "      <td>27</td>\n",
       "      <td>5</td>\n",
       "      <td>62</td>\n",
       "      <td>100</td>\n",
       "      <td>asian</td>\n",
       "      <td>31</td>\n",
       "      <td>5</td>\n",
       "      <td>65</td>\n",
       "      <td>110</td>\n",
       "      <td>1</td>\n",
       "      <td>1</td>\n",
       "      <td>never</td>\n",
       "      <td>0</td>\n",
       "      <td>0</td>\n",
       "    </tr>\n",
       "    <tr>\n",
       "      <th>1</th>\n",
       "      <td>20</td>\n",
       "      <td>1499</td>\n",
       "      <td>282</td>\n",
       "      <td>113</td>\n",
       "      <td>2</td>\n",
       "      <td>white</td>\n",
       "      <td>33</td>\n",
       "      <td>5</td>\n",
       "      <td>64</td>\n",
       "      <td>135</td>\n",
       "      <td>white</td>\n",
       "      <td>38</td>\n",
       "      <td>5</td>\n",
       "      <td>70</td>\n",
       "      <td>148</td>\n",
       "      <td>1</td>\n",
       "      <td>4</td>\n",
       "      <td>never</td>\n",
       "      <td>0</td>\n",
       "      <td>0</td>\n",
       "    </tr>\n",
       "    <tr>\n",
       "      <th>2</th>\n",
       "      <td>100</td>\n",
       "      <td>1673</td>\n",
       "      <td>286</td>\n",
       "      <td>136</td>\n",
       "      <td>4</td>\n",
       "      <td>white</td>\n",
       "      <td>25</td>\n",
       "      <td>2</td>\n",
       "      <td>62</td>\n",
       "      <td>93</td>\n",
       "      <td>white</td>\n",
       "      <td>28</td>\n",
       "      <td>2</td>\n",
       "      <td>64</td>\n",
       "      <td>130</td>\n",
       "      <td>1</td>\n",
       "      <td>4</td>\n",
       "      <td>until_pregnancy</td>\n",
       "      <td>2</td>\n",
       "      <td>2</td>\n",
       "    </tr>\n",
       "    <tr>\n",
       "      <th>3</th>\n",
       "      <td>129</td>\n",
       "      <td>1562</td>\n",
       "      <td>245</td>\n",
       "      <td>132</td>\n",
       "      <td>2</td>\n",
       "      <td>black</td>\n",
       "      <td>23</td>\n",
       "      <td>1</td>\n",
       "      <td>65</td>\n",
       "      <td>140</td>\n",
       "      <td>black</td>\n",
       "      <td>23</td>\n",
       "      <td>4</td>\n",
       "      <td>71</td>\n",
       "      <td>192</td>\n",
       "      <td>1</td>\n",
       "      <td>2</td>\n",
       "      <td>never</td>\n",
       "      <td>0</td>\n",
       "      <td>0</td>\n",
       "    </tr>\n",
       "    <tr>\n",
       "      <th>4</th>\n",
       "      <td>142</td>\n",
       "      <td>1408</td>\n",
       "      <td>289</td>\n",
       "      <td>120</td>\n",
       "      <td>3</td>\n",
       "      <td>white</td>\n",
       "      <td>25</td>\n",
       "      <td>4</td>\n",
       "      <td>62</td>\n",
       "      <td>125</td>\n",
       "      <td>white</td>\n",
       "      <td>26</td>\n",
       "      <td>1</td>\n",
       "      <td>70</td>\n",
       "      <td>180</td>\n",
       "      <td>0</td>\n",
       "      <td>2</td>\n",
       "      <td>never</td>\n",
       "      <td>0</td>\n",
       "      <td>0</td>\n",
       "    </tr>\n",
       "  </tbody>\n",
       "</table>\n",
       "</div>"
      ],
      "text/plain": [
       "    id  date  gestation  weight  parity mom.race  mom.age  mom.edu  \\\n",
       "0   15  1411        284     120       1    asian       27        5   \n",
       "1   20  1499        282     113       2    white       33        5   \n",
       "2  100  1673        286     136       4    white       25        2   \n",
       "3  129  1562        245     132       2    black       23        1   \n",
       "4  142  1408        289     120       3    white       25        4   \n",
       "\n",
       "   mom.height  mom.weight dad.race  dad.age  dad.edu  dad.height  dad.weight  \\\n",
       "0          62         100    asian       31        5          65         110   \n",
       "1          64         135    white       38        5          70         148   \n",
       "2          62          93    white       28        2          64         130   \n",
       "3          65         140    black       23        4          71         192   \n",
       "4          62         125    white       26        1          70         180   \n",
       "\n",
       "   marital  income            smoke  quit.time  cigs  \n",
       "0        1       1            never          0     0  \n",
       "1        1       4            never          0     0  \n",
       "2        1       4  until_pregnancy          2     2  \n",
       "3        1       2            never          0     0  \n",
       "4        0       2            never          0     0  "
      ]
     },
     "execution_count": 5,
     "metadata": {},
     "output_type": "execute_result"
    }
   ],
   "source": [
    "df.head()"
   ]
  },
  {
   "attachments": {},
   "cell_type": "markdown",
   "metadata": {},
   "source": [
    "---"
   ]
  },
  {
   "attachments": {},
   "cell_type": "markdown",
   "metadata": {
    "id": "YEvzA3RdX9BD"
   },
   "source": [
    "## Q1. Does the mom's smoking pattern affect the newborn birth weight?"
   ]
  },
  {
   "attachments": {},
   "cell_type": "markdown",
   "metadata": {},
   "source": [
    "### Numerically"
   ]
  },
  {
   "attachments": {},
   "cell_type": "markdown",
   "metadata": {},
   "source": [
    "Let's first see how many different smoking patterns exist in the dataset. We will use the `groupby` function to group the rows (records) in the `DataFrame` by the `smoke` column (variable). Then count the number of different row per each smoking pattern using the `size` function."
   ]
  },
  {
   "cell_type": "code",
   "execution_count": 6,
   "metadata": {},
   "outputs": [
    {
     "data": {
      "text/plain": [
       "smoke\n",
       "never              282\n",
       "now                216\n",
       "once_not_now        60\n",
       "until_pregnancy     52\n",
       "dtype: int64"
      ]
     },
     "execution_count": 6,
     "metadata": {},
     "output_type": "execute_result"
    }
   ],
   "source": [
    "df.groupby('smoke').size()"
   ]
  },
  {
   "attachments": {},
   "cell_type": "markdown",
   "metadata": {},
   "source": [
    "From the above, we can see that there are four different smoking patterns, `never` (282 rows), `once_not_now` (60 rows), `until_pregnancy` (52 rows), and `now` (216 rows)."
   ]
  },
  {
   "attachments": {},
   "cell_type": "markdown",
   "metadata": {},
   "source": [
    "Now, let's look at average baby weights for each of these patterns by grouping them and aggregating them by taking `median` of the `weight`."
   ]
  },
  {
   "cell_type": "code",
   "execution_count": 7,
   "metadata": {},
   "outputs": [
    {
     "data": {
      "text/html": [
       "<div>\n",
       "<style scoped>\n",
       "    .dataframe tbody tr th:only-of-type {\n",
       "        vertical-align: middle;\n",
       "    }\n",
       "\n",
       "    .dataframe tbody tr th {\n",
       "        vertical-align: top;\n",
       "    }\n",
       "\n",
       "    .dataframe thead th {\n",
       "        text-align: right;\n",
       "    }\n",
       "</style>\n",
       "<table border=\"1\" class=\"dataframe\">\n",
       "  <thead>\n",
       "    <tr style=\"text-align: right;\">\n",
       "      <th></th>\n",
       "      <th>smoke</th>\n",
       "      <th>Median_Baby_Weight</th>\n",
       "    </tr>\n",
       "  </thead>\n",
       "  <tbody>\n",
       "    <tr>\n",
       "      <th>0</th>\n",
       "      <td>never</td>\n",
       "      <td>123.0</td>\n",
       "    </tr>\n",
       "    <tr>\n",
       "      <th>1</th>\n",
       "      <td>now</td>\n",
       "      <td>114.5</td>\n",
       "    </tr>\n",
       "    <tr>\n",
       "      <th>2</th>\n",
       "      <td>once_not_now</td>\n",
       "      <td>123.5</td>\n",
       "    </tr>\n",
       "    <tr>\n",
       "      <th>3</th>\n",
       "      <td>until_pregnancy</td>\n",
       "      <td>124.5</td>\n",
       "    </tr>\n",
       "  </tbody>\n",
       "</table>\n",
       "</div>"
      ],
      "text/plain": [
       "             smoke  Median_Baby_Weight\n",
       "0            never               123.0\n",
       "1              now               114.5\n",
       "2     once_not_now               123.5\n",
       "3  until_pregnancy               124.5"
      ]
     },
     "execution_count": 7,
     "metadata": {},
     "output_type": "execute_result"
    }
   ],
   "source": [
    "df.groupby('smoke').agg(Median_Baby_Weight = ('weight', 'median')).reset_index()"
   ]
  },
  {
   "attachments": {},
   "cell_type": "markdown",
   "metadata": {},
   "source": [
    "From the table above, we can see that the moms who smoked during pregnancy (`now`) had babies of the lowest birth weight, average of `114.5`."
   ]
  },
  {
   "attachments": {},
   "cell_type": "markdown",
   "metadata": {},
   "source": [
    "### Visually"
   ]
  },
  {
   "cell_type": "code",
   "execution_count": 8,
   "metadata": {
    "id": "gezYMdWciSuQ"
   },
   "outputs": [
    {
     "data": {
      "text/plain": [
       "<Axes: xlabel='smoke', ylabel='weight'>"
      ]
     },
     "execution_count": 8,
     "metadata": {},
     "output_type": "execute_result"
    },
    {
     "data": {
      "image/png": "[encoded data removed]",
      "text/plain": [
       "<Figure size 640x480 with 1 Axes>"
      ]
     },
     "metadata": {},
     "output_type": "display_data"
    }
   ],
   "source": [
    "sns.boxplot(data = df, x = 'smoke', y = 'weight')"
   ]
  },
  {
   "attachments": {},
   "cell_type": "markdown",
   "metadata": {},
   "source": [
    "The effects of maternal smoking on newborn weight are clearly illustrated above."
   ]
  },
  {
   "attachments": {},
   "cell_type": "markdown",
   "metadata": {},
   "source": [
    "---"
   ]
  },
  {
   "attachments": {},
   "cell_type": "markdown",
   "metadata": {
    "id": "ES5mZnyhYQ-5"
   },
   "source": [
    "## Q2. Does the mom’s race affect the newborn birth weight?\n"
   ]
  },
  {
   "attachments": {},
   "cell_type": "markdown",
   "metadata": {},
   "source": [
    "The mom's race is categorical (*qualitative*), and the baby's weight is numerical (*quantitative*). So, we can visually examine the relationship using a boxplot, where the mom's race is on the x-axis, and the baby's weight is on the y-axis."
   ]
  },
  {
   "cell_type": "code",
   "execution_count": 9,
   "metadata": {
    "id": "6fQAD4OkYJr9"
   },
   "outputs": [
    {
     "data": {
      "text/plain": [
       "<Axes: xlabel='mom.race', ylabel='weight'>"
      ]
     },
     "execution_count": 9,
     "metadata": {},
     "output_type": "execute_result"
    },
    {
     "data": {
      "image/png": "[encoded data removed]",
      "text/plain": [
       "<Figure size 640x480 with 1 Axes>"
      ]
     },
     "metadata": {},
     "output_type": "display_data"
    }
   ],
   "source": [
    "sns.boxplot(data = df, x = 'mom.race', y = 'weight')"
   ]
  },
  {
   "attachments": {},
   "cell_type": "markdown",
   "metadata": {},
   "source": [
    "We can also use the [**violin** plot](https://en.wikipedia.org/wiki/Violin_plot), which gives similar results to the boxplot but it provides more detailed and honest distribution of the data."
   ]
  },
  {
   "cell_type": "code",
   "execution_count": 10,
   "metadata": {},
   "outputs": [
    {
     "data": {
      "text/plain": [
       "<Axes: xlabel='mom.race', ylabel='weight'>"
      ]
     },
     "execution_count": 10,
     "metadata": {},
     "output_type": "execute_result"
    },
    {
     "data": {
      "image/png": "[encoded data removed]",
      "text/plain": [
       "<Figure size 640x480 with 1 Axes>"
      ]
     },
     "metadata": {},
     "output_type": "display_data"
    }
   ],
   "source": [
    "sns.violinplot(data = df, x = 'mom.race', y = 'weight')"
   ]
  },
  {
   "attachments": {},
   "cell_type": "markdown",
   "metadata": {},
   "source": [
    "---"
   ]
  },
  {
   "attachments": {},
   "cell_type": "markdown",
   "metadata": {
    "id": "3GVJ6vVTYai-"
   },
   "source": [
    "## Q3. Is there a correlation between the mom’s weight and the baby’s weight?\n"
   ]
  },
  {
   "attachments": {},
   "cell_type": "markdown",
   "metadata": {},
   "source": [
    "Here, the two variables are *quantitative* (numerical). In order to examine the relationship between them, we can demonstrate the correlation between the two variables using a scatter plot or a regression line plot."
   ]
  },
  {
   "cell_type": "code",
   "execution_count": 11,
   "metadata": {
    "id": "3-K9ReE0iuGZ"
   },
   "outputs": [
    {
     "data": {
      "text/plain": [
       "<Axes: xlabel='mom.weight', ylabel='weight'>"
      ]
     },
     "execution_count": 11,
     "metadata": {},
     "output_type": "execute_result"
    },
    {
     "data": {
      "image/png": "[encoded data removed]",
      "text/plain": [
       "<Figure size 640x480 with 1 Axes>"
      ]
     },
     "metadata": {},
     "output_type": "display_data"
    }
   ],
   "source": [
    "sns.regplot(data = df, x = 'mom.weight', y = 'weight')"
   ]
  },
  {
   "attachments": {},
   "cell_type": "markdown",
   "metadata": {},
   "source": [
    "From the above figure, we can see that there is a little bit of association between the mom's weight and the baby's weight. It is somehow expected since there is a genetic factor in determining a baby's weight."
   ]
  },
  {
   "attachments": {},
   "cell_type": "markdown",
   "metadata": {},
   "source": [
    "---"
   ]
  },
  {
   "attachments": {},
   "cell_type": "markdown",
   "metadata": {
    "id": "0tlqNIxRiuj1"
   },
   "source": [
    "## Q4. Is there a correlation between the dad’s weight and the dad's height?\n",
    "(4 points)"
   ]
  },
  {
   "attachments": {},
   "cell_type": "markdown",
   "metadata": {},
   "source": []
  },
  {
   "attachments": {},
   "cell_type": "markdown",
   "metadata": {},
   "source": [
    "---"
   ]
  },
  {
   "attachments": {},
   "cell_type": "markdown",
   "metadata": {
    "id": "RsAASFlFizsw"
   },
   "source": [
    "## Q5. From Q3 and Q4, which is a stronger correlation? Why?\n",
    "(2 points)"
   ]
  },
  {
   "cell_type": "code",
   "execution_count": null,
   "metadata": {
    "id": "nPoeKWjki008"
   },
   "outputs": [],
   "source": []
  },
  {
   "attachments": {},
   "cell_type": "markdown",
   "metadata": {},
   "source": [
    "---"
   ]
  },
  {
   "attachments": {},
   "cell_type": "markdown",
   "metadata": {
    "id": "c1avgW5Xi1MK"
   },
   "source": [
    "## Q6. Is there a correlation between the mom’s weight and the dad’s weight?\n",
    "(4 points)"
   ]
  },
  {
   "cell_type": "code",
   "execution_count": null,
   "metadata": {
    "id": "8E9_p44kjA1O"
   },
   "outputs": [],
   "source": []
  },
  {
   "attachments": {},
   "cell_type": "markdown",
   "metadata": {},
   "source": [
    "---"
   ]
  },
  {
   "attachments": {},
   "cell_type": "markdown",
   "metadata": {
    "id": "E_lPDmPzjBQ1"
   },
   "source": [
    "## Q7. On average, does the mom’s weight change across the races?\n",
    "(4 points)"
   ]
  },
  {
   "cell_type": "code",
   "execution_count": null,
   "metadata": {
    "id": "AbM92i3XjFuJ"
   },
   "outputs": [],
   "source": []
  },
  {
   "attachments": {},
   "cell_type": "markdown",
   "metadata": {},
   "source": [
    "---"
   ]
  },
  {
   "attachments": {},
   "cell_type": "markdown",
   "metadata": {
    "id": "HC-CTen2ys_V"
   },
   "source": [
    "## Q8. Does mom’s smoking pattern change with the mom’s education?"
   ]
  },
  {
   "attachments": {},
   "cell_type": "markdown",
   "metadata": {},
   "source": [
    "These two variables (`mom.edu` and `smoke`) are categorical (*qualitative*). We do not have numbers to able to examine trends in the data. So we will use the `groupby` function to **group** the data according to the *two* variables and use the size function to determine the number of rows (`count`) of different `smoke` patterns under the different `mom.edu` levels. The output will be stored in new data frame called `counts`."
   ]
  },
  {
   "cell_type": "code",
   "execution_count": 12,
   "metadata": {
    "id": "bLA4fyUx06Bm"
   },
   "outputs": [
    {
     "data": {
      "text/html": [
       "<div>\n",
       "<style scoped>\n",
       "    .dataframe tbody tr th:only-of-type {\n",
       "        vertical-align: middle;\n",
       "    }\n",
       "\n",
       "    .dataframe tbody tr th {\n",
       "        vertical-align: top;\n",
       "    }\n",
       "\n",
       "    .dataframe thead th {\n",
       "        text-align: right;\n",
       "    }\n",
       "</style>\n",
       "<table border=\"1\" class=\"dataframe\">\n",
       "  <thead>\n",
       "    <tr style=\"text-align: right;\">\n",
       "      <th></th>\n",
       "      <th>mom.edu</th>\n",
       "      <th>smoke</th>\n",
       "      <th>count</th>\n",
       "    </tr>\n",
       "  </thead>\n",
       "  <tbody>\n",
       "    <tr>\n",
       "      <th>0</th>\n",
       "      <td>0</td>\n",
       "      <td>never</td>\n",
       "      <td>1</td>\n",
       "    </tr>\n",
       "    <tr>\n",
       "      <th>1</th>\n",
       "      <td>0</td>\n",
       "      <td>once_not_now</td>\n",
       "      <td>1</td>\n",
       "    </tr>\n",
       "    <tr>\n",
       "      <th>2</th>\n",
       "      <td>0</td>\n",
       "      <td>until_pregnancy</td>\n",
       "      <td>1</td>\n",
       "    </tr>\n",
       "    <tr>\n",
       "      <th>3</th>\n",
       "      <td>1</td>\n",
       "      <td>never</td>\n",
       "      <td>26</td>\n",
       "    </tr>\n",
       "    <tr>\n",
       "      <th>4</th>\n",
       "      <td>1</td>\n",
       "      <td>now</td>\n",
       "      <td>46</td>\n",
       "    </tr>\n",
       "    <tr>\n",
       "      <th>5</th>\n",
       "      <td>1</td>\n",
       "      <td>once_not_now</td>\n",
       "      <td>6</td>\n",
       "    </tr>\n",
       "    <tr>\n",
       "      <th>6</th>\n",
       "      <td>1</td>\n",
       "      <td>until_pregnancy</td>\n",
       "      <td>7</td>\n",
       "    </tr>\n",
       "    <tr>\n",
       "      <th>7</th>\n",
       "      <td>2</td>\n",
       "      <td>never</td>\n",
       "      <td>103</td>\n",
       "    </tr>\n",
       "    <tr>\n",
       "      <th>8</th>\n",
       "      <td>2</td>\n",
       "      <td>now</td>\n",
       "      <td>90</td>\n",
       "    </tr>\n",
       "    <tr>\n",
       "      <th>9</th>\n",
       "      <td>2</td>\n",
       "      <td>once_not_now</td>\n",
       "      <td>14</td>\n",
       "    </tr>\n",
       "    <tr>\n",
       "      <th>10</th>\n",
       "      <td>2</td>\n",
       "      <td>until_pregnancy</td>\n",
       "      <td>22</td>\n",
       "    </tr>\n",
       "    <tr>\n",
       "      <th>11</th>\n",
       "      <td>3</td>\n",
       "      <td>never</td>\n",
       "      <td>13</td>\n",
       "    </tr>\n",
       "    <tr>\n",
       "      <th>12</th>\n",
       "      <td>3</td>\n",
       "      <td>now</td>\n",
       "      <td>17</td>\n",
       "    </tr>\n",
       "    <tr>\n",
       "      <th>13</th>\n",
       "      <td>3</td>\n",
       "      <td>once_not_now</td>\n",
       "      <td>2</td>\n",
       "    </tr>\n",
       "    <tr>\n",
       "      <th>14</th>\n",
       "      <td>4</td>\n",
       "      <td>never</td>\n",
       "      <td>73</td>\n",
       "    </tr>\n",
       "    <tr>\n",
       "      <th>15</th>\n",
       "      <td>4</td>\n",
       "      <td>now</td>\n",
       "      <td>42</td>\n",
       "    </tr>\n",
       "    <tr>\n",
       "      <th>16</th>\n",
       "      <td>4</td>\n",
       "      <td>once_not_now</td>\n",
       "      <td>23</td>\n",
       "    </tr>\n",
       "    <tr>\n",
       "      <th>17</th>\n",
       "      <td>4</td>\n",
       "      <td>until_pregnancy</td>\n",
       "      <td>14</td>\n",
       "    </tr>\n",
       "    <tr>\n",
       "      <th>18</th>\n",
       "      <td>5</td>\n",
       "      <td>never</td>\n",
       "      <td>66</td>\n",
       "    </tr>\n",
       "    <tr>\n",
       "      <th>19</th>\n",
       "      <td>5</td>\n",
       "      <td>now</td>\n",
       "      <td>21</td>\n",
       "    </tr>\n",
       "    <tr>\n",
       "      <th>20</th>\n",
       "      <td>5</td>\n",
       "      <td>once_not_now</td>\n",
       "      <td>14</td>\n",
       "    </tr>\n",
       "    <tr>\n",
       "      <th>21</th>\n",
       "      <td>5</td>\n",
       "      <td>until_pregnancy</td>\n",
       "      <td>8</td>\n",
       "    </tr>\n",
       "  </tbody>\n",
       "</table>\n",
       "</div>"
      ],
      "text/plain": [
       "    mom.edu            smoke  count\n",
       "0         0            never      1\n",
       "1         0     once_not_now      1\n",
       "2         0  until_pregnancy      1\n",
       "3         1            never     26\n",
       "4         1              now     46\n",
       "5         1     once_not_now      6\n",
       "6         1  until_pregnancy      7\n",
       "7         2            never    103\n",
       "8         2              now     90\n",
       "9         2     once_not_now     14\n",
       "10        2  until_pregnancy     22\n",
       "11        3            never     13\n",
       "12        3              now     17\n",
       "13        3     once_not_now      2\n",
       "14        4            never     73\n",
       "15        4              now     42\n",
       "16        4     once_not_now     23\n",
       "17        4  until_pregnancy     14\n",
       "18        5            never     66\n",
       "19        5              now     21\n",
       "20        5     once_not_now     14\n",
       "21        5  until_pregnancy      8"
      ]
     },
     "execution_count": 12,
     "metadata": {},
     "output_type": "execute_result"
    }
   ],
   "source": [
    "counts = df.groupby(['mom.edu', 'smoke']).size().reset_index(name = 'count')\n",
    "counts"
   ]
  },
  {
   "attachments": {},
   "cell_type": "markdown",
   "metadata": {},
   "source": [
    "The above data frame (`counts`) contains 3 columns, `mom.edu`, `smoke`, and `count`, which is the frequency or number of rows for each combination of `mom.edu` and `smoke`."
   ]
  },
  {
   "attachments": {},
   "cell_type": "markdown",
   "metadata": {},
   "source": [
    "Now we can plot the counts using a bar plot, where `mom.edu` goes on the x-axis and `count` goes on the y-axis. Then, we can stratify the bars according to `smoke`, which will be used to *color-code* the bars. *Seaborn*'s [`barplot`](https://seaborn.pydata.org/generated/seaborn.barplot.html) will take care of the color-coding and generating the corresponding legend for the `smoke` colors (by default, in the top-right corner of the figure)."
   ]
  },
  {
   "cell_type": "code",
   "execution_count": 13,
   "metadata": {},
   "outputs": [
    {
     "data": {
      "text/plain": [
       "<Axes: xlabel='mom.edu', ylabel='count'>"
      ]
     },
     "execution_count": 13,
     "metadata": {},
     "output_type": "execute_result"
    },
    {
     "data": {
      "image/png": "[encoded data removed]",
      "text/plain": [
       "<Figure size 640x480 with 1 Axes>"
      ]
     },
     "metadata": {},
     "output_type": "display_data"
    }
   ],
   "source": [
    "sns.barplot(data = counts, x = \"mom.edu\", y = 'count', hue = 'smoke')"
   ]
  },
  {
   "attachments": {},
   "cell_type": "markdown",
   "metadata": {},
   "source": [
    "The above figure suggests decreasing numbers of the `now` smoking pattern as the `mom.edu` increases."
   ]
  },
  {
   "attachments": {},
   "cell_type": "markdown",
   "metadata": {},
   "source": [
    "To better represent the distribution of smoking patterns among the different mom's education levels, instead of plotting the counts, we can use the *percentages* of the counts to the total number of moms in each education level. This can provide a better (more accurate or *honest*) representation of the distribution of smoking patterns among the different mom's education levels."
   ]
  },
  {
   "attachments": {},
   "cell_type": "markdown",
   "metadata": {},
   "source": [
    "First, we need to obtain the total number of rows (moms) in each education level. To do this, we need to [`groupby`](https://www.geeksforgeeks.org/python-pandas-dataframe-groupby/) again, but this time is based only on `mom.edu`."
   ]
  },
  {
   "cell_type": "code",
   "execution_count": 14,
   "metadata": {},
   "outputs": [
    {
     "data": {
      "text/html": [
       "<div>\n",
       "<style scoped>\n",
       "    .dataframe tbody tr th:only-of-type {\n",
       "        vertical-align: middle;\n",
       "    }\n",
       "\n",
       "    .dataframe tbody tr th {\n",
       "        vertical-align: top;\n",
       "    }\n",
       "\n",
       "    .dataframe thead th {\n",
       "        text-align: right;\n",
       "    }\n",
       "</style>\n",
       "<table border=\"1\" class=\"dataframe\">\n",
       "  <thead>\n",
       "    <tr style=\"text-align: right;\">\n",
       "      <th></th>\n",
       "      <th>mom.edu</th>\n",
       "      <th>total</th>\n",
       "    </tr>\n",
       "  </thead>\n",
       "  <tbody>\n",
       "    <tr>\n",
       "      <th>0</th>\n",
       "      <td>0</td>\n",
       "      <td>3</td>\n",
       "    </tr>\n",
       "    <tr>\n",
       "      <th>1</th>\n",
       "      <td>1</td>\n",
       "      <td>85</td>\n",
       "    </tr>\n",
       "    <tr>\n",
       "      <th>2</th>\n",
       "      <td>2</td>\n",
       "      <td>229</td>\n",
       "    </tr>\n",
       "    <tr>\n",
       "      <th>3</th>\n",
       "      <td>3</td>\n",
       "      <td>32</td>\n",
       "    </tr>\n",
       "    <tr>\n",
       "      <th>4</th>\n",
       "      <td>4</td>\n",
       "      <td>152</td>\n",
       "    </tr>\n",
       "    <tr>\n",
       "      <th>5</th>\n",
       "      <td>5</td>\n",
       "      <td>109</td>\n",
       "    </tr>\n",
       "  </tbody>\n",
       "</table>\n",
       "</div>"
      ],
      "text/plain": [
       "   mom.edu  total\n",
       "0        0      3\n",
       "1        1     85\n",
       "2        2    229\n",
       "3        3     32\n",
       "4        4    152\n",
       "5        5    109"
      ]
     },
     "execution_count": 14,
     "metadata": {},
     "output_type": "execute_result"
    }
   ],
   "source": [
    "totals = df.groupby(['mom.edu']).size().reset_index(name = 'total')\n",
    "totals"
   ]
  },
  {
   "attachments": {},
   "cell_type": "markdown",
   "metadata": {},
   "source": [
    "The above table (`dataframe`) `totals` contains the total number of records (rows) for each mom's educational level (`mom.edu`)."
   ]
  },
  {
   "attachments": {},
   "cell_type": "markdown",
   "metadata": {},
   "source": [
    "Next, we **join** the previously generated `counts` `dataframe` to the newly generated `totals` `dataframe` using Pandas' [`merge`](https://www.geeksforgeeks.org/python-pandas-merging-joining-and-concatenating/) function."
   ]
  },
  {
   "cell_type": "code",
   "execution_count": 15,
   "metadata": {},
   "outputs": [
    {
     "data": {
      "text/html": [
       "<div>\n",
       "<style scoped>\n",
       "    .dataframe tbody tr th:only-of-type {\n",
       "        vertical-align: middle;\n",
       "    }\n",
       "\n",
       "    .dataframe tbody tr th {\n",
       "        vertical-align: top;\n",
       "    }\n",
       "\n",
       "    .dataframe thead th {\n",
       "        text-align: right;\n",
       "    }\n",
       "</style>\n",
       "<table border=\"1\" class=\"dataframe\">\n",
       "  <thead>\n",
       "    <tr style=\"text-align: right;\">\n",
       "      <th></th>\n",
       "      <th>mom.edu</th>\n",
       "      <th>smoke</th>\n",
       "      <th>count</th>\n",
       "      <th>total</th>\n",
       "    </tr>\n",
       "  </thead>\n",
       "  <tbody>\n",
       "    <tr>\n",
       "      <th>0</th>\n",
       "      <td>0</td>\n",
       "      <td>never</td>\n",
       "      <td>1</td>\n",
       "      <td>3</td>\n",
       "    </tr>\n",
       "    <tr>\n",
       "      <th>1</th>\n",
       "      <td>0</td>\n",
       "      <td>once_not_now</td>\n",
       "      <td>1</td>\n",
       "      <td>3</td>\n",
       "    </tr>\n",
       "    <tr>\n",
       "      <th>2</th>\n",
       "      <td>0</td>\n",
       "      <td>until_pregnancy</td>\n",
       "      <td>1</td>\n",
       "      <td>3</td>\n",
       "    </tr>\n",
       "    <tr>\n",
       "      <th>3</th>\n",
       "      <td>1</td>\n",
       "      <td>never</td>\n",
       "      <td>26</td>\n",
       "      <td>85</td>\n",
       "    </tr>\n",
       "    <tr>\n",
       "      <th>4</th>\n",
       "      <td>1</td>\n",
       "      <td>now</td>\n",
       "      <td>46</td>\n",
       "      <td>85</td>\n",
       "    </tr>\n",
       "    <tr>\n",
       "      <th>5</th>\n",
       "      <td>1</td>\n",
       "      <td>once_not_now</td>\n",
       "      <td>6</td>\n",
       "      <td>85</td>\n",
       "    </tr>\n",
       "    <tr>\n",
       "      <th>6</th>\n",
       "      <td>1</td>\n",
       "      <td>until_pregnancy</td>\n",
       "      <td>7</td>\n",
       "      <td>85</td>\n",
       "    </tr>\n",
       "    <tr>\n",
       "      <th>7</th>\n",
       "      <td>2</td>\n",
       "      <td>never</td>\n",
       "      <td>103</td>\n",
       "      <td>229</td>\n",
       "    </tr>\n",
       "    <tr>\n",
       "      <th>8</th>\n",
       "      <td>2</td>\n",
       "      <td>now</td>\n",
       "      <td>90</td>\n",
       "      <td>229</td>\n",
       "    </tr>\n",
       "    <tr>\n",
       "      <th>9</th>\n",
       "      <td>2</td>\n",
       "      <td>once_not_now</td>\n",
       "      <td>14</td>\n",
       "      <td>229</td>\n",
       "    </tr>\n",
       "    <tr>\n",
       "      <th>10</th>\n",
       "      <td>2</td>\n",
       "      <td>until_pregnancy</td>\n",
       "      <td>22</td>\n",
       "      <td>229</td>\n",
       "    </tr>\n",
       "    <tr>\n",
       "      <th>11</th>\n",
       "      <td>3</td>\n",
       "      <td>never</td>\n",
       "      <td>13</td>\n",
       "      <td>32</td>\n",
       "    </tr>\n",
       "    <tr>\n",
       "      <th>12</th>\n",
       "      <td>3</td>\n",
       "      <td>now</td>\n",
       "      <td>17</td>\n",
       "      <td>32</td>\n",
       "    </tr>\n",
       "    <tr>\n",
       "      <th>13</th>\n",
       "      <td>3</td>\n",
       "      <td>once_not_now</td>\n",
       "      <td>2</td>\n",
       "      <td>32</td>\n",
       "    </tr>\n",
       "    <tr>\n",
       "      <th>14</th>\n",
       "      <td>4</td>\n",
       "      <td>never</td>\n",
       "      <td>73</td>\n",
       "      <td>152</td>\n",
       "    </tr>\n",
       "    <tr>\n",
       "      <th>15</th>\n",
       "      <td>4</td>\n",
       "      <td>now</td>\n",
       "      <td>42</td>\n",
       "      <td>152</td>\n",
       "    </tr>\n",
       "    <tr>\n",
       "      <th>16</th>\n",
       "      <td>4</td>\n",
       "      <td>once_not_now</td>\n",
       "      <td>23</td>\n",
       "      <td>152</td>\n",
       "    </tr>\n",
       "    <tr>\n",
       "      <th>17</th>\n",
       "      <td>4</td>\n",
       "      <td>until_pregnancy</td>\n",
       "      <td>14</td>\n",
       "      <td>152</td>\n",
       "    </tr>\n",
       "    <tr>\n",
       "      <th>18</th>\n",
       "      <td>5</td>\n",
       "      <td>never</td>\n",
       "      <td>66</td>\n",
       "      <td>109</td>\n",
       "    </tr>\n",
       "    <tr>\n",
       "      <th>19</th>\n",
       "      <td>5</td>\n",
       "      <td>now</td>\n",
       "      <td>21</td>\n",
       "      <td>109</td>\n",
       "    </tr>\n",
       "    <tr>\n",
       "      <th>20</th>\n",
       "      <td>5</td>\n",
       "      <td>once_not_now</td>\n",
       "      <td>14</td>\n",
       "      <td>109</td>\n",
       "    </tr>\n",
       "    <tr>\n",
       "      <th>21</th>\n",
       "      <td>5</td>\n",
       "      <td>until_pregnancy</td>\n",
       "      <td>8</td>\n",
       "      <td>109</td>\n",
       "    </tr>\n",
       "  </tbody>\n",
       "</table>\n",
       "</div>"
      ],
      "text/plain": [
       "    mom.edu            smoke  count  total\n",
       "0         0            never      1      3\n",
       "1         0     once_not_now      1      3\n",
       "2         0  until_pregnancy      1      3\n",
       "3         1            never     26     85\n",
       "4         1              now     46     85\n",
       "5         1     once_not_now      6     85\n",
       "6         1  until_pregnancy      7     85\n",
       "7         2            never    103    229\n",
       "8         2              now     90    229\n",
       "9         2     once_not_now     14    229\n",
       "10        2  until_pregnancy     22    229\n",
       "11        3            never     13     32\n",
       "12        3              now     17     32\n",
       "13        3     once_not_now      2     32\n",
       "14        4            never     73    152\n",
       "15        4              now     42    152\n",
       "16        4     once_not_now     23    152\n",
       "17        4  until_pregnancy     14    152\n",
       "18        5            never     66    109\n",
       "19        5              now     21    109\n",
       "20        5     once_not_now     14    109\n",
       "21        5  until_pregnancy      8    109"
      ]
     },
     "execution_count": 15,
     "metadata": {},
     "output_type": "execute_result"
    }
   ],
   "source": [
    "merged = counts.merge (totals, on = 'mom.edu')\n",
    "merged"
   ]
  },
  {
   "attachments": {},
   "cell_type": "markdown",
   "metadata": {},
   "source": [
    "Now, can calculate the percentages of the smoking patterns (`smoke`) under each education level (`mom.edu`) and store the results into a *new* column name (let's call it `percentage`) using Pandas's [`assign()`](https://www.geeksforgeeks.org/python-pandas-dataframe-assign/) function to produce a `dataframe`, let's call it `percentages`."
   ]
  },
  {
   "cell_type": "code",
   "execution_count": 16,
   "metadata": {},
   "outputs": [
    {
     "data": {
      "text/html": [
       "<div>\n",
       "<style scoped>\n",
       "    .dataframe tbody tr th:only-of-type {\n",
       "        vertical-align: middle;\n",
       "    }\n",
       "\n",
       "    .dataframe tbody tr th {\n",
       "        vertical-align: top;\n",
       "    }\n",
       "\n",
       "    .dataframe thead th {\n",
       "        text-align: right;\n",
       "    }\n",
       "</style>\n",
       "<table border=\"1\" class=\"dataframe\">\n",
       "  <thead>\n",
       "    <tr style=\"text-align: right;\">\n",
       "      <th></th>\n",
       "      <th>mom.edu</th>\n",
       "      <th>smoke</th>\n",
       "      <th>count</th>\n",
       "      <th>total</th>\n",
       "      <th>percentage</th>\n",
       "    </tr>\n",
       "  </thead>\n",
       "  <tbody>\n",
       "    <tr>\n",
       "      <th>0</th>\n",
       "      <td>0</td>\n",
       "      <td>never</td>\n",
       "      <td>1</td>\n",
       "      <td>3</td>\n",
       "      <td>33.333333</td>\n",
       "    </tr>\n",
       "    <tr>\n",
       "      <th>1</th>\n",
       "      <td>0</td>\n",
       "      <td>once_not_now</td>\n",
       "      <td>1</td>\n",
       "      <td>3</td>\n",
       "      <td>33.333333</td>\n",
       "    </tr>\n",
       "    <tr>\n",
       "      <th>2</th>\n",
       "      <td>0</td>\n",
       "      <td>until_pregnancy</td>\n",
       "      <td>1</td>\n",
       "      <td>3</td>\n",
       "      <td>33.333333</td>\n",
       "    </tr>\n",
       "    <tr>\n",
       "      <th>3</th>\n",
       "      <td>1</td>\n",
       "      <td>never</td>\n",
       "      <td>26</td>\n",
       "      <td>85</td>\n",
       "      <td>30.588235</td>\n",
       "    </tr>\n",
       "    <tr>\n",
       "      <th>4</th>\n",
       "      <td>1</td>\n",
       "      <td>now</td>\n",
       "      <td>46</td>\n",
       "      <td>85</td>\n",
       "      <td>54.117647</td>\n",
       "    </tr>\n",
       "    <tr>\n",
       "      <th>5</th>\n",
       "      <td>1</td>\n",
       "      <td>once_not_now</td>\n",
       "      <td>6</td>\n",
       "      <td>85</td>\n",
       "      <td>7.058824</td>\n",
       "    </tr>\n",
       "    <tr>\n",
       "      <th>6</th>\n",
       "      <td>1</td>\n",
       "      <td>until_pregnancy</td>\n",
       "      <td>7</td>\n",
       "      <td>85</td>\n",
       "      <td>8.235294</td>\n",
       "    </tr>\n",
       "    <tr>\n",
       "      <th>7</th>\n",
       "      <td>2</td>\n",
       "      <td>never</td>\n",
       "      <td>103</td>\n",
       "      <td>229</td>\n",
       "      <td>44.978166</td>\n",
       "    </tr>\n",
       "    <tr>\n",
       "      <th>8</th>\n",
       "      <td>2</td>\n",
       "      <td>now</td>\n",
       "      <td>90</td>\n",
       "      <td>229</td>\n",
       "      <td>39.301310</td>\n",
       "    </tr>\n",
       "    <tr>\n",
       "      <th>9</th>\n",
       "      <td>2</td>\n",
       "      <td>once_not_now</td>\n",
       "      <td>14</td>\n",
       "      <td>229</td>\n",
       "      <td>6.113537</td>\n",
       "    </tr>\n",
       "    <tr>\n",
       "      <th>10</th>\n",
       "      <td>2</td>\n",
       "      <td>until_pregnancy</td>\n",
       "      <td>22</td>\n",
       "      <td>229</td>\n",
       "      <td>9.606987</td>\n",
       "    </tr>\n",
       "    <tr>\n",
       "      <th>11</th>\n",
       "      <td>3</td>\n",
       "      <td>never</td>\n",
       "      <td>13</td>\n",
       "      <td>32</td>\n",
       "      <td>40.625000</td>\n",
       "    </tr>\n",
       "    <tr>\n",
       "      <th>12</th>\n",
       "      <td>3</td>\n",
       "      <td>now</td>\n",
       "      <td>17</td>\n",
       "      <td>32</td>\n",
       "      <td>53.125000</td>\n",
       "    </tr>\n",
       "    <tr>\n",
       "      <th>13</th>\n",
       "      <td>3</td>\n",
       "      <td>once_not_now</td>\n",
       "      <td>2</td>\n",
       "      <td>32</td>\n",
       "      <td>6.250000</td>\n",
       "    </tr>\n",
       "    <tr>\n",
       "      <th>14</th>\n",
       "      <td>4</td>\n",
       "      <td>never</td>\n",
       "      <td>73</td>\n",
       "      <td>152</td>\n",
       "      <td>48.026316</td>\n",
       "    </tr>\n",
       "    <tr>\n",
       "      <th>15</th>\n",
       "      <td>4</td>\n",
       "      <td>now</td>\n",
       "      <td>42</td>\n",
       "      <td>152</td>\n",
       "      <td>27.631579</td>\n",
       "    </tr>\n",
       "    <tr>\n",
       "      <th>16</th>\n",
       "      <td>4</td>\n",
       "      <td>once_not_now</td>\n",
       "      <td>23</td>\n",
       "      <td>152</td>\n",
       "      <td>15.131579</td>\n",
       "    </tr>\n",
       "    <tr>\n",
       "      <th>17</th>\n",
       "      <td>4</td>\n",
       "      <td>until_pregnancy</td>\n",
       "      <td>14</td>\n",
       "      <td>152</td>\n",
       "      <td>9.210526</td>\n",
       "    </tr>\n",
       "    <tr>\n",
       "      <th>18</th>\n",
       "      <td>5</td>\n",
       "      <td>never</td>\n",
       "      <td>66</td>\n",
       "      <td>109</td>\n",
       "      <td>60.550459</td>\n",
       "    </tr>\n",
       "    <tr>\n",
       "      <th>19</th>\n",
       "      <td>5</td>\n",
       "      <td>now</td>\n",
       "      <td>21</td>\n",
       "      <td>109</td>\n",
       "      <td>19.266055</td>\n",
       "    </tr>\n",
       "    <tr>\n",
       "      <th>20</th>\n",
       "      <td>5</td>\n",
       "      <td>once_not_now</td>\n",
       "      <td>14</td>\n",
       "      <td>109</td>\n",
       "      <td>12.844037</td>\n",
       "    </tr>\n",
       "    <tr>\n",
       "      <th>21</th>\n",
       "      <td>5</td>\n",
       "      <td>until_pregnancy</td>\n",
       "      <td>8</td>\n",
       "      <td>109</td>\n",
       "      <td>7.339450</td>\n",
       "    </tr>\n",
       "  </tbody>\n",
       "</table>\n",
       "</div>"
      ],
      "text/plain": [
       "    mom.edu            smoke  count  total  percentage\n",
       "0         0            never      1      3   33.333333\n",
       "1         0     once_not_now      1      3   33.333333\n",
       "2         0  until_pregnancy      1      3   33.333333\n",
       "3         1            never     26     85   30.588235\n",
       "4         1              now     46     85   54.117647\n",
       "5         1     once_not_now      6     85    7.058824\n",
       "6         1  until_pregnancy      7     85    8.235294\n",
       "7         2            never    103    229   44.978166\n",
       "8         2              now     90    229   39.301310\n",
       "9         2     once_not_now     14    229    6.113537\n",
       "10        2  until_pregnancy     22    229    9.606987\n",
       "11        3            never     13     32   40.625000\n",
       "12        3              now     17     32   53.125000\n",
       "13        3     once_not_now      2     32    6.250000\n",
       "14        4            never     73    152   48.026316\n",
       "15        4              now     42    152   27.631579\n",
       "16        4     once_not_now     23    152   15.131579\n",
       "17        4  until_pregnancy     14    152    9.210526\n",
       "18        5            never     66    109   60.550459\n",
       "19        5              now     21    109   19.266055\n",
       "20        5     once_not_now     14    109   12.844037\n",
       "21        5  until_pregnancy      8    109    7.339450"
      ]
     },
     "execution_count": 16,
     "metadata": {},
     "output_type": "execute_result"
    }
   ],
   "source": [
    "percentages = merged.assign(percentage = 100 * merged['count'] / merged['total'])\n",
    "percentages"
   ]
  },
  {
   "attachments": {},
   "cell_type": "markdown",
   "metadata": {},
   "source": [
    "Finally, we can plot the `percentages` `dataframe` as a bar chart, where `mom.edu` goes on the x-axis and `percentage` of `smoke` goes on the y-axis, and again the bars are stratified by the smoking pattern (`smoke`)."
   ]
  },
  {
   "cell_type": "code",
   "execution_count": 17,
   "metadata": {},
   "outputs": [
    {
     "data": {
      "text/plain": [
       "<Axes: xlabel='mom.edu', ylabel='percentage'>"
      ]
     },
     "execution_count": 17,
     "metadata": {},
     "output_type": "execute_result"
    },
    {
     "data": {
      "image/png": "[encoded data removed]",
      "text/plain": [
       "<Figure size 640x480 with 1 Axes>"
      ]
     },
     "metadata": {},
     "output_type": "display_data"
    }
   ],
   "source": [
    "sns.barplot(data = percentages, x = \"mom.edu\", y = 'percentage', hue = 'smoke')"
   ]
  },
  {
   "attachments": {},
   "cell_type": "markdown",
   "metadata": {},
   "source": [
    "In contrast to the previous plot based on absolute counts, the new plot, which utilizes percentages or relative proportions, reveals that moms with the highest level of education (where `mom.edu` equals `5`) have the lowest proportion of the `now` smoking pattern at only `19.2%`, compared to all other education levels."
   ]
  },
  {
   "attachments": {},
   "cell_type": "markdown",
   "metadata": {},
   "source": [
    "---"
   ]
  },
  {
   "attachments": {},
   "cell_type": "markdown",
   "metadata": {
    "id": "F0b6FIXnjHS4"
   },
   "source": [
    "## Q9. Does mom’s smoking pattern change with the family income?\n",
    "(8 points)"
   ]
  },
  {
   "cell_type": "code",
   "execution_count": null,
   "metadata": {
    "id": "8hh4Cfy4jKy4"
   },
   "outputs": [],
   "source": []
  },
  {
   "attachments": {},
   "cell_type": "markdown",
   "metadata": {},
   "source": [
    "---"
   ]
  },
  {
   "attachments": {},
   "cell_type": "markdown",
   "metadata": {
    "id": "O6T5rtvejLUx"
   },
   "source": [
    "## Q10. Is there a relationship between the mom’s race and the dad’s race?\n",
    "(8 points)"
   ]
  },
  {
   "cell_type": "code",
   "execution_count": null,
   "metadata": {},
   "outputs": [],
   "source": []
  },
  {
   "attachments": {},
   "cell_type": "markdown",
   "metadata": {},
   "source": [
    "___"
   ]
  },
  {
   "attachments": {},
   "cell_type": "markdown",
   "metadata": {},
   "source": [
    "## Analyzing Statistical Significance in Male and Female Weights"
   ]
  },
  {
   "cell_type": "code",
   "execution_count": 27,
   "metadata": {},
   "outputs": [
    {
     "data": {
      "text/plain": [
       "array([110, 148, 130, 192, 180, 185, 205, 140, 195, 180, 150, 196, 200,\n",
       "       135, 168, 140, 210, 185, 160, 178, 200, 130, 178, 155, 150, 150,\n",
       "       170, 165, 200, 160, 165, 190, 195, 170, 195, 174, 180, 192, 168,\n",
       "       170, 170, 165, 165, 175, 163, 160, 198, 168, 160, 150, 145, 210,\n",
       "       165, 185, 155, 180, 160, 157, 150, 167, 185, 235, 170, 170, 150,\n",
       "       150, 186, 175, 158, 128, 160, 165, 165, 205, 185, 165, 170, 155,\n",
       "       180, 185, 167, 156, 145, 160, 165, 165, 138, 172, 220, 225, 149,\n",
       "       165, 185, 220, 175, 165, 192, 165, 195, 157, 164, 140, 156, 208,\n",
       "       180, 150, 140, 192, 150, 235, 172, 160, 230, 175, 160, 145, 177,\n",
       "       145, 170, 160, 145, 165, 180, 212, 212, 170, 115, 200, 165, 157,\n",
       "       150, 160, 155, 190, 180, 157, 168, 162, 190, 145, 190, 140, 194,\n",
       "       173, 173, 145, 195, 197, 156, 160, 149, 197, 150, 128, 146, 175,\n",
       "       217, 165, 165, 140, 165, 170, 185, 160, 170, 175, 160, 205, 195,\n",
       "       180, 170, 220, 152, 193, 175, 165, 162, 200, 179, 170, 158, 140,\n",
       "       165, 190, 200, 190, 170, 190, 187, 200, 173, 145, 170, 147, 150,\n",
       "       180, 178, 175, 160, 215, 205, 173, 165, 170, 165, 155, 190, 145,\n",
       "       165, 155, 165, 205, 170, 183, 190, 180, 175, 150, 180, 240, 185,\n",
       "       150, 178, 200, 140, 190, 150, 195, 145, 163, 142, 190, 183, 168,\n",
       "       150, 190, 145, 150, 180, 163, 120, 150, 215, 165, 205, 180, 250,\n",
       "       197, 145, 165, 162, 170, 150, 180, 190, 192, 175, 156, 135, 170,\n",
       "       165, 175, 188, 190, 220, 185, 170, 160, 146, 155, 148, 155, 164,\n",
       "       190, 185, 165, 164, 170, 185, 160, 130, 202, 147, 200, 135, 165,\n",
       "       170, 156, 180, 220, 156, 148, 180, 215, 165, 170, 175, 182, 146,\n",
       "       165, 180, 193, 180, 180, 150, 125, 165, 160, 175, 159, 158, 182,\n",
       "       150, 145, 148, 195, 205, 155, 162, 170, 170, 160, 190, 145, 215,\n",
       "       180, 140, 178, 175, 168, 150, 195, 175, 173, 180, 175, 150, 190,\n",
       "       175, 182, 150, 165, 180, 135, 165, 140, 175, 156, 180, 183, 170,\n",
       "       142, 160, 195, 185, 190, 180, 135, 180, 125, 165, 165, 170, 127,\n",
       "       162, 155, 160, 167, 187, 170, 145, 205, 220, 185, 190, 208, 154,\n",
       "       135, 170, 153, 160, 150, 148, 150, 193, 155, 180, 205, 160, 145,\n",
       "       180, 210, 130, 158, 180, 187, 195, 188, 160, 165, 120, 175, 160,\n",
       "       212, 178, 147, 168, 230, 184, 168, 180, 173, 185, 138, 165, 165,\n",
       "       180, 175, 160, 180, 190, 160, 150, 150, 185, 190, 163, 173, 150,\n",
       "       220, 160, 170, 160, 155, 180, 165, 168, 145, 250, 185, 183, 165,\n",
       "       180, 150, 150, 170, 145, 145, 160, 148, 175, 150, 150, 159, 163,\n",
       "       150, 205, 170, 185, 200, 185, 143, 188, 150, 165, 200, 155, 180,\n",
       "       173, 190, 220, 210, 140, 165, 166, 185, 200, 190, 173, 178, 168,\n",
       "       175, 140, 198, 145, 165, 146, 123, 210, 150, 170, 183, 188, 206,\n",
       "       185, 190, 160, 149, 200, 150, 165, 170, 160, 152, 160, 175, 220,\n",
       "       168, 165, 160, 185, 155, 170, 180, 190, 185, 110, 188, 190, 175,\n",
       "       134, 169, 140, 150, 140, 158, 165, 185, 185, 165, 165, 136, 215,\n",
       "       160, 150, 140, 199, 175, 195, 150, 150, 205, 150, 150, 135, 130,\n",
       "       173, 190, 180, 245, 170, 165, 170, 135, 140, 140, 195, 175, 165,\n",
       "       145, 165, 170, 260, 140, 165, 170, 160, 175, 120, 163, 170, 160,\n",
       "       138, 155, 160, 167, 137, 180, 190, 190, 215, 172, 145, 180, 170,\n",
       "       183, 155, 185, 155, 167, 195, 165, 185, 150, 245, 170, 130, 180,\n",
       "       190, 150, 150, 140, 182, 140, 200, 190, 170, 180, 165, 172])"
      ]
     },
     "execution_count": 27,
     "metadata": {},
     "output_type": "execute_result"
    }
   ],
   "source": [
    "males_weights = np.array(df['dad.weight'])\n",
    "males_weights"
   ]
  },
  {
   "cell_type": "code",
   "execution_count": 28,
   "metadata": {},
   "outputs": [
    {
     "data": {
      "text/plain": [
       "array([100, 135,  93, 140, 125, 124, 130, 125, 142, 175, 145, 182, 106,\n",
       "       125, 132, 146, 123, 130, 115,  92, 101, 160, 119, 130, 150,  90,\n",
       "       147, 148, 126, 132, 130, 145, 140,  96, 118, 130, 125, 115, 150,\n",
       "       137, 170, 170, 125, 120, 110, 107, 103, 116, 135, 112, 103, 100,\n",
       "       162, 137, 120, 143, 125, 145, 114, 215, 145, 170, 133, 155, 150,\n",
       "       150, 120, 154, 103, 107, 127, 155, 125, 175, 140, 148, 132, 152,\n",
       "       121, 138, 123, 160, 123, 123, 109, 115, 105, 131, 155, 170, 125,\n",
       "       120, 116, 220, 117,  93,  97, 135, 110, 124, 155, 150, 168, 147,\n",
       "       110, 140, 105, 150, 125, 138, 115, 125, 145, 130, 135, 121, 145,\n",
       "       136, 127, 120, 110, 190, 140, 125, 117, 125, 124, 169, 125, 118,\n",
       "       139, 160, 135, 148, 122, 140, 132, 140, 165, 115, 160, 140, 146,\n",
       "       108, 152, 100, 125, 125, 102, 135, 145, 176, 130, 100, 110, 129,\n",
       "       136, 145, 120, 120, 135, 132, 135, 103, 157, 144, 130, 130, 130,\n",
       "       130, 103, 110, 122, 115, 115, 110, 130, 130, 170, 122, 122, 105,\n",
       "       125, 100, 137, 115, 112, 145, 100, 140, 105, 104, 105, 120, 139,\n",
       "       116, 124, 143, 137, 132, 130, 155, 102, 140, 148, 135, 120, 130,\n",
       "       115, 124, 137, 118, 150, 127, 138,  93, 125, 123, 133, 147, 125,\n",
       "       115, 135, 110, 130, 135, 118, 123, 120, 122, 103, 110, 130, 117,\n",
       "        95, 126, 147, 140, 180, 102, 110, 115, 145, 140, 125, 120, 109,\n",
       "       113, 110, 160, 128, 120, 108, 145, 140, 135, 155, 105, 102, 124,\n",
       "       145, 130, 135, 134, 105, 150, 105, 113,  98, 135, 130, 120, 115,\n",
       "       107, 115, 110, 137, 115, 139, 140, 100, 160, 132, 165, 109, 110,\n",
       "       202, 112, 108, 125, 130,  90, 120, 145, 129, 112, 155, 124, 101,\n",
       "       117, 134, 125, 108, 145, 115, 116, 145, 125, 115,  94, 105, 120,\n",
       "       117, 126, 175, 169, 135, 120, 125, 128, 118, 150, 130, 198, 190,\n",
       "       130, 100, 114, 136,  96, 182, 122, 135, 125, 127, 125, 120, 118,\n",
       "       147, 127, 121, 120, 110, 160, 145, 130, 119, 124, 130, 164, 155,\n",
       "       149, 139, 130, 110, 140, 129, 132, 132, 145, 124, 130, 110, 108,\n",
       "       162, 118, 103, 107, 112, 141, 118, 148, 125, 120, 122, 126, 108,\n",
       "       107, 215, 150, 130, 107, 191, 112, 110, 140, 210, 160, 143, 125,\n",
       "       100, 150, 125, 118, 181, 117, 135, 130, 110, 110, 120, 155, 112,\n",
       "       128, 153,  99, 115, 175, 107, 160, 128, 130, 125, 108, 155, 135,\n",
       "       115, 105, 143, 120, 134, 121, 109, 133, 121, 130, 145, 124, 120,\n",
       "       135, 133, 122, 125, 112, 115, 135, 131, 160, 140, 110, 155, 150,\n",
       "       129, 122, 112, 130, 128, 120,  98, 127, 145, 113, 110, 132, 140,\n",
       "       164, 140, 115, 185, 124, 114, 116, 133, 115, 140, 127, 120, 130,\n",
       "       135, 145, 150, 109, 110, 132, 110, 120, 130, 130, 125, 112, 132,\n",
       "       128, 115, 116, 145, 119, 135, 117, 120, 120, 125, 129, 144, 145,\n",
       "       104, 145, 125, 119, 130,  97, 135, 131, 165, 122, 114, 113, 110,\n",
       "       126, 135, 135, 113, 110, 121, 130, 122, 122, 115, 104, 146, 113,\n",
       "       120, 142, 124, 135, 127, 125, 135, 155, 120, 115, 136, 115, 118,\n",
       "       120, 118, 105, 154, 118, 122, 117, 150, 118, 102, 127, 104,  99,\n",
       "       107, 124, 142, 132, 125, 120, 200, 112, 114, 117,  99, 177, 145,\n",
       "       124, 123, 130, 110, 119, 104, 103, 110, 150, 128, 145, 130, 103,\n",
       "       126, 113, 130, 137, 110, 145, 140, 160, 158, 145, 127, 150, 170,\n",
       "       107, 130, 115, 120, 113, 156, 140, 130, 103, 120, 103, 109, 145,\n",
       "       180,  95, 120, 102,  87, 121, 126, 100, 120, 150, 110, 129])"
      ]
     },
     "execution_count": 28,
     "metadata": {},
     "output_type": "execute_result"
    }
   ],
   "source": [
    "females_weights = np.array(df['mom.weight'])\n",
    "females_weights"
   ]
  },
  {
   "cell_type": "code",
   "execution_count": 29,
   "metadata": {},
   "outputs": [
    {
     "data": {
      "text/plain": [
       "Ttest_indResult(statistic=33.739051655655786, pvalue=9.655070371001382e-177)"
      ]
     },
     "execution_count": 29,
     "metadata": {},
     "output_type": "execute_result"
    }
   ],
   "source": [
    "stats.ttest_ind(a=males_weights, b=females_weights)"
   ]
  },
  {
   "cell_type": "code",
   "execution_count": null,
   "metadata": {},
   "outputs": [],
   "source": []
  }
 ],
 "metadata": {
  "colab": {
   "authorship_tag": "ABX9TyO++W4FW0DepwOBufapN57i",
   "include_colab_link": true,
   "provenance": []
  },
  "kernelspec": {
   "display_name": "Python 3 (ipykernel)",
   "language": "python",
   "name": "python3"
  },
  "language_info": {
   "codemirror_mode": {
    "name": "ipython",
    "version": 3
   },
   "file_extension": ".py",
   "mimetype": "text/x-python",
   "name": "python",
   "nbconvert_exporter": "python",
   "pygments_lexer": "ipython3",
   "version": "3.9.7"
  }
 },
 "nbformat": 4,
 "nbformat_minor": 4
}
