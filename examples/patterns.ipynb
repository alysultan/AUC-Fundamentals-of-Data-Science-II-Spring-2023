{
  "cells": [
    {
      "cell_type": "markdown",
      "metadata": {
        "colab_type": "text",
        "id": "view-in-github"
      },
      "source": [
        "<a href=\"https://colab.research.google.com/github/ahmedmoustafa/AUC-Fundamentals-of-Data-Science-II-Spring-2023/blob/main/examples/patterns.ipynb\" target=\"_parent\"><img src=\"https://colab.research.google.com/assets/colab-badge.svg\" alt=\"Open In Colab\"/></a>"
      ]
    },
    {
      "attachments": {},
      "cell_type": "markdown",
      "metadata": {
        "id": "VLDHmibY_QND"
      },
      "source": [
        "# Patterns\n",
        "\n",
        "![Patterned Floor, Sevilla, Spain](https://media.gettyimages.com/id/1182672001/photo/full-frame-shot-of-patterned-floor.jpg?s=2048x2048&w=gi&k=20&c=TE6yzYzNWn_HTAmiWwbpP8NKooNKEbb2l4TuX8s0oUU=)\n",
        "\n",
        "## Write Python programs to print the following pattern:"
      ]
    },
    {
      "attachments": {},
      "cell_type": "markdown",
      "metadata": {},
      "source": [
        "## Patten #1\n",
        "```\n",
        "xoxoxo\n",
        "oxoxo\n",
        "xoxo\n",
        "oxo\n",
        "xo\n",
        "o\n",
        "```"
      ]
    },
    {
      "attachments": {},
      "cell_type": "markdown",
      "metadata": {},
      "source": [
        "### *Method #1*"
      ]
    },
    {
      "cell_type": "code",
      "execution_count": 1,
      "metadata": {
        "colab": {
          "base_uri": "https://localhost:8080/"
        },
        "id": "uDdq0-5U-5p5",
        "outputId": "07528bd9-7118-4b3d-9301-bceda18ce4cf"
      },
      "outputs": [
        {
          "name": "stdout",
          "output_type": "stream",
          "text": [
            "xoxoxo\n",
            "oxoxo\n",
            "xoxo\n",
            "oxo\n",
            "xo\n",
            "o\n",
            "\n"
          ]
        }
      ],
      "source": [
        "n = 7\n",
        "\n",
        "for i in range(n):\n",
        "  for j in range(n-i-1):\n",
        "    if (i + j) % 2 == 0:\n",
        "      print ('x', end = '')\n",
        "    else:\n",
        "      print ('o', end = '')\n",
        "  print ()"
      ]
    },
    {
      "attachments": {},
      "cell_type": "markdown",
      "metadata": {},
      "source": [
        "### *Method #2*"
      ]
    },
    {
      "cell_type": "code",
      "execution_count": 2,
      "metadata": {},
      "outputs": [
        {
          "name": "stdout",
          "output_type": "stream",
          "text": [
            "xoxoxo\n",
            "oxoxo\n",
            "xoxo\n",
            "oxo\n",
            "xo\n",
            "o\n"
          ]
        }
      ],
      "source": [
        "string = \"xoxoxo\"\n",
        "for i in range(len(string)):\n",
        "    print (string[i:])"
      ]
    },
    {
      "attachments": {},
      "cell_type": "markdown",
      "metadata": {},
      "source": [
        "---"
      ]
    },
    {
      "attachments": {},
      "cell_type": "markdown",
      "metadata": {
        "id": "76Gm6KtCAMsC"
      },
      "source": [
        "## Pattern #2\n",
        "\n",
        "```\n",
        "x+++++\n",
        "-x++++\n",
        "--x+++\n",
        "---x++\n",
        "----x+\n",
        "-----x\n",
        "```"
      ]
    },
    {
      "attachments": {},
      "cell_type": "markdown",
      "metadata": {},
      "source": [
        "### *Method #1*"
      ]
    },
    {
      "cell_type": "code",
      "execution_count": 3,
      "metadata": {
        "colab": {
          "base_uri": "https://localhost:8080/"
        },
        "id": "zt5ktsC9_09f",
        "outputId": "a26bfd93-cce6-415f-a3d0-c3673cef7bc6"
      },
      "outputs": [
        {
          "name": "stdout",
          "output_type": "stream",
          "text": [
            "x++++++\n",
            "-x+++++\n",
            "--x++++\n",
            "---x+++\n",
            "----x++\n",
            "-----x+\n",
            "------x\n"
          ]
        }
      ],
      "source": [
        "n = 7\n",
        "\n",
        "for i in range(n):\n",
        "  for j in range(n):\n",
        "    if i == j:\n",
        "      print ('x', end = '')\n",
        "    elif i < j:\n",
        "      print ('+', end = '')\n",
        "    else:\n",
        "      print ('-', end = '')\n",
        "  print ()"
      ]
    },
    {
      "attachments": {},
      "cell_type": "markdown",
      "metadata": {},
      "source": [
        "### *Method #2*"
      ]
    },
    {
      "cell_type": "code",
      "execution_count": 4,
      "metadata": {},
      "outputs": [
        {
          "name": "stdout",
          "output_type": "stream",
          "text": [
            "x++++++\n",
            "-x+++++\n",
            "--x++++\n",
            "---x+++\n",
            "----x++\n",
            "-----x+\n",
            "------x\n"
          ]
        }
      ],
      "source": [
        "n = 7\n",
        "\n",
        "for i in range(n):\n",
        "    for j in range(i):\n",
        "       print ('-', end = '')\n",
        "    print ('x', end = '')\n",
        "    for j in range(i+1, n):\n",
        "       print ('+', end  = '')\n",
        "    print ()"
      ]
    },
    {
      "attachments": {},
      "cell_type": "markdown",
      "metadata": {},
      "source": [
        "### *Method #3*"
      ]
    },
    {
      "cell_type": "code",
      "execution_count": 5,
      "metadata": {},
      "outputs": [
        {
          "name": "stdout",
          "output_type": "stream",
          "text": [
            "x++++++\n",
            "-x+++++\n",
            "--x++++\n",
            "---x+++\n",
            "----x++\n",
            "-----x+\n",
            "------x\n"
          ]
        }
      ],
      "source": [
        "n = 7\n",
        "\n",
        "for i in range(n):\n",
        "    print (\"-\" * i + \"x\" + \"+\" * (n-i-1))"
      ]
    },
    {
      "attachments": {},
      "cell_type": "markdown",
      "metadata": {},
      "source": [
        "---"
      ]
    },
    {
      "attachments": {},
      "cell_type": "markdown",
      "metadata": {},
      "source": [
        "## Pattern #3 - Pyramid\n",
        "\n",
        "```\n",
        "    *\n",
        "   ***\n",
        "  *****\n",
        " *******\n",
        "*********\n",
        "```"
      ]
    },
    {
      "cell_type": "code",
      "execution_count": 6,
      "metadata": {},
      "outputs": [
        {
          "name": "stdout",
          "output_type": "stream",
          "text": [
            "    *\n",
            "   ***\n",
            "  *****\n",
            " *******\n",
            "*********\n"
          ]
        }
      ],
      "source": [
        "n = 5\n",
        "\n",
        "for i in range(n):\n",
        "  print (\" \" * (n-i-1) + \"*\" * (2*i+1))"
      ]
    },
    {
      "attachments": {},
      "cell_type": "markdown",
      "metadata": {},
      "source": [
        "---"
      ]
    },
    {
      "attachments": {},
      "cell_type": "markdown",
      "metadata": {},
      "source": [
        "## Pattern #4 - Inverted Pyramid\n",
        "\n",
        "```\n",
        "*********\n",
        " *******\n",
        "  *****\n",
        "   ***\n",
        "    *\n",
        "```"
      ]
    },
    {
      "cell_type": "code",
      "execution_count": 7,
      "metadata": {},
      "outputs": [
        {
          "name": "stdout",
          "output_type": "stream",
          "text": [
            "*********\n",
            " *******\n",
            "  *****\n",
            "   ***\n",
            "    *\n"
          ]
        }
      ],
      "source": [
        "n = 5\n",
        "\n",
        "for i in range(n-1, -1, -1):\n",
        "  print (\" \" * (n-i-1) + \"*\" * (2*i+1))"
      ]
    },
    {
      "attachments": {},
      "cell_type": "markdown",
      "metadata": {},
      "source": [
        "---"
      ]
    },
    {
      "attachments": {},
      "cell_type": "markdown",
      "metadata": {
        "id": "z2vFg8OZBXWM"
      },
      "source": [
        "## Pattern #5 - Diamond\n",
        "\n",
        "```\n",
        "    *\n",
        "   ***\n",
        "  *****\n",
        " *******\n",
        "*********\n",
        " *******\n",
        "  *****\n",
        "   ***\n",
        "    *\n",
        "```"
      ]
    },
    {
      "cell_type": "code",
      "execution_count": 8,
      "metadata": {
        "colab": {
          "base_uri": "https://localhost:8080/"
        },
        "id": "7SzP3Ye-BNHx",
        "outputId": "d223665a-a34c-4de6-921b-1c9646e3436d"
      },
      "outputs": [
        {
          "name": "stdout",
          "output_type": "stream",
          "text": [
            "    *\n",
            "   ***\n",
            "  *****\n",
            " *******\n",
            "*********\n",
            " *******\n",
            "  *****\n",
            "   ***\n",
            "    *\n"
          ]
        }
      ],
      "source": [
        "n = 5\n",
        "\n",
        "for i in range(n):\n",
        "  print (\" \" * (n-i-1) + \"*\" * (2*i+1))\n",
        "\n",
        "for i in range(n-2, -1, -1):\n",
        "  print (\" \" * (n-i-1) + \"*\" * (2*i+1))"
      ]
    },
    {
      "attachments": {},
      "cell_type": "markdown",
      "metadata": {},
      "source": [
        "---"
      ]
    }
  ],
  "metadata": {
    "colab": {
      "authorship_tag": "ABX9TyPMxscXDoVAWvoc7LQWih6b",
      "include_colab_link": true,
      "provenance": []
    },
    "kernelspec": {
      "display_name": "Python 3",
      "name": "python3"
    },
    "language_info": {
      "codemirror_mode": {
        "name": "ipython",
        "version": 3
      },
      "file_extension": ".py",
      "mimetype": "text/x-python",
      "name": "python",
      "nbconvert_exporter": "python",
      "pygments_lexer": "ipython3",
      "version": "3.9.7"
    }
  },
  "nbformat": 4,
  "nbformat_minor": 0
}
