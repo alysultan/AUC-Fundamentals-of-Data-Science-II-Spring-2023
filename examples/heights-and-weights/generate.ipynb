{
 "cells": [
  {
   "cell_type": "code",
   "execution_count": 1,
   "metadata": {},
   "outputs": [],
   "source": [
    "from faker import Faker\n",
    "import numpy as np\n",
    "import pandas as pd\n",
    "\n",
    "# Set the random seed for reproducibility\n",
    "np.random.seed(42)\n",
    "\n",
    "# Create an instance of the Faker generator\n",
    "fake = Faker()\n",
    "\n",
    "# Generate random names and genders\n",
    "names = [fake.name() for _ in range(1000)]\n",
    "genders = [fake.random_element(['Male', 'Female']) for _ in range(1000)]\n",
    "\n",
    "# Generate random heights based on gender\n",
    "heights = []\n",
    "for gender in genders:\n",
    "    if gender == 'Male':\n",
    "        height = np.round(np.random.normal(loc=175, scale=7), 1)\n",
    "    else:\n",
    "        height = np.round(np.random.normal(loc=162, scale=6), 1)\n",
    "    heights.append(height)\n",
    "\n",
    "# Generate random weights based on gender\n",
    "weights = []\n",
    "for gender in genders:\n",
    "    if gender == 'Male':\n",
    "        weight = np.round(np.random.normal(loc=75, scale=10), 1)\n",
    "    else:\n",
    "        weight = np.round(np.random.normal(loc=60, scale=8), 1)\n",
    "    weights.append(weight)\n",
    "\n",
    "# Create a DataFrame to store the dataset\n",
    "df = pd.DataFrame({\n",
    "    'Name': names,\n",
    "    'Sex': genders,\n",
    "    'Height': heights,\n",
    "    'Weight': weights\n",
    "})\n",
    "\n",
    "# Save the dataset to a CSV file\n",
    "df.to_csv('sex_height_weight.csv', index=False)"
   ]
  },
  {
   "cell_type": "code",
   "execution_count": null,
   "metadata": {},
   "outputs": [],
   "source": []
  }
 ],
 "metadata": {
  "kernelspec": {
   "display_name": "Python 3",
   "language": "python",
   "name": "python3"
  },
  "language_info": {
   "codemirror_mode": {
    "name": "ipython",
    "version": 3
   },
   "file_extension": ".py",
   "mimetype": "text/x-python",
   "name": "python",
   "nbconvert_exporter": "python",
   "pygments_lexer": "ipython3",
   "version": "3.11.1"
  },
  "orig_nbformat": 4
 },
 "nbformat": 4,
 "nbformat_minor": 2
}
