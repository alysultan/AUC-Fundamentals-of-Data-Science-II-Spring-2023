{
  "cells": [
    {
      "attachments": {},
      "cell_type": "markdown",
      "metadata": {
        "colab_type": "text",
        "id": "view-in-github"
      },
      "source": [
        "<a href=\"https://colab.research.google.com/github/ahmedmoustafa/AUC-Fundamentals-of-Data-Science-II-Spring-2023/blob/main/examples/heights_weights/heights_weights.ipynb\" target=\"_parent\"><img src=\"https://colab.research.google.com/assets/colab-badge.svg\" alt=\"Open In Colab\"/></a>"
      ]
    },
    {
      "attachments": {},
      "cell_type": "markdown",
      "metadata": {},
      "source": [
        "# Sex, Height, and Weight"
      ]
    },
    {
      "cell_type": "code",
      "execution_count": 1,
      "metadata": {
        "id": "R5KAHOwxSrAE"
      },
      "outputs": [],
      "source": [
        "import pandas as pd\n",
        "import numpy as np\n",
        "from matplotlib import pyplot\n",
        "import scipy.stats as stats"
      ]
    },
    {
      "cell_type": "code",
      "execution_count": 2,
      "metadata": {
        "colab": {
          "base_uri": "https://localhost:8080/"
        },
        "id": "N1qiyD1XSuKN",
        "outputId": "4e861522-e285-4a2c-cb5b-9bd437dee3e2"
      },
      "outputs": [
        {
          "data": {
            "text/plain": [
              "(1000, 4)"
            ]
          },
          "execution_count": 2,
          "metadata": {},
          "output_type": "execute_result"
        }
      ],
      "source": [
        "df = pd.read_csv(\"https://raw.githubusercontent.com/ahmedmoustafa/AUC-Fundamentals-of-Data-Science-II-Spring-2023/main/examples/heights-and-weights/sex_heights_weights.csv\")\n",
        "df.shape"
      ]
    },
    {
      "cell_type": "code",
      "execution_count": 3,
      "metadata": {
        "colab": {
          "base_uri": "https://localhost:8080/",
          "height": 206
        },
        "id": "f1TuROSNS0XN",
        "outputId": "d97d1de6-df45-4db8-cbbc-cf70040c9b08"
      },
      "outputs": [
        {
          "data": {
            "text/html": [
              "<div>\n",
              "<style scoped>\n",
              "    .dataframe tbody tr th:only-of-type {\n",
              "        vertical-align: middle;\n",
              "    }\n",
              "\n",
              "    .dataframe tbody tr th {\n",
              "        vertical-align: top;\n",
              "    }\n",
              "\n",
              "    .dataframe thead th {\n",
              "        text-align: right;\n",
              "    }\n",
              "</style>\n",
              "<table border=\"1\" class=\"dataframe\">\n",
              "  <thead>\n",
              "    <tr style=\"text-align: right;\">\n",
              "      <th></th>\n",
              "      <th>Name</th>\n",
              "      <th>Gender</th>\n",
              "      <th>Height</th>\n",
              "      <th>Weight</th>\n",
              "    </tr>\n",
              "  </thead>\n",
              "  <tbody>\n",
              "    <tr>\n",
              "      <th>0</th>\n",
              "      <td>Jennifer Wolfe</td>\n",
              "      <td>Male</td>\n",
              "      <td>178.476999</td>\n",
              "      <td>88.993554</td>\n",
              "    </tr>\n",
              "    <tr>\n",
              "      <th>1</th>\n",
              "      <td>Tina Barber</td>\n",
              "      <td>Female</td>\n",
              "      <td>161.170414</td>\n",
              "      <td>67.397069</td>\n",
              "    </tr>\n",
              "    <tr>\n",
              "      <th>2</th>\n",
              "      <td>Dr. David Beasley Jr.</td>\n",
              "      <td>Female</td>\n",
              "      <td>165.886131</td>\n",
              "      <td>60.477043</td>\n",
              "    </tr>\n",
              "    <tr>\n",
              "      <th>3</th>\n",
              "      <td>Jake Lewis</td>\n",
              "      <td>Female</td>\n",
              "      <td>171.138179</td>\n",
              "      <td>54.824506</td>\n",
              "    </tr>\n",
              "    <tr>\n",
              "      <th>4</th>\n",
              "      <td>John Alvarez</td>\n",
              "      <td>Male</td>\n",
              "      <td>173.360926</td>\n",
              "      <td>81.982233</td>\n",
              "    </tr>\n",
              "  </tbody>\n",
              "</table>\n",
              "</div>"
            ],
            "text/plain": [
              "                    Name  Gender      Height     Weight\n",
              "0         Jennifer Wolfe    Male  178.476999  88.993554\n",
              "1            Tina Barber  Female  161.170414  67.397069\n",
              "2  Dr. David Beasley Jr.  Female  165.886131  60.477043\n",
              "3             Jake Lewis  Female  171.138179  54.824506\n",
              "4           John Alvarez    Male  173.360926  81.982233"
            ]
          },
          "execution_count": 3,
          "metadata": {},
          "output_type": "execute_result"
        }
      ],
      "source": [
        "df.head()"
      ]
    },
    {
      "cell_type": "code",
      "execution_count": 4,
      "metadata": {
        "colab": {
          "base_uri": "https://localhost:8080/"
        },
        "id": "4jduqNo2S67K",
        "outputId": "75b4f32b-880d-450c-ad1a-6a3021177548"
      },
      "outputs": [
        {
          "data": {
            "text/plain": [
              "Gender\n",
              "Female    499\n",
              "Male      501\n",
              "dtype: int64"
            ]
          },
          "execution_count": 4,
          "metadata": {},
          "output_type": "execute_result"
        }
      ],
      "source": [
        "df.groupby('Gender').size()"
      ]
    },
    {
      "cell_type": "code",
      "execution_count": 5,
      "metadata": {
        "colab": {
          "base_uri": "https://localhost:8080/"
        },
        "id": "loyO8B5US73q",
        "outputId": "3b1a292c-7aff-4891-d90a-682e4761d16c"
      },
      "outputs": [
        {
          "data": {
            "text/plain": [
              "0     178.476999\n",
              "4     173.360926\n",
              "10    171.756076\n",
              "12    176.693736\n",
              "14    162.925575\n",
              "Name: Height, dtype: float64"
            ]
          },
          "execution_count": 5,
          "metadata": {},
          "output_type": "execute_result"
        }
      ],
      "source": [
        "males_heights = df.loc[df['Gender'] == 'Male']['Height']\n",
        "males_heights.head()"
      ]
    },
    {
      "cell_type": "code",
      "execution_count": 6,
      "metadata": {
        "colab": {
          "base_uri": "https://localhost:8080/"
        },
        "id": "L-CJWn0US9AB",
        "outputId": "a9251c6b-8a31-42c0-8d6e-7438ad6cd24a"
      },
      "outputs": [
        {
          "data": {
            "text/plain": [
              "1    161.170414\n",
              "2    165.886131\n",
              "3    171.138179\n",
              "5    160.595178\n",
              "6    171.475277\n",
              "Name: Height, dtype: float64"
            ]
          },
          "execution_count": 6,
          "metadata": {},
          "output_type": "execute_result"
        }
      ],
      "source": [
        "females_heights = df.loc[df['Gender'] == 'Female']['Height']\n",
        "females_heights.head()"
      ]
    },
    {
      "cell_type": "code",
      "execution_count": 7,
      "metadata": {
        "colab": {
          "base_uri": "https://localhost:8080/",
          "height": 430
        },
        "id": "VDAV3IHMS-Zq",
        "outputId": "99f19913-e465-4bbd-e078-9dd7dad0ecad"
      },
      "outputs": [
        {
          "data": {
            "image/png": "[encoded data removed]",
            "text/plain": [
              "<Figure size 640x480 with 1 Axes>"
            ]
          },
          "metadata": {},
          "output_type": "display_data"
        }
      ],
      "source": [
        "pyplot.hist(males_heights, alpha=0.5, label='Males')\n",
        "pyplot.hist(females_heights, alpha=0.5, label='Females')\n",
        "pyplot.legend(loc='upper right')\n",
        "pyplot.show()"
      ]
    },
    {
      "cell_type": "code",
      "execution_count": 8,
      "metadata": {
        "colab": {
          "base_uri": "https://localhost:8080/"
        },
        "id": "uTXCjrwHTMn_",
        "outputId": "b83d45f3-4419-4783-af72-bfa04ba91299"
      },
      "outputs": [
        {
          "data": {
            "text/plain": [
              "174.987405659491"
            ]
          },
          "execution_count": 8,
          "metadata": {},
          "output_type": "execute_result"
        }
      ],
      "source": [
        "np.mean(males_heights)"
      ]
    },
    {
      "cell_type": "code",
      "execution_count": 9,
      "metadata": {
        "colab": {
          "base_uri": "https://localhost:8080/"
        },
        "id": "k2zybFskTPl-",
        "outputId": "0139bf9a-bef9-4bb8-956b-d00ad35082ce"
      },
      "outputs": [
        {
          "data": {
            "text/plain": [
              "162.24328798514392"
            ]
          },
          "execution_count": 9,
          "metadata": {},
          "output_type": "execute_result"
        }
      ],
      "source": [
        "np.mean(females_heights)"
      ]
    },
    {
      "cell_type": "code",
      "execution_count": 10,
      "metadata": {
        "colab": {
          "base_uri": "https://localhost:8080/"
        },
        "id": "sTLhYVXbTRx9",
        "outputId": "0db38140-a406-43ab-f10c-cdd886b5a440"
      },
      "outputs": [
        {
          "data": {
            "text/plain": [
              "Ttest_indResult(statistic=31.339296972405272, pvalue=1.1687212633442504e-150)"
            ]
          },
          "execution_count": 10,
          "metadata": {},
          "output_type": "execute_result"
        }
      ],
      "source": [
        "stats.ttest_ind(a=males_heights, b=females_heights)"
      ]
    },
    {
      "cell_type": "code",
      "execution_count": 11,
      "metadata": {
        "colab": {
          "base_uri": "https://localhost:8080/"
        },
        "id": "hDDOnGEjTTYl",
        "outputId": "b09a46c1-e97e-4fa9-e5c2-ca9329ef1106"
      },
      "outputs": [
        {
          "data": {
            "text/plain": [
              "764    183.044913\n",
              "95     164.755395\n",
              "528    176.818058\n",
              "157    178.316830\n",
              "513    168.647054\n",
              "350    177.176353\n",
              "562    181.097873\n",
              "597    168.148654\n",
              "270    185.088913\n",
              "254    164.364410\n",
              "Name: Height, dtype: float64"
            ]
          },
          "execution_count": 11,
          "metadata": {},
          "output_type": "execute_result"
        }
      ],
      "source": [
        "sample1 = males_heights.sample(n=10)\n",
        "sample1"
      ]
    },
    {
      "cell_type": "code",
      "execution_count": 12,
      "metadata": {
        "colab": {
          "base_uri": "https://localhost:8080/"
        },
        "id": "Tr4VDt7STVm1",
        "outputId": "9f418796-4d0d-47de-9ad1-23b22167d319"
      },
      "outputs": [
        {
          "data": {
            "text/plain": [
              "174.74584541057328"
            ]
          },
          "execution_count": 12,
          "metadata": {},
          "output_type": "execute_result"
        }
      ],
      "source": [
        "np.mean(sample1)"
      ]
    },
    {
      "cell_type": "code",
      "execution_count": 13,
      "metadata": {
        "colab": {
          "base_uri": "https://localhost:8080/"
        },
        "id": "Xdb7j7LgTWol",
        "outputId": "eb12c083-054d-46c2-d3bd-b478e4111feb"
      },
      "outputs": [
        {
          "data": {
            "text/plain": [
              "960    179.499059\n",
              "965    185.080821\n",
              "195    177.697222\n",
              "582    179.429473\n",
              "56     169.125477\n",
              "185    179.998003\n",
              "938    176.706605\n",
              "674    165.147418\n",
              "235    179.437433\n",
              "357    172.979390\n",
              "Name: Height, dtype: float64"
            ]
          },
          "execution_count": 13,
          "metadata": {},
          "output_type": "execute_result"
        }
      ],
      "source": [
        "sample2 = males_heights.sample(n=10)\n",
        "sample2"
      ]
    },
    {
      "cell_type": "code",
      "execution_count": 14,
      "metadata": {
        "colab": {
          "base_uri": "https://localhost:8080/"
        },
        "id": "FSAs3bbcTYG-",
        "outputId": "2ef59af6-a80a-4267-bfce-c3f401a6e0d2"
      },
      "outputs": [
        {
          "data": {
            "text/plain": [
              "176.51009011613098"
            ]
          },
          "execution_count": 14,
          "metadata": {},
          "output_type": "execute_result"
        }
      ],
      "source": [
        "np.mean(sample2)"
      ]
    },
    {
      "cell_type": "code",
      "execution_count": 15,
      "metadata": {
        "colab": {
          "base_uri": "https://localhost:8080/"
        },
        "id": "3V1QWG42TZd9",
        "outputId": "cd1f4c09-4af5-4e36-fb7a-93cba67ac25f"
      },
      "outputs": [
        {
          "data": {
            "text/plain": [
              "-1.7642447055577009"
            ]
          },
          "execution_count": 15,
          "metadata": {},
          "output_type": "execute_result"
        }
      ],
      "source": [
        "np.mean(sample1) - np.mean(sample2)"
      ]
    },
    {
      "cell_type": "code",
      "execution_count": 16,
      "metadata": {
        "colab": {
          "base_uri": "https://localhost:8080/"
        },
        "id": "HinXDieAThBa",
        "outputId": "9f75b0ca-7a83-4094-89e3-0ae249460633"
      },
      "outputs": [
        {
          "data": {
            "text/plain": [
              "Ttest_indResult(statistic=-0.5786353828557003, pvalue=0.570005410470105)"
            ]
          },
          "execution_count": 16,
          "metadata": {},
          "output_type": "execute_result"
        }
      ],
      "source": [
        "stats.ttest_ind(a=sample1, b=sample2)"
      ]
    },
    {
      "cell_type": "code",
      "execution_count": 17,
      "metadata": {
        "colab": {
          "base_uri": "https://localhost:8080/"
        },
        "id": "X8PeJ_46Ti6a",
        "outputId": "9f4ff7d8-f6d7-46d7-a5c4-beece831de7d"
      },
      "outputs": [
        {
          "data": {
            "text/plain": [
              "0.031999343164919244"
            ]
          },
          "execution_count": 17,
          "metadata": {},
          "output_type": "execute_result"
        }
      ],
      "source": [
        "diff = []\n",
        "for i in range(10000):\n",
        "    sample1 = males_heights.sample(n=10)\n",
        "    sample2 = males_heights.sample(n=10)\n",
        "    diff.append(np.mean(sample1) - np.mean(sample2))\n",
        "\n",
        "np.mean(diff)"
      ]
    },
    {
      "cell_type": "code",
      "execution_count": 18,
      "metadata": {
        "colab": {
          "base_uri": "https://localhost:8080/",
          "height": 537
        },
        "id": "Y-1z0OzOTkbM",
        "outputId": "74435bc1-f6a5-4470-a7ba-09d8ac0123c6"
      },
      "outputs": [
        {
          "data": {
            "text/plain": [
              "(array([  20.,  115.,  579., 1520., 2583., 2670., 1660.,  658.,  171.,\n",
              "          24.]),\n",
              " array([-11.36502559,  -9.11291474,  -6.86080389,  -4.60869305,\n",
              "         -2.3565822 ,  -0.10447135,   2.1476395 ,   4.39975034,\n",
              "          6.65186119,   8.90397204,  11.15608289]),\n",
              " <BarContainer object of 10 artists>)"
            ]
          },
          "execution_count": 18,
          "metadata": {},
          "output_type": "execute_result"
        },
        {
          "data": {
            "image/png": "[encoded data removed]",
            "text/plain": [
              "<Figure size 640x480 with 1 Axes>"
            ]
          },
          "metadata": {},
          "output_type": "display_data"
        }
      ],
      "source": [
        "pyplot.hist(x=diff)"
      ]
    },
    {
      "cell_type": "code",
      "execution_count": 19,
      "metadata": {
        "colab": {
          "base_uri": "https://localhost:8080/"
        },
        "id": "ncVrAaLYTm4a",
        "outputId": "814a53e0-f42f-460d-a2a5-a35ada9756fe"
      },
      "outputs": [
        {
          "data": {
            "text/plain": [
              "12.700821779361263"
            ]
          },
          "execution_count": 19,
          "metadata": {},
          "output_type": "execute_result"
        }
      ],
      "source": [
        "diff = []\n",
        "for i in range(10000):\n",
        "    sample1 = males_heights.sample(n=10)\n",
        "    sample2 = females_heights.sample(n=10)\n",
        "    diff.append(np.mean(sample1) - np.mean(sample2))\n",
        "\n",
        "np.mean(diff)"
      ]
    },
    {
      "cell_type": "code",
      "execution_count": 20,
      "metadata": {
        "colab": {
          "base_uri": "https://localhost:8080/",
          "height": 537
        },
        "id": "MDEqEVkxTpJ6",
        "outputId": "f5d967bf-d472-4449-e1c5-6beda638443f"
      },
      "outputs": [
        {
          "data": {
            "text/plain": [
              "(array([  23.,  197.,  873., 2028., 2871., 2383., 1205.,  344.,   67.,\n",
              "           9.]),\n",
              " array([ 2.73304987,  4.86562903,  6.99820818,  9.13078733, 11.26336649,\n",
              "        13.39594564, 15.5285248 , 17.66110395, 19.7936831 , 21.92626226,\n",
              "        24.05884141]),\n",
              " <BarContainer object of 10 artists>)"
            ]
          },
          "execution_count": 20,
          "metadata": {},
          "output_type": "execute_result"
        },
        {
          "data": {
            "image/png": "[encoded data removed]",
            "text/plain": [
              "<Figure size 640x480 with 1 Axes>"
            ]
          },
          "metadata": {},
          "output_type": "display_data"
        }
      ],
      "source": [
        "pyplot.hist(x=diff)"
      ]
    },
    {
      "cell_type": "code",
      "execution_count": null,
      "metadata": {
        "id": "TCaLpzWmT1En"
      },
      "outputs": [],
      "source": []
    }
  ],
  "metadata": {
    "colab": {
      "authorship_tag": "ABX9TyPy6aVIxH8+72p1Oh0Ye4ow",
      "include_colab_link": true,
      "provenance": []
    },
    "kernelspec": {
      "display_name": "Python 3",
      "name": "python3"
    },
    "language_info": {
      "codemirror_mode": {
        "name": "ipython",
        "version": 3
      },
      "file_extension": ".py",
      "mimetype": "text/x-python",
      "name": "python",
      "nbconvert_exporter": "python",
      "pygments_lexer": "ipython3",
      "version": "3.11.1"
    }
  },
  "nbformat": 4,
  "nbformat_minor": 0
}
