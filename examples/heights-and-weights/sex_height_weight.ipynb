{
  "cells": [
    {
      "attachments": {},
      "cell_type": "markdown",
      "metadata": {
        "colab_type": "text",
        "id": "view-in-github"
      },
      "source": [
        "<a href=\"https://colab.research.google.com/github/ahmedmoustafa/AUC-Fundamentals-of-Data-Science-II-Spring-2023/blob/main/examples/heights_weights/heights_weights.ipynb\" target=\"_parent\"><img src=\"https://colab.research.google.com/assets/colab-badge.svg\" alt=\"Open In Colab\"/></a>"
      ]
    },
    {
      "attachments": {},
      "cell_type": "markdown",
      "metadata": {},
      "source": [
        "# Sex, Height, and Weight"
      ]
    },
    {
      "attachments": {},
      "cell_type": "markdown",
      "metadata": {},
      "source": [
        "This dataset contains the heights and weights of 1000 random males and females. We will conduct some exploration and analysis of the dataset to illustrate the statistical significance between the means of the two populations."
      ]
    },
    {
      "attachments": {},
      "cell_type": "markdown",
      "metadata": {},
      "source": [
        "![People height](https://news.mit.edu/sites/default/files/styles/news_article__image_gallery/public/images/201907/male-female-height-bell-curve-uconn-mit-sex-differences_0.jpeg?itok=PLgnFYf7)"
      ]
    },
    {
      "cell_type": "code",
      "execution_count": 69,
      "metadata": {
        "id": "R5KAHOwxSrAE"
      },
      "outputs": [],
      "source": [
        "# Import the required libraries\n",
        "import pandas as pd\n",
        "import numpy as np\n",
        "from matplotlib import pyplot\n",
        "import scipy.stats as stats"
      ]
    },
    {
      "cell_type": "code",
      "execution_count": 70,
      "metadata": {
        "colab": {
          "base_uri": "https://localhost:8080/"
        },
        "id": "N1qiyD1XSuKN",
        "outputId": "4e861522-e285-4a2c-cb5b-9bd437dee3e2"
      },
      "outputs": [
        {
          "data": {
            "text/plain": [
              "(1000, 4)"
            ]
          },
          "execution_count": 70,
          "metadata": {},
          "output_type": "execute_result"
        }
      ],
      "source": [
        "# Read the dataaset from the specified URL\n",
        "df = pd.read_csv(\"https://raw.githubusercontent.com/ahmedmoustafa/AUC-Fundamentals-of-Data-Science-II-Spring-2023/main/examples/heights-and-weights/sex_height_weight.csv\")\n",
        "df.shape"
      ]
    },
    {
      "cell_type": "code",
      "execution_count": 71,
      "metadata": {
        "colab": {
          "base_uri": "https://localhost:8080/",
          "height": 206
        },
        "id": "f1TuROSNS0XN",
        "outputId": "d97d1de6-df45-4db8-cbbc-cf70040c9b08"
      },
      "outputs": [
        {
          "data": {
            "text/html": [
              "<div>\n",
              "<style scoped>\n",
              "    .dataframe tbody tr th:only-of-type {\n",
              "        vertical-align: middle;\n",
              "    }\n",
              "\n",
              "    .dataframe tbody tr th {\n",
              "        vertical-align: top;\n",
              "    }\n",
              "\n",
              "    .dataframe thead th {\n",
              "        text-align: right;\n",
              "    }\n",
              "</style>\n",
              "<table border=\"1\" class=\"dataframe\">\n",
              "  <thead>\n",
              "    <tr style=\"text-align: right;\">\n",
              "      <th></th>\n",
              "      <th>Name</th>\n",
              "      <th>Sex</th>\n",
              "      <th>Height</th>\n",
              "      <th>Weight</th>\n",
              "    </tr>\n",
              "  </thead>\n",
              "  <tbody>\n",
              "    <tr>\n",
              "      <th>0</th>\n",
              "      <td>Jennifer Wolfe</td>\n",
              "      <td>Male</td>\n",
              "      <td>178.476999</td>\n",
              "      <td>88.993554</td>\n",
              "    </tr>\n",
              "    <tr>\n",
              "      <th>1</th>\n",
              "      <td>Tina Barber</td>\n",
              "      <td>Female</td>\n",
              "      <td>161.170414</td>\n",
              "      <td>67.397069</td>\n",
              "    </tr>\n",
              "    <tr>\n",
              "      <th>2</th>\n",
              "      <td>Dr. David Beasley Jr.</td>\n",
              "      <td>Female</td>\n",
              "      <td>165.886131</td>\n",
              "      <td>60.477043</td>\n",
              "    </tr>\n",
              "    <tr>\n",
              "      <th>3</th>\n",
              "      <td>Jake Lewis</td>\n",
              "      <td>Female</td>\n",
              "      <td>171.138179</td>\n",
              "      <td>54.824506</td>\n",
              "    </tr>\n",
              "    <tr>\n",
              "      <th>4</th>\n",
              "      <td>John Alvarez</td>\n",
              "      <td>Male</td>\n",
              "      <td>173.360926</td>\n",
              "      <td>81.982233</td>\n",
              "    </tr>\n",
              "  </tbody>\n",
              "</table>\n",
              "</div>"
            ],
            "text/plain": [
              "                    Name     Sex      Height     Weight\n",
              "0         Jennifer Wolfe    Male  178.476999  88.993554\n",
              "1            Tina Barber  Female  161.170414  67.397069\n",
              "2  Dr. David Beasley Jr.  Female  165.886131  60.477043\n",
              "3             Jake Lewis  Female  171.138179  54.824506\n",
              "4           John Alvarez    Male  173.360926  81.982233"
            ]
          },
          "execution_count": 71,
          "metadata": {},
          "output_type": "execute_result"
        }
      ],
      "source": [
        "df.head() # Display the the head of the dataset"
      ]
    },
    {
      "cell_type": "code",
      "execution_count": 72,
      "metadata": {},
      "outputs": [
        {
          "data": {
            "image/png": "[encoded data removed]",
            "text/plain": [
              "<Figure size 640x480 with 1 Axes>"
            ]
          },
          "metadata": {},
          "output_type": "display_data"
        }
      ],
      "source": [
        "pyplot.hist(df['Height'], alpha=0.5) # Histogram for the population (males and females) heights\n",
        "pyplot.show()"
      ]
    },
    {
      "cell_type": "code",
      "execution_count": 73,
      "metadata": {},
      "outputs": [
        {
          "data": {
            "text/plain": [
              "168.6280909399918"
            ]
          },
          "execution_count": 73,
          "metadata": {},
          "output_type": "execute_result"
        }
      ],
      "source": [
        "np.mean(df['Height']) # mean of the  population height (males and females, together)"
      ]
    },
    {
      "cell_type": "code",
      "execution_count": 74,
      "metadata": {
        "colab": {
          "base_uri": "https://localhost:8080/"
        },
        "id": "4jduqNo2S67K",
        "outputId": "75b4f32b-880d-450c-ad1a-6a3021177548"
      },
      "outputs": [
        {
          "data": {
            "text/plain": [
              "Sex\n",
              "Female    499\n",
              "Male      501\n",
              "dtype: int64"
            ]
          },
          "execution_count": 74,
          "metadata": {},
          "output_type": "execute_result"
        }
      ],
      "source": [
        "df.groupby('Sex').size() # Group by Sex to find how many rows for each sex"
      ]
    },
    {
      "cell_type": "code",
      "execution_count": 75,
      "metadata": {
        "colab": {
          "base_uri": "https://localhost:8080/"
        },
        "id": "loyO8B5US73q",
        "outputId": "3b1a292c-7aff-4891-d90a-682e4761d16c"
      },
      "outputs": [
        {
          "data": {
            "text/plain": [
              "0     178.476999\n",
              "4     173.360926\n",
              "10    171.756076\n",
              "12    176.693736\n",
              "14    162.925575\n",
              "Name: Height, dtype: float64"
            ]
          },
          "execution_count": 75,
          "metadata": {},
          "output_type": "execute_result"
        }
      ],
      "source": [
        "males_heights = df.loc[df['Sex'] == 'Male']['Height'] # Extract the height of the males\n",
        "males_heights.head()"
      ]
    },
    {
      "cell_type": "code",
      "execution_count": 76,
      "metadata": {
        "colab": {
          "base_uri": "https://localhost:8080/"
        },
        "id": "L-CJWn0US9AB",
        "outputId": "a9251c6b-8a31-42c0-8d6e-7438ad6cd24a"
      },
      "outputs": [
        {
          "data": {
            "text/plain": [
              "1    161.170414\n",
              "2    165.886131\n",
              "3    171.138179\n",
              "5    160.595178\n",
              "6    171.475277\n",
              "Name: Height, dtype: float64"
            ]
          },
          "execution_count": 76,
          "metadata": {},
          "output_type": "execute_result"
        }
      ],
      "source": [
        "females_heights = df.loc[df['Sex'] == 'Female']['Height']  # Extract the height of the females\n",
        "females_heights.head()"
      ]
    },
    {
      "cell_type": "code",
      "execution_count": 77,
      "metadata": {
        "colab": {
          "base_uri": "https://localhost:8080/",
          "height": 430
        },
        "id": "VDAV3IHMS-Zq",
        "outputId": "99f19913-e465-4bbd-e078-9dd7dad0ecad"
      },
      "outputs": [
        {
          "data": {
            "image/png": "[encoded data removed]",
            "text/plain": [
              "<Figure size 640x480 with 1 Axes>"
            ]
          },
          "metadata": {},
          "output_type": "display_data"
        }
      ],
      "source": [
        "pyplot.hist(males_heights, alpha=0.5, label='Males') # Histogram for the males heights\n",
        "pyplot.hist(females_heights, alpha=0.5, label='Females') # Histogram for the females heights\n",
        "pyplot.legend(loc='upper right')\n",
        "pyplot.show()"
      ]
    },
    {
      "cell_type": "code",
      "execution_count": 78,
      "metadata": {
        "colab": {
          "base_uri": "https://localhost:8080/"
        },
        "id": "uTXCjrwHTMn_",
        "outputId": "b83d45f3-4419-4783-af72-bfa04ba91299"
      },
      "outputs": [
        {
          "data": {
            "text/plain": [
              "174.987405659491"
            ]
          },
          "execution_count": 78,
          "metadata": {},
          "output_type": "execute_result"
        }
      ],
      "source": [
        "np.mean(males_heights) # the mean of the males heights"
      ]
    },
    {
      "cell_type": "code",
      "execution_count": 79,
      "metadata": {
        "colab": {
          "base_uri": "https://localhost:8080/"
        },
        "id": "k2zybFskTPl-",
        "outputId": "0139bf9a-bef9-4bb8-956b-d00ad35082ce"
      },
      "outputs": [
        {
          "data": {
            "text/plain": [
              "162.24328798514392"
            ]
          },
          "execution_count": 79,
          "metadata": {},
          "output_type": "execute_result"
        }
      ],
      "source": [
        "np.mean(females_heights) # the mean of the females heights"
      ]
    },
    {
      "attachments": {},
      "cell_type": "markdown",
      "metadata": {},
      "source": [
        "## Statistical Significance in the difference between the heights according to the sex"
      ]
    },
    {
      "cell_type": "code",
      "execution_count": 80,
      "metadata": {
        "colab": {
          "base_uri": "https://localhost:8080/"
        },
        "id": "sTLhYVXbTRx9",
        "outputId": "0db38140-a406-43ab-f10c-cdd886b5a440"
      },
      "outputs": [
        {
          "data": {
            "text/plain": [
              "Ttest_indResult(statistic=31.339296972405272, pvalue=1.1687212633442504e-150)"
            ]
          },
          "execution_count": 80,
          "metadata": {},
          "output_type": "execute_result"
        }
      ],
      "source": [
        "stats.ttest_ind(a=males_heights, b=females_heights)"
      ]
    },
    {
      "attachments": {},
      "cell_type": "markdown",
      "metadata": {},
      "source": [
        "The above t-test shows statistical significance p-value (1.16e-150 is much smaller than 0.05)"
      ]
    },
    {
      "cell_type": "code",
      "execution_count": 81,
      "metadata": {
        "colab": {
          "base_uri": "https://localhost:8080/"
        },
        "id": "hDDOnGEjTTYl",
        "outputId": "b09a46c1-e97e-4fa9-e5c2-ca9329ef1106"
      },
      "outputs": [
        {
          "data": {
            "text/plain": [
              "497    173.667629\n",
              "750    168.537367\n",
              "943    174.305769\n",
              "193    166.279829\n",
              "868    179.609810\n",
              "59     181.828816\n",
              "851    171.111660\n",
              "513    168.647054\n",
              "107    176.222045\n",
              "311    182.691438\n",
              "Name: Height, dtype: float64"
            ]
          },
          "execution_count": 81,
          "metadata": {},
          "output_type": "execute_result"
        }
      ],
      "source": [
        "sample1 = males_heights.sample(n=10)\n",
        "sample1"
      ]
    },
    {
      "cell_type": "code",
      "execution_count": 82,
      "metadata": {
        "colab": {
          "base_uri": "https://localhost:8080/"
        },
        "id": "Tr4VDt7STVm1",
        "outputId": "9f418796-4d0d-47de-9ad1-23b22167d319"
      },
      "outputs": [
        {
          "data": {
            "text/plain": [
              "174.29014170170854"
            ]
          },
          "execution_count": 82,
          "metadata": {},
          "output_type": "execute_result"
        }
      ],
      "source": [
        "np.mean(sample1)"
      ]
    },
    {
      "cell_type": "code",
      "execution_count": 83,
      "metadata": {
        "colab": {
          "base_uri": "https://localhost:8080/"
        },
        "id": "Xdb7j7LgTWol",
        "outputId": "eb12c083-054d-46c2-d3bd-b478e4111feb"
      },
      "outputs": [
        {
          "data": {
            "text/plain": [
              "682    171.328358\n",
              "981    177.978203\n",
              "427    179.802360\n",
              "567    167.943396\n",
              "698    181.468189\n",
              "332    175.530632\n",
              "283    166.335292\n",
              "398    174.198221\n",
              "49     162.658719\n",
              "425    184.580421\n",
              "Name: Height, dtype: float64"
            ]
          },
          "execution_count": 83,
          "metadata": {},
          "output_type": "execute_result"
        }
      ],
      "source": [
        "sample2 = males_heights.sample(n=10)\n",
        "sample2"
      ]
    },
    {
      "cell_type": "code",
      "execution_count": 84,
      "metadata": {
        "colab": {
          "base_uri": "https://localhost:8080/"
        },
        "id": "FSAs3bbcTYG-",
        "outputId": "2ef59af6-a80a-4267-bfce-c3f401a6e0d2"
      },
      "outputs": [
        {
          "data": {
            "text/plain": [
              "174.1823790560539"
            ]
          },
          "execution_count": 84,
          "metadata": {},
          "output_type": "execute_result"
        }
      ],
      "source": [
        "np.mean(sample2)"
      ]
    },
    {
      "cell_type": "code",
      "execution_count": 85,
      "metadata": {
        "colab": {
          "base_uri": "https://localhost:8080/"
        },
        "id": "3V1QWG42TZd9",
        "outputId": "cd1f4c09-4af5-4e36-fb7a-93cba67ac25f"
      },
      "outputs": [
        {
          "data": {
            "text/plain": [
              "0.10776264565464544"
            ]
          },
          "execution_count": 85,
          "metadata": {},
          "output_type": "execute_result"
        }
      ],
      "source": [
        "np.mean(sample1) - np.mean(sample2)"
      ]
    },
    {
      "cell_type": "code",
      "execution_count": 86,
      "metadata": {
        "colab": {
          "base_uri": "https://localhost:8080/"
        },
        "id": "HinXDieAThBa",
        "outputId": "9f75b0ca-7a83-4094-89e3-0ae249460633"
      },
      "outputs": [
        {
          "data": {
            "text/plain": [
              "Ttest_indResult(statistic=0.037342682955653156, pvalue=0.9706228086268043)"
            ]
          },
          "execution_count": 86,
          "metadata": {},
          "output_type": "execute_result"
        }
      ],
      "source": [
        "stats.ttest_ind(a=sample1, b=sample2)"
      ]
    },
    {
      "cell_type": "code",
      "execution_count": 87,
      "metadata": {
        "colab": {
          "base_uri": "https://localhost:8080/"
        },
        "id": "X8PeJ_46Ti6a",
        "outputId": "9f4ff7d8-f6d7-46d7-a5c4-beece831de7d"
      },
      "outputs": [
        {
          "data": {
            "text/plain": [
              "-0.006452186022467788"
            ]
          },
          "execution_count": 87,
          "metadata": {},
          "output_type": "execute_result"
        }
      ],
      "source": [
        "diff = []\n",
        "for i in range(10000):\n",
        "    sample1 = males_heights.sample(n=10)\n",
        "    sample2 = males_heights.sample(n=10)\n",
        "    diff.append(np.mean(sample1) - np.mean(sample2))\n",
        "\n",
        "np.mean(diff)"
      ]
    },
    {
      "cell_type": "code",
      "execution_count": 88,
      "metadata": {
        "colab": {
          "base_uri": "https://localhost:8080/",
          "height": 537
        },
        "id": "Y-1z0OzOTkbM",
        "outputId": "74435bc1-f6a5-4470-a7ba-09d8ac0123c6"
      },
      "outputs": [
        {
          "data": {
            "text/plain": [
              "(array([  14.,  100.,  499., 1609., 2661., 2781., 1576.,  617.,  123.,\n",
              "          20.]),\n",
              " array([-12.02653049,  -9.64511428,  -7.26369808,  -4.88228188,\n",
              "         -2.50086568,  -0.11944948,   2.26196673,   4.64338293,\n",
              "          7.02479913,   9.40621533,  11.78763153]),\n",
              " <BarContainer object of 10 artists>)"
            ]
          },
          "execution_count": 88,
          "metadata": {},
          "output_type": "execute_result"
        },
        {
          "data": {
            "image/png": "[encoded data removed]",
            "text/plain": [
              "<Figure size 640x480 with 1 Axes>"
            ]
          },
          "metadata": {},
          "output_type": "display_data"
        }
      ],
      "source": [
        "pyplot.hist(x=diff)"
      ]
    },
    {
      "cell_type": "code",
      "execution_count": 89,
      "metadata": {
        "colab": {
          "base_uri": "https://localhost:8080/"
        },
        "id": "ncVrAaLYTm4a",
        "outputId": "814a53e0-f42f-460d-a2a5-a35ada9756fe"
      },
      "outputs": [
        {
          "data": {
            "text/plain": [
              "12.785709889078133"
            ]
          },
          "execution_count": 89,
          "metadata": {},
          "output_type": "execute_result"
        }
      ],
      "source": [
        "diff = []\n",
        "for i in range(10000):\n",
        "    sample1 = males_heights.sample(n=10)\n",
        "    sample2 = females_heights.sample(n=10)\n",
        "    diff.append(np.mean(sample1) - np.mean(sample2))\n",
        "\n",
        "np.mean(diff)"
      ]
    },
    {
      "cell_type": "code",
      "execution_count": 90,
      "metadata": {
        "colab": {
          "base_uri": "https://localhost:8080/",
          "height": 537
        },
        "id": "MDEqEVkxTpJ6",
        "outputId": "f5d967bf-d472-4449-e1c5-6beda638443f"
      },
      "outputs": [
        {
          "data": {
            "text/plain": [
              "(array([  24.,  169.,  708., 1793., 2644., 2499., 1483.,  542.,  124.,\n",
              "          14.]),\n",
              " array([ 3.00909755,  5.01213242,  7.01516729,  9.01820217, 11.02123704,\n",
              "        13.02427191, 15.02730678, 17.03034165, 19.03337653, 21.0364114 ,\n",
              "        23.03944627]),\n",
              " <BarContainer object of 10 artists>)"
            ]
          },
          "execution_count": 90,
          "metadata": {},
          "output_type": "execute_result"
        },
        {
          "data": {
            "image/png": "[encoded data removed]",
            "text/plain": [
              "<Figure size 640x480 with 1 Axes>"
            ]
          },
          "metadata": {},
          "output_type": "display_data"
        }
      ],
      "source": [
        "pyplot.hist(x=diff)"
      ]
    },
    {
      "cell_type": "code",
      "execution_count": null,
      "metadata": {
        "id": "TCaLpzWmT1En"
      },
      "outputs": [],
      "source": []
    }
  ],
  "metadata": {
    "colab": {
      "authorship_tag": "ABX9TyPy6aVIxH8+72p1Oh0Ye4ow",
      "include_colab_link": true,
      "provenance": []
    },
    "kernelspec": {
      "display_name": "Python 3",
      "name": "python3"
    },
    "language_info": {
      "codemirror_mode": {
        "name": "ipython",
        "version": 3
      },
      "file_extension": ".py",
      "mimetype": "text/x-python",
      "name": "python",
      "nbconvert_exporter": "python",
      "pygments_lexer": "ipython3",
      "version": "3.11.1"
    }
  },
  "nbformat": 4,
  "nbformat_minor": 0
}
