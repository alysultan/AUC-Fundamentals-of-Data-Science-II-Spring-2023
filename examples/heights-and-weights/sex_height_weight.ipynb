{
  "cells": [
    {
      "attachments": {},
      "cell_type": "markdown",
      "metadata": {
        "colab_type": "text",
        "id": "view-in-github"
      },
      "source": [
        "<a href=\"https://colab.research.google.com/github/ahmedmoustafa/AUC-Fundamentals-of-Data-Science-II-Spring-2023/blob/main/examples/heights_weights/heights_weights.ipynb\" target=\"_parent\"><img src=\"https://colab.research.google.com/assets/colab-badge.svg\" alt=\"Open In Colab\"/></a>"
      ]
    },
    {
      "attachments": {},
      "cell_type": "markdown",
      "metadata": {},
      "source": [
        "# Sex, Height, and Weight"
      ]
    },
    {
      "cell_type": "code",
      "execution_count": 91,
      "metadata": {
        "id": "R5KAHOwxSrAE"
      },
      "outputs": [],
      "source": [
        "# Import the required libraries\n",
        "import pandas as pd\n",
        "import numpy as np\n",
        "from matplotlib import pyplot\n",
        "import scipy.stats as stats"
      ]
    },
    {
      "cell_type": "code",
      "execution_count": 92,
      "metadata": {
        "colab": {
          "base_uri": "https://localhost:8080/"
        },
        "id": "N1qiyD1XSuKN",
        "outputId": "4e861522-e285-4a2c-cb5b-9bd437dee3e2"
      },
      "outputs": [
        {
          "data": {
            "text/plain": [
              "(1000, 4)"
            ]
          },
          "execution_count": 92,
          "metadata": {},
          "output_type": "execute_result"
        }
      ],
      "source": [
        "# Read the dataaset from the specified URL\n",
        "df = pd.read_csv(\"https://raw.githubusercontent.com/ahmedmoustafa/AUC-Fundamentals-of-Data-Science-II-Spring-2023/main/examples/heights-and-weights/sex_height_weight.csv\")\n",
        "df.shape"
      ]
    },
    {
      "cell_type": "code",
      "execution_count": 93,
      "metadata": {
        "colab": {
          "base_uri": "https://localhost:8080/",
          "height": 206
        },
        "id": "f1TuROSNS0XN",
        "outputId": "d97d1de6-df45-4db8-cbbc-cf70040c9b08"
      },
      "outputs": [
        {
          "data": {
            "text/html": [
              "<div>\n",
              "<style scoped>\n",
              "    .dataframe tbody tr th:only-of-type {\n",
              "        vertical-align: middle;\n",
              "    }\n",
              "\n",
              "    .dataframe tbody tr th {\n",
              "        vertical-align: top;\n",
              "    }\n",
              "\n",
              "    .dataframe thead th {\n",
              "        text-align: right;\n",
              "    }\n",
              "</style>\n",
              "<table border=\"1\" class=\"dataframe\">\n",
              "  <thead>\n",
              "    <tr style=\"text-align: right;\">\n",
              "      <th></th>\n",
              "      <th>Name</th>\n",
              "      <th>Sex</th>\n",
              "      <th>Height</th>\n",
              "      <th>Weight</th>\n",
              "    </tr>\n",
              "  </thead>\n",
              "  <tbody>\n",
              "    <tr>\n",
              "      <th>0</th>\n",
              "      <td>Jennifer Wolfe</td>\n",
              "      <td>Male</td>\n",
              "      <td>178.476999</td>\n",
              "      <td>88.993554</td>\n",
              "    </tr>\n",
              "    <tr>\n",
              "      <th>1</th>\n",
              "      <td>Tina Barber</td>\n",
              "      <td>Female</td>\n",
              "      <td>161.170414</td>\n",
              "      <td>67.397069</td>\n",
              "    </tr>\n",
              "    <tr>\n",
              "      <th>2</th>\n",
              "      <td>Dr. David Beasley Jr.</td>\n",
              "      <td>Female</td>\n",
              "      <td>165.886131</td>\n",
              "      <td>60.477043</td>\n",
              "    </tr>\n",
              "    <tr>\n",
              "      <th>3</th>\n",
              "      <td>Jake Lewis</td>\n",
              "      <td>Female</td>\n",
              "      <td>171.138179</td>\n",
              "      <td>54.824506</td>\n",
              "    </tr>\n",
              "    <tr>\n",
              "      <th>4</th>\n",
              "      <td>John Alvarez</td>\n",
              "      <td>Male</td>\n",
              "      <td>173.360926</td>\n",
              "      <td>81.982233</td>\n",
              "    </tr>\n",
              "  </tbody>\n",
              "</table>\n",
              "</div>"
            ],
            "text/plain": [
              "                    Name     Sex      Height     Weight\n",
              "0         Jennifer Wolfe    Male  178.476999  88.993554\n",
              "1            Tina Barber  Female  161.170414  67.397069\n",
              "2  Dr. David Beasley Jr.  Female  165.886131  60.477043\n",
              "3             Jake Lewis  Female  171.138179  54.824506\n",
              "4           John Alvarez    Male  173.360926  81.982233"
            ]
          },
          "execution_count": 93,
          "metadata": {},
          "output_type": "execute_result"
        }
      ],
      "source": [
        "df.head() # Display the the head of the dataset"
      ]
    },
    {
      "cell_type": "code",
      "execution_count": 94,
      "metadata": {},
      "outputs": [
        {
          "data": {
            "image/png": "[encoded data removed]",
            "text/plain": [
              "<Figure size 640x480 with 1 Axes>"
            ]
          },
          "metadata": {},
          "output_type": "display_data"
        }
      ],
      "source": [
        "pyplot.hist(df['Height'], alpha=0.5) # Histogram for the population (males and females) heights\n",
        "pyplot.show()"
      ]
    },
    {
      "cell_type": "code",
      "execution_count": 95,
      "metadata": {},
      "outputs": [
        {
          "data": {
            "text/plain": [
              "168.6280909399918"
            ]
          },
          "execution_count": 95,
          "metadata": {},
          "output_type": "execute_result"
        }
      ],
      "source": [
        "np.mean(df['Height']) # mean of the  population height (males and females, together)"
      ]
    },
    {
      "cell_type": "code",
      "execution_count": 96,
      "metadata": {
        "colab": {
          "base_uri": "https://localhost:8080/"
        },
        "id": "4jduqNo2S67K",
        "outputId": "75b4f32b-880d-450c-ad1a-6a3021177548"
      },
      "outputs": [
        {
          "data": {
            "text/plain": [
              "Sex\n",
              "Female    499\n",
              "Male      501\n",
              "dtype: int64"
            ]
          },
          "execution_count": 96,
          "metadata": {},
          "output_type": "execute_result"
        }
      ],
      "source": [
        "df.groupby('Sex').size() # Group by Sex to find how many rows for each sex"
      ]
    },
    {
      "cell_type": "code",
      "execution_count": 97,
      "metadata": {
        "colab": {
          "base_uri": "https://localhost:8080/"
        },
        "id": "loyO8B5US73q",
        "outputId": "3b1a292c-7aff-4891-d90a-682e4761d16c"
      },
      "outputs": [
        {
          "data": {
            "text/plain": [
              "0     178.476999\n",
              "4     173.360926\n",
              "10    171.756076\n",
              "12    176.693736\n",
              "14    162.925575\n",
              "Name: Height, dtype: float64"
            ]
          },
          "execution_count": 97,
          "metadata": {},
          "output_type": "execute_result"
        }
      ],
      "source": [
        "males_heights = df.loc[df['Sex'] == 'Male']['Height'] # Extract the height of the males\n",
        "males_heights.head()"
      ]
    },
    {
      "cell_type": "code",
      "execution_count": 98,
      "metadata": {
        "colab": {
          "base_uri": "https://localhost:8080/"
        },
        "id": "L-CJWn0US9AB",
        "outputId": "a9251c6b-8a31-42c0-8d6e-7438ad6cd24a"
      },
      "outputs": [
        {
          "data": {
            "text/plain": [
              "1    161.170414\n",
              "2    165.886131\n",
              "3    171.138179\n",
              "5    160.595178\n",
              "6    171.475277\n",
              "Name: Height, dtype: float64"
            ]
          },
          "execution_count": 98,
          "metadata": {},
          "output_type": "execute_result"
        }
      ],
      "source": [
        "females_heights = df.loc[df['Sex'] == 'Female']['Height']  # Extract the height of the females\n",
        "females_heights.head()"
      ]
    },
    {
      "cell_type": "code",
      "execution_count": 99,
      "metadata": {
        "colab": {
          "base_uri": "https://localhost:8080/",
          "height": 430
        },
        "id": "VDAV3IHMS-Zq",
        "outputId": "99f19913-e465-4bbd-e078-9dd7dad0ecad"
      },
      "outputs": [
        {
          "data": {
            "image/png": "[encoded data removed]",
            "text/plain": [
              "<Figure size 640x480 with 1 Axes>"
            ]
          },
          "metadata": {},
          "output_type": "display_data"
        }
      ],
      "source": [
        "pyplot.hist(males_heights, alpha=0.5, label='Males') # Histogram for the males heights\n",
        "pyplot.hist(females_heights, alpha=0.5, label='Females') # Histogram for the females heights\n",
        "pyplot.legend(loc='upper right')\n",
        "pyplot.show()"
      ]
    },
    {
      "cell_type": "code",
      "execution_count": 100,
      "metadata": {
        "colab": {
          "base_uri": "https://localhost:8080/"
        },
        "id": "uTXCjrwHTMn_",
        "outputId": "b83d45f3-4419-4783-af72-bfa04ba91299"
      },
      "outputs": [
        {
          "data": {
            "text/plain": [
              "174.987405659491"
            ]
          },
          "execution_count": 100,
          "metadata": {},
          "output_type": "execute_result"
        }
      ],
      "source": [
        "np.mean(males_heights) # the mean of the males heights"
      ]
    },
    {
      "cell_type": "code",
      "execution_count": 101,
      "metadata": {
        "colab": {
          "base_uri": "https://localhost:8080/"
        },
        "id": "k2zybFskTPl-",
        "outputId": "0139bf9a-bef9-4bb8-956b-d00ad35082ce"
      },
      "outputs": [
        {
          "data": {
            "text/plain": [
              "162.24328798514392"
            ]
          },
          "execution_count": 101,
          "metadata": {},
          "output_type": "execute_result"
        }
      ],
      "source": [
        "np.mean(females_heights) # the mean of the females heights"
      ]
    },
    {
      "attachments": {},
      "cell_type": "markdown",
      "metadata": {},
      "source": [
        "## Statistical Significance in the difference between the heights according to the sex"
      ]
    },
    {
      "cell_type": "code",
      "execution_count": 102,
      "metadata": {
        "colab": {
          "base_uri": "https://localhost:8080/"
        },
        "id": "sTLhYVXbTRx9",
        "outputId": "0db38140-a406-43ab-f10c-cdd886b5a440"
      },
      "outputs": [
        {
          "data": {
            "text/plain": [
              "Ttest_indResult(statistic=31.339296972405272, pvalue=1.1687212633442504e-150)"
            ]
          },
          "execution_count": 102,
          "metadata": {},
          "output_type": "execute_result"
        }
      ],
      "source": [
        "stats.ttest_ind(a=males_heights, b=females_heights)"
      ]
    },
    {
      "attachments": {},
      "cell_type": "markdown",
      "metadata": {},
      "source": [
        "The above t-test shows statistical significance p-value (1.16e-150 is much smaller than 0.05)"
      ]
    },
    {
      "cell_type": "code",
      "execution_count": 103,
      "metadata": {
        "colab": {
          "base_uri": "https://localhost:8080/"
        },
        "id": "hDDOnGEjTTYl",
        "outputId": "b09a46c1-e97e-4fa9-e5c2-ca9329ef1106"
      },
      "outputs": [
        {
          "data": {
            "text/plain": [
              "994    167.988660\n",
              "714    174.736557\n",
              "238    170.367495\n",
              "443    174.376160\n",
              "424    179.517632\n",
              "971    170.232638\n",
              "567    167.943396\n",
              "118    182.999760\n",
              "851    171.111660\n",
              "285    161.335385\n",
              "Name: Height, dtype: float64"
            ]
          },
          "execution_count": 103,
          "metadata": {},
          "output_type": "execute_result"
        }
      ],
      "source": [
        "sample1 = males_heights.sample(n=10)\n",
        "sample1"
      ]
    },
    {
      "cell_type": "code",
      "execution_count": 104,
      "metadata": {
        "colab": {
          "base_uri": "https://localhost:8080/"
        },
        "id": "Tr4VDt7STVm1",
        "outputId": "9f418796-4d0d-47de-9ad1-23b22167d319"
      },
      "outputs": [
        {
          "data": {
            "text/plain": [
              "172.06093426229694"
            ]
          },
          "execution_count": 104,
          "metadata": {},
          "output_type": "execute_result"
        }
      ],
      "source": [
        "np.mean(sample1)"
      ]
    },
    {
      "cell_type": "code",
      "execution_count": 105,
      "metadata": {
        "colab": {
          "base_uri": "https://localhost:8080/"
        },
        "id": "Xdb7j7LgTWol",
        "outputId": "eb12c083-054d-46c2-d3bd-b478e4111feb"
      },
      "outputs": [
        {
          "data": {
            "text/plain": [
              "603    184.489465\n",
              "95     164.755395\n",
              "640    172.649507\n",
              "848    170.535820\n",
              "127    171.035916\n",
              "264    173.232023\n",
              "431    160.725375\n",
              "984    174.974782\n",
              "734    182.204089\n",
              "808    183.790293\n",
              "Name: Height, dtype: float64"
            ]
          },
          "execution_count": 105,
          "metadata": {},
          "output_type": "execute_result"
        }
      ],
      "source": [
        "sample2 = males_heights.sample(n=10)\n",
        "sample2"
      ]
    },
    {
      "cell_type": "code",
      "execution_count": 106,
      "metadata": {
        "colab": {
          "base_uri": "https://localhost:8080/"
        },
        "id": "FSAs3bbcTYG-",
        "outputId": "2ef59af6-a80a-4267-bfce-c3f401a6e0d2"
      },
      "outputs": [
        {
          "data": {
            "text/plain": [
              "173.83926657452875"
            ]
          },
          "execution_count": 106,
          "metadata": {},
          "output_type": "execute_result"
        }
      ],
      "source": [
        "np.mean(sample2)"
      ]
    },
    {
      "cell_type": "code",
      "execution_count": 107,
      "metadata": {
        "colab": {
          "base_uri": "https://localhost:8080/"
        },
        "id": "3V1QWG42TZd9",
        "outputId": "cd1f4c09-4af5-4e36-fb7a-93cba67ac25f"
      },
      "outputs": [
        {
          "data": {
            "text/plain": [
              "-1.7783323122318109"
            ]
          },
          "execution_count": 107,
          "metadata": {},
          "output_type": "execute_result"
        }
      ],
      "source": [
        "np.mean(sample1) - np.mean(sample2)"
      ]
    },
    {
      "cell_type": "code",
      "execution_count": 108,
      "metadata": {
        "colab": {
          "base_uri": "https://localhost:8080/"
        },
        "id": "HinXDieAThBa",
        "outputId": "9f75b0ca-7a83-4094-89e3-0ae249460633"
      },
      "outputs": [
        {
          "data": {
            "text/plain": [
              "Ttest_indResult(statistic=-0.5616651628870163, pvalue=0.5812709050496278)"
            ]
          },
          "execution_count": 108,
          "metadata": {},
          "output_type": "execute_result"
        }
      ],
      "source": [
        "stats.ttest_ind(a=sample1, b=sample2)"
      ]
    },
    {
      "cell_type": "code",
      "execution_count": 109,
      "metadata": {
        "colab": {
          "base_uri": "https://localhost:8080/"
        },
        "id": "X8PeJ_46Ti6a",
        "outputId": "9f4ff7d8-f6d7-46d7-a5c4-beece831de7d"
      },
      "outputs": [
        {
          "data": {
            "text/plain": [
              "0.0019127293160168847"
            ]
          },
          "execution_count": 109,
          "metadata": {},
          "output_type": "execute_result"
        }
      ],
      "source": [
        "diff = []\n",
        "for i in range(10000):\n",
        "    sample1 = males_heights.sample(n=10)\n",
        "    sample2 = males_heights.sample(n=10)\n",
        "    diff.append(np.mean(sample1) - np.mean(sample2))\n",
        "\n",
        "np.mean(diff)"
      ]
    },
    {
      "cell_type": "code",
      "execution_count": 110,
      "metadata": {
        "colab": {
          "base_uri": "https://localhost:8080/",
          "height": 537
        },
        "id": "Y-1z0OzOTkbM",
        "outputId": "74435bc1-f6a5-4470-a7ba-09d8ac0123c6"
      },
      "outputs": [
        {
          "data": {
            "text/plain": [
              "(array([  36.,  225.,  820., 1940., 2806., 2511., 1212.,  384.,   58.,\n",
              "           8.]),\n",
              " array([-10.84276562,  -8.53357464,  -6.22438366,  -3.91519268,\n",
              "         -1.6060017 ,   0.70318928,   3.01238026,   5.32157124,\n",
              "          7.63076222,   9.9399532 ,  12.24914418]),\n",
              " <BarContainer object of 10 artists>)"
            ]
          },
          "execution_count": 110,
          "metadata": {},
          "output_type": "execute_result"
        },
        {
          "data": {
            "image/png": "[encoded data removed]",
            "text/plain": [
              "<Figure size 640x480 with 1 Axes>"
            ]
          },
          "metadata": {},
          "output_type": "display_data"
        }
      ],
      "source": [
        "pyplot.hist(x=diff)"
      ]
    },
    {
      "cell_type": "code",
      "execution_count": 111,
      "metadata": {
        "colab": {
          "base_uri": "https://localhost:8080/"
        },
        "id": "ncVrAaLYTm4a",
        "outputId": "814a53e0-f42f-460d-a2a5-a35ada9756fe"
      },
      "outputs": [
        {
          "data": {
            "text/plain": [
              "12.763567316763224"
            ]
          },
          "execution_count": 111,
          "metadata": {},
          "output_type": "execute_result"
        }
      ],
      "source": [
        "diff = []\n",
        "for i in range(10000):\n",
        "    sample1 = males_heights.sample(n=10)\n",
        "    sample2 = females_heights.sample(n=10)\n",
        "    diff.append(np.mean(sample1) - np.mean(sample2))\n",
        "\n",
        "np.mean(diff)"
      ]
    },
    {
      "cell_type": "code",
      "execution_count": 112,
      "metadata": {
        "colab": {
          "base_uri": "https://localhost:8080/",
          "height": 537
        },
        "id": "MDEqEVkxTpJ6",
        "outputId": "f5d967bf-d472-4449-e1c5-6beda638443f"
      },
      "outputs": [
        {
          "data": {
            "text/plain": [
              "(array([  18.,  121.,  597., 1605., 2690., 2675., 1618.,  560.,   93.,\n",
              "          23.]),\n",
              " array([ 2.36564366,  4.4529139 ,  6.54018413,  8.62745436, 10.7147246 ,\n",
              "        12.80199483, 14.88926506, 16.9765353 , 19.06380553, 21.15107576,\n",
              "        23.23834599]),\n",
              " <BarContainer object of 10 artists>)"
            ]
          },
          "execution_count": 112,
          "metadata": {},
          "output_type": "execute_result"
        },
        {
          "data": {
            "image/png": "[encoded data removed]",
            "text/plain": [
              "<Figure size 640x480 with 1 Axes>"
            ]
          },
          "metadata": {},
          "output_type": "display_data"
        }
      ],
      "source": [
        "pyplot.hist(x=diff)"
      ]
    },
    {
      "cell_type": "code",
      "execution_count": null,
      "metadata": {
        "id": "TCaLpzWmT1En"
      },
      "outputs": [],
      "source": []
    }
  ],
  "metadata": {
    "colab": {
      "authorship_tag": "ABX9TyPy6aVIxH8+72p1Oh0Ye4ow",
      "include_colab_link": true,
      "provenance": []
    },
    "kernelspec": {
      "display_name": "Python 3",
      "name": "python3"
    },
    "language_info": {
      "codemirror_mode": {
        "name": "ipython",
        "version": 3
      },
      "file_extension": ".py",
      "mimetype": "text/x-python",
      "name": "python",
      "nbconvert_exporter": "python",
      "pygments_lexer": "ipython3",
      "version": "3.11.1"
    }
  },
  "nbformat": 4,
  "nbformat_minor": 0
}
