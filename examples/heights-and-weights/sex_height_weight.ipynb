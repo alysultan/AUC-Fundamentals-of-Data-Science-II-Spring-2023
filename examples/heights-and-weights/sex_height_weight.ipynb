{
  "cells": [
    {
      "attachments": {},
      "cell_type": "markdown",
      "metadata": {
        "colab_type": "text",
        "id": "view-in-github"
      },
      "source": [
        "<a href=\"https://colab.research.google.com/github/ahmedmoustafa/AUC-Fundamentals-of-Data-Science-II-Spring-2023/blob/main/examples/heights_weights/heights_weights.ipynb\" target=\"_parent\"><img src=\"https://colab.research.google.com/assets/colab-badge.svg\" alt=\"Open In Colab\"/></a>"
      ]
    },
    {
      "attachments": {},
      "cell_type": "markdown",
      "metadata": {},
      "source": [
        "# Sex, Height, and Weight"
      ]
    },
    {
      "cell_type": "code",
      "execution_count": 1,
      "metadata": {
        "id": "R5KAHOwxSrAE"
      },
      "outputs": [],
      "source": [
        "# Import the required libraries\n",
        "import pandas as pd\n",
        "import numpy as np\n",
        "from matplotlib import pyplot\n",
        "import scipy.stats as stats"
      ]
    },
    {
      "cell_type": "code",
      "execution_count": 2,
      "metadata": {
        "colab": {
          "base_uri": "https://localhost:8080/"
        },
        "id": "N1qiyD1XSuKN",
        "outputId": "4e861522-e285-4a2c-cb5b-9bd437dee3e2"
      },
      "outputs": [
        {
          "data": {
            "text/plain": [
              "(1000, 4)"
            ]
          },
          "execution_count": 2,
          "metadata": {},
          "output_type": "execute_result"
        }
      ],
      "source": [
        "# Read the dataaset from the specified URL\n",
        "df = pd.read_csv(\"https://raw.githubusercontent.com/ahmedmoustafa/AUC-Fundamentals-of-Data-Science-II-Spring-2023/main/examples/heights-and-weights/sex_height_weight.csv\")\n",
        "df.shape"
      ]
    },
    {
      "cell_type": "code",
      "execution_count": 3,
      "metadata": {
        "colab": {
          "base_uri": "https://localhost:8080/",
          "height": 206
        },
        "id": "f1TuROSNS0XN",
        "outputId": "d97d1de6-df45-4db8-cbbc-cf70040c9b08"
      },
      "outputs": [
        {
          "data": {
            "text/html": [
              "<div>\n",
              "<style scoped>\n",
              "    .dataframe tbody tr th:only-of-type {\n",
              "        vertical-align: middle;\n",
              "    }\n",
              "\n",
              "    .dataframe tbody tr th {\n",
              "        vertical-align: top;\n",
              "    }\n",
              "\n",
              "    .dataframe thead th {\n",
              "        text-align: right;\n",
              "    }\n",
              "</style>\n",
              "<table border=\"1\" class=\"dataframe\">\n",
              "  <thead>\n",
              "    <tr style=\"text-align: right;\">\n",
              "      <th></th>\n",
              "      <th>Name</th>\n",
              "      <th>Sex</th>\n",
              "      <th>Height</th>\n",
              "      <th>Weight</th>\n",
              "    </tr>\n",
              "  </thead>\n",
              "  <tbody>\n",
              "    <tr>\n",
              "      <th>0</th>\n",
              "      <td>Jennifer Winters</td>\n",
              "      <td>Female</td>\n",
              "      <td>165.0</td>\n",
              "      <td>71.2</td>\n",
              "    </tr>\n",
              "    <tr>\n",
              "      <th>1</th>\n",
              "      <td>William Hall</td>\n",
              "      <td>Female</td>\n",
              "      <td>161.2</td>\n",
              "      <td>67.4</td>\n",
              "    </tr>\n",
              "    <tr>\n",
              "      <th>2</th>\n",
              "      <td>Jennifer Gill</td>\n",
              "      <td>Male</td>\n",
              "      <td>179.5</td>\n",
              "      <td>75.6</td>\n",
              "    </tr>\n",
              "    <tr>\n",
              "      <th>3</th>\n",
              "      <td>Maria Flynn</td>\n",
              "      <td>Male</td>\n",
              "      <td>185.7</td>\n",
              "      <td>68.5</td>\n",
              "    </tr>\n",
              "    <tr>\n",
              "      <th>4</th>\n",
              "      <td>Kevin Abbott</td>\n",
              "      <td>Male</td>\n",
              "      <td>173.4</td>\n",
              "      <td>82.0</td>\n",
              "    </tr>\n",
              "  </tbody>\n",
              "</table>\n",
              "</div>"
            ],
            "text/plain": [
              "               Name     Sex  Height  Weight\n",
              "0  Jennifer Winters  Female   165.0    71.2\n",
              "1      William Hall  Female   161.2    67.4\n",
              "2     Jennifer Gill    Male   179.5    75.6\n",
              "3       Maria Flynn    Male   185.7    68.5\n",
              "4      Kevin Abbott    Male   173.4    82.0"
            ]
          },
          "execution_count": 3,
          "metadata": {},
          "output_type": "execute_result"
        }
      ],
      "source": [
        "df.head() # Display the the head of the dataset"
      ]
    },
    {
      "cell_type": "code",
      "execution_count": 4,
      "metadata": {},
      "outputs": [
        {
          "data": {
            "image/png": "[encoded data removed]",
            "text/plain": [
              "<Figure size 640x480 with 1 Axes>"
            ]
          },
          "metadata": {},
          "output_type": "display_data"
        }
      ],
      "source": [
        "pyplot.hist(df['Height'], alpha=0.5) # Histogram for the population (males and females) heights\n",
        "pyplot.show()"
      ]
    },
    {
      "cell_type": "code",
      "execution_count": 5,
      "metadata": {},
      "outputs": [
        {
          "data": {
            "text/plain": [
              "168.69769999999997"
            ]
          },
          "execution_count": 5,
          "metadata": {},
          "output_type": "execute_result"
        }
      ],
      "source": [
        "np.mean(df['Height']) # mean of the  population height (males and females, together)"
      ]
    },
    {
      "cell_type": "code",
      "execution_count": 6,
      "metadata": {
        "colab": {
          "base_uri": "https://localhost:8080/"
        },
        "id": "4jduqNo2S67K",
        "outputId": "75b4f32b-880d-450c-ad1a-6a3021177548"
      },
      "outputs": [
        {
          "data": {
            "text/plain": [
              "Sex\n",
              "Female    496\n",
              "Male      504\n",
              "dtype: int64"
            ]
          },
          "execution_count": 6,
          "metadata": {},
          "output_type": "execute_result"
        }
      ],
      "source": [
        "df.groupby('Sex').size() # Group by Sex to find how many rows for each sex"
      ]
    },
    {
      "cell_type": "code",
      "execution_count": 7,
      "metadata": {
        "colab": {
          "base_uri": "https://localhost:8080/"
        },
        "id": "loyO8B5US73q",
        "outputId": "3b1a292c-7aff-4891-d90a-682e4761d16c"
      },
      "outputs": [
        {
          "data": {
            "text/plain": [
              "2    179.5\n",
              "3    185.7\n",
              "4    173.4\n",
              "5    173.4\n",
              "7    180.4\n",
              "Name: Height, dtype: float64"
            ]
          },
          "execution_count": 7,
          "metadata": {},
          "output_type": "execute_result"
        }
      ],
      "source": [
        "males_heights = df.loc[df['Sex'] == 'Male']['Height'] # Extract the height of the males\n",
        "males_heights.head()"
      ]
    },
    {
      "cell_type": "code",
      "execution_count": 8,
      "metadata": {
        "colab": {
          "base_uri": "https://localhost:8080/"
        },
        "id": "L-CJWn0US9AB",
        "outputId": "a9251c6b-8a31-42c0-8d6e-7438ad6cd24a"
      },
      "outputs": [
        {
          "data": {
            "text/plain": [
              "0    165.0\n",
              "1    161.2\n",
              "6    171.5\n",
              "8    159.2\n",
              "9    165.3\n",
              "Name: Height, dtype: float64"
            ]
          },
          "execution_count": 8,
          "metadata": {},
          "output_type": "execute_result"
        }
      ],
      "source": [
        "females_heights = df.loc[df['Sex'] == 'Female']['Height']  # Extract the height of the females\n",
        "females_heights.head()"
      ]
    },
    {
      "cell_type": "code",
      "execution_count": 9,
      "metadata": {
        "colab": {
          "base_uri": "https://localhost:8080/",
          "height": 430
        },
        "id": "VDAV3IHMS-Zq",
        "outputId": "99f19913-e465-4bbd-e078-9dd7dad0ecad"
      },
      "outputs": [
        {
          "data": {
            "image/png": "[encoded data removed]",
            "text/plain": [
              "<Figure size 640x480 with 1 Axes>"
            ]
          },
          "metadata": {},
          "output_type": "display_data"
        }
      ],
      "source": [
        "pyplot.hist(males_heights, alpha=0.5, label='Males') # Histogram for the males heights\n",
        "pyplot.hist(females_heights, alpha=0.5, label='Females') # Histogram for the females heights\n",
        "pyplot.legend(loc='upper right')\n",
        "pyplot.show()"
      ]
    },
    {
      "cell_type": "code",
      "execution_count": 10,
      "metadata": {
        "colab": {
          "base_uri": "https://localhost:8080/"
        },
        "id": "uTXCjrwHTMn_",
        "outputId": "b83d45f3-4419-4783-af72-bfa04ba91299"
      },
      "outputs": [
        {
          "data": {
            "text/plain": [
              "175.41488095238097"
            ]
          },
          "execution_count": 10,
          "metadata": {},
          "output_type": "execute_result"
        }
      ],
      "source": [
        "np.mean(males_heights) # the mean of the males heights"
      ]
    },
    {
      "cell_type": "code",
      "execution_count": 11,
      "metadata": {
        "colab": {
          "base_uri": "https://localhost:8080/"
        },
        "id": "k2zybFskTPl-",
        "outputId": "0139bf9a-bef9-4bb8-956b-d00ad35082ce"
      },
      "outputs": [
        {
          "data": {
            "text/plain": [
              "161.87217741935484"
            ]
          },
          "execution_count": 11,
          "metadata": {},
          "output_type": "execute_result"
        }
      ],
      "source": [
        "np.mean(females_heights) # the mean of the females heights"
      ]
    },
    {
      "attachments": {},
      "cell_type": "markdown",
      "metadata": {},
      "source": [
        "## Statistical Significance in the difference between the heights according to the sex"
      ]
    },
    {
      "cell_type": "code",
      "execution_count": 12,
      "metadata": {
        "colab": {
          "base_uri": "https://localhost:8080/"
        },
        "id": "sTLhYVXbTRx9",
        "outputId": "0db38140-a406-43ab-f10c-cdd886b5a440"
      },
      "outputs": [
        {
          "data": {
            "text/plain": [
              "Ttest_indResult(statistic=33.34828635993142, pvalue=1.9012441400770298e-164)"
            ]
          },
          "execution_count": 12,
          "metadata": {},
          "output_type": "execute_result"
        }
      ],
      "source": [
        "stats.ttest_ind(a=males_heights, b=females_heights)"
      ]
    },
    {
      "attachments": {},
      "cell_type": "markdown",
      "metadata": {},
      "source": [
        "The above t-test shows statistical significance p-value (1.16e-150 is much smaller than 0.05)"
      ]
    },
    {
      "cell_type": "code",
      "execution_count": 13,
      "metadata": {
        "colab": {
          "base_uri": "https://localhost:8080/"
        },
        "id": "hDDOnGEjTTYl",
        "outputId": "b09a46c1-e97e-4fa9-e5c2-ca9329ef1106"
      },
      "outputs": [
        {
          "data": {
            "text/plain": [
              "781    165.7\n",
              "809    168.7\n",
              "343    171.5\n",
              "590    175.5\n",
              "748    170.7\n",
              "298    180.7\n",
              "823    172.5\n",
              "247    170.4\n",
              "48     177.4\n",
              "403    175.3\n",
              "Name: Height, dtype: float64"
            ]
          },
          "execution_count": 13,
          "metadata": {},
          "output_type": "execute_result"
        }
      ],
      "source": [
        "sample1 = males_heights.sample(n=10)\n",
        "sample1"
      ]
    },
    {
      "cell_type": "code",
      "execution_count": 14,
      "metadata": {
        "colab": {
          "base_uri": "https://localhost:8080/"
        },
        "id": "Tr4VDt7STVm1",
        "outputId": "9f418796-4d0d-47de-9ad1-23b22167d319"
      },
      "outputs": [
        {
          "data": {
            "text/plain": [
              "172.83999999999997"
            ]
          },
          "execution_count": 14,
          "metadata": {},
          "output_type": "execute_result"
        }
      ],
      "source": [
        "np.mean(sample1)"
      ]
    },
    {
      "cell_type": "code",
      "execution_count": 15,
      "metadata": {
        "colab": {
          "base_uri": "https://localhost:8080/"
        },
        "id": "Xdb7j7LgTWol",
        "outputId": "eb12c083-054d-46c2-d3bd-b478e4111feb"
      },
      "outputs": [
        {
          "data": {
            "text/plain": [
              "828    172.1\n",
              "634    167.9\n",
              "7      180.4\n",
              "748    170.7\n",
              "674    165.1\n",
              "461    175.2\n",
              "487    167.4\n",
              "991    160.7\n",
              "939    171.1\n",
              "834    174.8\n",
              "Name: Height, dtype: float64"
            ]
          },
          "execution_count": 15,
          "metadata": {},
          "output_type": "execute_result"
        }
      ],
      "source": [
        "sample2 = males_heights.sample(n=10)\n",
        "sample2"
      ]
    },
    {
      "cell_type": "code",
      "execution_count": 16,
      "metadata": {
        "colab": {
          "base_uri": "https://localhost:8080/"
        },
        "id": "FSAs3bbcTYG-",
        "outputId": "2ef59af6-a80a-4267-bfce-c3f401a6e0d2"
      },
      "outputs": [
        {
          "data": {
            "text/plain": [
              "170.54"
            ]
          },
          "execution_count": 16,
          "metadata": {},
          "output_type": "execute_result"
        }
      ],
      "source": [
        "np.mean(sample2)"
      ]
    },
    {
      "cell_type": "code",
      "execution_count": 17,
      "metadata": {
        "colab": {
          "base_uri": "https://localhost:8080/"
        },
        "id": "3V1QWG42TZd9",
        "outputId": "cd1f4c09-4af5-4e36-fb7a-93cba67ac25f"
      },
      "outputs": [
        {
          "data": {
            "text/plain": [
              "2.299999999999983"
            ]
          },
          "execution_count": 17,
          "metadata": {},
          "output_type": "execute_result"
        }
      ],
      "source": [
        "np.mean(sample1) - np.mean(sample2)"
      ]
    },
    {
      "cell_type": "code",
      "execution_count": 18,
      "metadata": {
        "colab": {
          "base_uri": "https://localhost:8080/"
        },
        "id": "HinXDieAThBa",
        "outputId": "9f75b0ca-7a83-4094-89e3-0ae249460633"
      },
      "outputs": [
        {
          "data": {
            "text/plain": [
              "Ttest_indResult(statistic=1.0180490933114394, pvalue=0.3221439659797273)"
            ]
          },
          "execution_count": 18,
          "metadata": {},
          "output_type": "execute_result"
        }
      ],
      "source": [
        "stats.ttest_ind(a=sample1, b=sample2)"
      ]
    },
    {
      "cell_type": "code",
      "execution_count": 19,
      "metadata": {
        "colab": {
          "base_uri": "https://localhost:8080/"
        },
        "id": "X8PeJ_46Ti6a",
        "outputId": "9f4ff7d8-f6d7-46d7-a5c4-beece831de7d"
      },
      "outputs": [
        {
          "data": {
            "text/plain": [
              "0.006431999999999982"
            ]
          },
          "execution_count": 19,
          "metadata": {},
          "output_type": "execute_result"
        }
      ],
      "source": [
        "diff = []\n",
        "for i in range(10000):\n",
        "    sample1 = males_heights.sample(n=10)\n",
        "    sample2 = males_heights.sample(n=10)\n",
        "    diff.append(np.mean(sample1) - np.mean(sample2))\n",
        "\n",
        "np.mean(diff)"
      ]
    },
    {
      "cell_type": "code",
      "execution_count": 20,
      "metadata": {
        "colab": {
          "base_uri": "https://localhost:8080/",
          "height": 537
        },
        "id": "Y-1z0OzOTkbM",
        "outputId": "74435bc1-f6a5-4470-a7ba-09d8ac0123c6"
      },
      "outputs": [
        {
          "data": {
            "text/plain": [
              "(array([  15.,   98.,  465., 1418., 2451., 2692., 1889.,  752.,  197.,\n",
              "          23.]),\n",
              " array([-11.74,  -9.48,  -7.22,  -4.96,  -2.7 ,  -0.44,   1.82,   4.08,\n",
              "          6.34,   8.6 ,  10.86]),\n",
              " <BarContainer object of 10 artists>)"
            ]
          },
          "execution_count": 20,
          "metadata": {},
          "output_type": "execute_result"
        },
        {
          "data": {
            "image/png": "[encoded data removed]",
            "text/plain": [
              "<Figure size 640x480 with 1 Axes>"
            ]
          },
          "metadata": {},
          "output_type": "display_data"
        }
      ],
      "source": [
        "pyplot.hist(x=diff)"
      ]
    },
    {
      "cell_type": "code",
      "execution_count": 21,
      "metadata": {
        "colab": {
          "base_uri": "https://localhost:8080/"
        },
        "id": "ncVrAaLYTm4a",
        "outputId": "814a53e0-f42f-460d-a2a5-a35ada9756fe"
      },
      "outputs": [
        {
          "data": {
            "text/plain": [
              "13.534130000000001"
            ]
          },
          "execution_count": 21,
          "metadata": {},
          "output_type": "execute_result"
        }
      ],
      "source": [
        "diff = []\n",
        "for i in range(10000):\n",
        "    sample1 = males_heights.sample(n=10)\n",
        "    sample2 = females_heights.sample(n=10)\n",
        "    diff.append(np.mean(sample1) - np.mean(sample2))\n",
        "\n",
        "np.mean(diff)"
      ]
    },
    {
      "cell_type": "code",
      "execution_count": 22,
      "metadata": {
        "colab": {
          "base_uri": "https://localhost:8080/",
          "height": 537
        },
        "id": "MDEqEVkxTpJ6",
        "outputId": "f5d967bf-d472-4449-e1c5-6beda638443f"
      },
      "outputs": [
        {
          "data": {
            "text/plain": [
              "(array([  29.,  192.,  724., 1801., 2722., 2591., 1386.,  452.,   89.,\n",
              "          14.]),\n",
              " array([ 3.58 ,  5.644,  7.708,  9.772, 11.836, 13.9  , 15.964, 18.028,\n",
              "        20.092, 22.156, 24.22 ]),\n",
              " <BarContainer object of 10 artists>)"
            ]
          },
          "execution_count": 22,
          "metadata": {},
          "output_type": "execute_result"
        },
        {
          "data": {
            "image/png": "[encoded data removed]",
            "text/plain": [
              "<Figure size 640x480 with 1 Axes>"
            ]
          },
          "metadata": {},
          "output_type": "display_data"
        }
      ],
      "source": [
        "pyplot.hist(x=diff)"
      ]
    },
    {
      "cell_type": "code",
      "execution_count": null,
      "metadata": {
        "id": "TCaLpzWmT1En"
      },
      "outputs": [],
      "source": []
    }
  ],
  "metadata": {
    "colab": {
      "authorship_tag": "ABX9TyPy6aVIxH8+72p1Oh0Ye4ow",
      "include_colab_link": true,
      "provenance": []
    },
    "kernelspec": {
      "display_name": "Python 3",
      "name": "python3"
    },
    "language_info": {
      "codemirror_mode": {
        "name": "ipython",
        "version": 3
      },
      "file_extension": ".py",
      "mimetype": "text/x-python",
      "name": "python",
      "nbconvert_exporter": "python",
      "pygments_lexer": "ipython3",
      "version": "3.11.1"
    }
  },
  "nbformat": 4,
  "nbformat_minor": 0
}
